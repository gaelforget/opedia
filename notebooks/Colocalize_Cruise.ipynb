{
 "cells": [
  {
   "cell_type": "markdown",
   "metadata": {},
   "source": [
    "# Colocalize Darwin model and satellite data with cruise\n",
    "\n",
    "Compare the underway (in-situ) picoeukaryote abundance measurements performed during the \"Gradients1.0\" cruise with satellite chlorophyll data and picoeukaryote monthly climatology estimates provided by Darwin model.\n",
    "\n",
    "<br/> \n",
    "**Notes:**<br/> \n",
    "\n",
    "* In-Situ picoeukaryote abundance measurements are results of the SeaFlow data set with 3-minute temporal resultion and irregular spatial resultion.\n",
    "\n",
    "* Satellite Chlorophyll data used in this example is a daily-global reprocessed and optimally interpolated data set with $4~{\\rm km}\\times4~{\\rm km}$ spatial resolution. \n",
    "\n",
    "* Darwin_Climatology is a monthly climatology version of the Darwin model with spatial resolution $\\frac{1}{2}^\\circ \\times \\frac{1}{2}^\\circ$.<br/>\n",
    "\n",
    "<br/>\n"
   ]
  },
  {
   "cell_type": "code",
   "execution_count": null,
   "metadata": {
    "scrolled": true
   },
   "outputs": [],
   "source": [
    "from opedia import plotCruise as CRS\n",
    "\n",
    "DB_Cruise = True                 # < True > if cruise trajectory already exists in DB. < False > if arbiturary cruise file (e.g. virtual) \n",
    "source = 'tblSeaFlow'            # cruise table name or path to csv trajectory file    \n",
    "cruise = 'Gradients1.0'          # cruise name, or file name of the csv trajectory file     \n",
    "resampTau = '6H'                 # resample the cruise trajectory making trajectory time-space resolution coarser: e.g. '6H' (6 hourly), '3T' (3 minutes), ... '0' (ignore)  \n",
    "fname = 'alongTrack'             # figure filename\n",
    "tables = ['tblSeaFlow', 'tblDarwin_Plankton_Climatology', 'tblCHL_OI_REP']    # list of varaible table names               \n",
    "variables = ['picoeuk', 'picoeukaryote_c03_darwin_clim', 'chl']               # list of variable names           \n",
    "spatialTolerance = 0.3           # colocalizer spatial tolerance (+/- degrees) \n",
    "exportDataFlag = False           # export the cruise trajectory and colocalized data on disk\n",
    "depth1 = 0                       # depth range start (m) \n",
    "depth2 = 5                       # depth range end (m)  \n",
    "\n",
    "\n",
    "df = CRS.getCruiseTrack(DB_Cruise, source, cruise)\n",
    "df = CRS.resample(df, resampTau) \n",
    "loadedTrack = CRS.plotAlongTrack(tables, variables, cruise, resampTau, df, spatialTolerance, depth1, depth2, fname, exportDataFlag, marker='-', msize=30, clr='darkturquoise')"
   ]
  }
 ],
 "metadata": {
  "kernelspec": {
   "display_name": "Python 3",
   "language": "python",
   "name": "python3"
  },
  "language_info": {
   "codemirror_mode": {
    "name": "ipython",
    "version": 3
   },
   "file_extension": ".py",
   "mimetype": "text/x-python",
   "name": "python",
   "nbconvert_exporter": "python",
   "pygments_lexer": "ipython3",
   "version": "3.7.0"
  }
 },
 "nbformat": 4,
 "nbformat_minor": 2
}
