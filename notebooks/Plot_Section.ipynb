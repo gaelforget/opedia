{
 "cells": [
  {
   "cell_type": "markdown",
   "metadata": {},
   "source": [
    "# Plot Section Map (Model outputs)\n",
    "\n",
    "Create section maps using Darwin and PISCES model outputs.\n",
    "<br/> <br/>\n",
    "**Notes:**\n",
    "* Darwin_Climatology is a monthly climatology version of the Darwin model with spatial resolution $\\frac{1}{2}^\\circ \\times \\frac{1}{2}^\\circ$.<br/>\n",
    "\n",
    "* Pisces model is a weekly-averaged global model with spatial resolution $\\frac{1}{2}^\\circ \\times \\frac{1}{2}^\\circ$ (data is available only at one-week intervals).<br/>\n"
   ]
  },
  {
   "cell_type": "code",
   "execution_count": null,
   "metadata": {},
   "outputs": [],
   "source": [
    "from opedia import plotSection as SEC\n",
    "\n",
    "tables = ['tblDarwin_Nutrient_Climatology', 'tblPisces_NRT']     # see catalog.csv  for the complete list of tables and variable names      \n",
    "variables = ['CDOM_darwin_clim', 'Fe']                           # see catalog.csv  for the complete list of tables and variable names\n",
    "startDate = '2016-04-30'                                         # PISCES is a weekly model, and here we are using monthly climatology of Darwin model\n",
    "endDate = '2016-04-30'\n",
    "lat1, lat2 = 20, 55\n",
    "lon1, lon2 = -159, -157\n",
    "depth1, depth2 = 0, 6000\n",
    "fname = 'SEC'\n",
    "exportDataFlag = False                                           # True if you you want to download data\n",
    "\n",
    "SEC.sectionMap(tables, variables, startDate, endDate, lat1, lat2, lon1, lon2, depth1, depth2, fname, exportDataFlag)"
   ]
  }
 ],
 "metadata": {
  "kernelspec": {
   "display_name": "Python 2",
   "language": "python",
   "name": "python2"
  },
  "language_info": {
   "codemirror_mode": {
    "name": "ipython",
    "version": 2
   },
   "file_extension": ".py",
   "mimetype": "text/x-python",
   "name": "python",
   "nbconvert_exporter": "python",
   "pygments_lexer": "ipython2",
   "version": "2.7.15"
  }
 },
 "nbformat": 4,
 "nbformat_minor": 2
}
