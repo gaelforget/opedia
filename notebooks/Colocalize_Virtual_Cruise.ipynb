{
 "cells": [
  {
   "cell_type": "markdown",
   "metadata": {},
   "source": [
    "# Colocalize Darwin model, satellite data with a virtual cruise\n",
    "\n",
    "Colocalize a virtual cruise with satellite chlorophyll data and picoeukaryote climatological estimates provided by Darwin model. The trajectory of the virtual cruise is stored in a .csv file.\n",
    "\n",
    "<br/> \n",
    "**Notes:**<br/> \n",
    "\n",
    "* Satellite sea surface temperatue data used in this example is a daily-global near-real-time and optimally interpolated data set with 4km$\\times$4km spatial resolution $\\frac{1}{4}^\\circ \\times \\frac{1}{4}^\\circ$. <br/>\n",
    "\n",
    "* Satellite Chlorophyll data used in this example is a daily-global reprocessed and optimally interpolated data set with $4~{\\rm km}\\times4~{\\rm km}$ spatial resolution. <br/>\n",
    "\n",
    "* Darwin_Climatology is a monthly climatology version of the Darwin model with spatial resolution $\\frac{1}{2}^\\circ \\times \\frac{1}{2}^\\circ$.<br/>\n",
    "\n",
    "<br/>\n"
   ]
  },
  {
   "cell_type": "code",
   "execution_count": null,
   "metadata": {},
   "outputs": [],
   "source": [
    "from opedia import plotCruise as CRS\n",
    "import os\n",
    "\n",
    "DB_Cruise = False                                  # < True > if cruise trajectory already exists in DB. < False > if arbiturary cruise file (e.g. virtual) \n",
    "source = './virtual_parity_scope_2.csv'            # cruise table name or path to csv trajectory file    \n",
    "cruise = os.path.splitext(source)[0]               # cruise name, or file name of the csv trajectory file     \n",
    "resampTau = '6H'                                   # resample the cruise trajectory making trajectory time-space resolution coarser: e.g. '6H' (6 hourly), '3T' (3 minutes), ... '0' (ignore)  \n",
    "fname = 'alongTrack'                               # figure filename\n",
    "tables = ['tblSST_AVHRR_OI_NRT', 'tblCHL_OI_REP', 'tblDarwin_Plankton_Climatology']    # list of varaible table names               \n",
    "variables = ['sst', 'chl', 'picoeukaryote_c03_darwin_clim']                            # list of variable names           \n",
    "spatialTolerance = 0.3                             # colocalizer spatial tolerance (+/- degrees) \n",
    "depth1 = 0.3                                       # depth range start (m) \n",
    "depth2 = 5                                         # depth range end (m)  \n",
    "exportDataFlag = False                             # export the cruise trajectory and colocalized data on disk\n",
    "\n",
    "    \n",
    "    \n",
    "df = CRS.getCruiseTrack(DB_Cruise, source, cruise)\n",
    "df = CRS.resample(df, resampTau) \n",
    "loadedTrack = CRS.plotAlongTrack(tables, variables, cruise, resampTau, df, spatialTolerance, depth1, depth2, fname, exportDataFlag, marker='-', msize=30, clr='darkturquoise')\n"
   ]
  }
 ],
 "metadata": {
  "kernelspec": {
   "display_name": "Python 3",
   "language": "python",
   "name": "python3"
  },
  "language_info": {
   "codemirror_mode": {
    "name": "ipython",
    "version": 3
   },
   "file_extension": ".py",
   "mimetype": "text/x-python",
   "name": "python",
   "nbconvert_exporter": "python",
   "pygments_lexer": "ipython3",
   "version": "3.7.3"
  }
 },
 "nbformat": 4,
 "nbformat_minor": 2
}
