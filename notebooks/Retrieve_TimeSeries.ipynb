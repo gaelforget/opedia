{
 "cells": [
  {
   "cell_type": "markdown",
   "metadata": {},
   "source": [
    "# Time series subset\n",
    "This tutorial shows how to retrieve time series of a variable within a predefined space-time domain. You need to know the variable and table names, both of which can be found in the catalog. The *timeSeries* function computes the mean and standard deviation of the variable per time period. Data is retrieved in form of a dataframe with time, space, and variable columns. <br/> <br/> "
   ]
  },
  {
   "cell_type": "code",
   "execution_count": 1,
   "metadata": {},
   "outputs": [],
   "source": [
    "from opedia import subset\n",
    "\n",
    "############## set parameters ################\n",
    "table = 'tblsst_AVHRR_OI_NRT'\n",
    "variable = 'sst'       \n",
    "dt1 = '2016-06-01'\n",
    "dt2 = '2016-07-01'\n",
    "lat1, lat2, lon1, lon2 = 23, 24, -160, -158  \n",
    "depth1, depth2 = 0, 0\n",
    "##############################################\n",
    "\n",
    "df = subset.timeSeries(table, variable, dt1, dt2, lat1, lat2, lon1, lon2, depth1, depth2)    # retrieves a DataFrame\n",
    "#df.to_csv('data.csv', index=False)      # save the retrieved data into a csv file"
   ]
  },
  {
   "cell_type": "code",
   "execution_count": null,
   "metadata": {},
   "outputs": [],
   "source": []
  }
 ],
 "metadata": {
  "kernelspec": {
   "display_name": "Python 3",
   "language": "python",
   "name": "python3"
  },
  "language_info": {
   "codemirror_mode": {
    "name": "ipython",
    "version": 3
   },
   "file_extension": ".py",
   "mimetype": "text/x-python",
   "name": "python",
   "nbconvert_exporter": "python",
   "pygments_lexer": "ipython3",
   "version": "3.7.0"
  }
 },
 "nbformat": 4,
 "nbformat_minor": 2
}
