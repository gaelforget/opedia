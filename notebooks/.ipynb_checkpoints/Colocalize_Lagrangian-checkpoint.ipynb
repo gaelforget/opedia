{
 "cells": [
  {
   "cell_type": "markdown",
   "metadata": {},
   "source": [
    "# Colocalize a Lagrangian path with model and satellite data\n",
    "\n",
    "As far as oceanic observation methodology is concerned, one can consider two major class of observations:\n",
    "* Eulerian\n",
    "* Lagrangian\n",
    "\n",
    "Eulerian measurements are made at a fixed frame of reference which means the sensor is fixed at a given location and fluid is passing by. Lagrangian measurements are made from the perspective of water parcels which means the sensor propagates with the flow. This example demonstrates how to advect a passive tracer (massless particle) with the flow and construct a Lagrangian path. We then colocalize the Lagrangian path with other data sets (SST satellite and model-generated diazotroph concentration) to simulate a Lagrangian measurement. \n",
    "\n",
    "<br/> \n",
    "**Notes:**<br/> \n",
    "* Darwin_Climatology is a monthly climatology version of the Darwin model with spatial resolution $\\frac{1}{2}^\\circ \\times \\frac{1}{2}^\\circ$.<br/>\n",
    "\n",
    "* Satellite SST data set is a daily-global product with spatial resolution $\\frac{1}{4}^\\circ \\times \\frac{1}{4}^\\circ$.<br/>\n",
    "\n"
   ]
  },
  {
   "cell_type": "code",
   "execution_count": null,
   "metadata": {},
   "outputs": [],
   "source": [
    "from opedia import Lagrangian as LAG\n",
    "import pandas as pd\n",
    "\n",
    "fmt='%Y-%m-%d'\n",
    "dt = 24*3600                                                          # propagation time step (day seconds)\n",
    "direction = 1                                                         # propagation direction (forward/backward in time  <1> / <-1>)\n",
    "startDate = '2016-01-01'                                              # propagation start date\n",
    "endDate = '2016-02-01'                                                # propagation end date\n",
    "lat0 = 36                                                             # starting poin latitude\n",
    "lon0 = -73                                                            # starting poin longitude\n",
    "fname = 'Tracer'                                                      # figure filename (and/or shape filename)\n",
    "tables = ['tblSST_AVHRR_OI_NRT', 'tblDarwin_Plankton_Climatology']    # list of varaible table names               \n",
    "variables = ['sst', 'diazotroph_c10_darwin_clim']                     # list of variable names           \n",
    "spatialTolerance = 0.3                                                # colocalizer spatial tolerance (+/- degrees) \n",
    "exportDataFlag = False                                                # export the cruise trajectory and colocalized data on disk\n",
    "depth1 = 0                                                            # depth range start (m) \n",
    "depth2 = 5                                                            # depth range end (m)  \n",
    "\n",
    "    \n",
    "df = pd.DataFrame()    \n",
    "df['time'], df['lat'], df['lon'] = LAG.propagate(direction, startDate, endDate, lat0, lon0, fmt, dt)\n",
    "LAG.plotAlongTrack(dt, fmt, tables, variables, df, spatialTolerance, depth1, depth2, exportDataFlag, fname, marker='-', msize=30, clr='darkturquoise')"
   ]
  }
 ],
 "metadata": {
  "kernelspec": {
   "display_name": "Python 3",
   "language": "python",
   "name": "python3"
  },
  "language_info": {
   "codemirror_mode": {
    "name": "ipython",
    "version": 3
   },
   "file_extension": ".py",
   "mimetype": "text/x-python",
   "name": "python",
   "nbconvert_exporter": "python",
   "pygments_lexer": "ipython3",
   "version": "3.6.4"
  }
 },
 "nbformat": 4,
 "nbformat_minor": 2
}
