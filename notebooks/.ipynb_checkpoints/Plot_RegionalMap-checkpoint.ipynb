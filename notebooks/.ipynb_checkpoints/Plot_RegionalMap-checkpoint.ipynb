{
 "cells": [
  {
   "cell_type": "markdown",
   "metadata": {},
   "source": [
    "# Plot Regional Maps (Satellite, Model)\n",
    "\n",
    "Create a regional map using satellite and model data.\n",
    "<br/> <br/>\n",
    "**Notes:**<br/> \n",
    "* Pisces model is a weekly-averaged global model with spatial resolution $\\frac{1}{2}^\\circ \\times \\frac{1}{2}^\\circ$ (data is available only at one-week intervals).<br/>\n",
    "\n",
    "* Satellite SST data set is a daily-global product with spatial resolution $\\frac{1}{4}^\\circ \\times \\frac{1}{4}^\\circ$.<br/>"
   ]
  },
  {
   "cell_type": "code",
   "execution_count": null,
   "metadata": {},
   "outputs": [],
   "source": [
    "from opedia import plotRegional as REG\n",
    "\n",
    "\n",
    "tables = ['tblsst_AVHRR_OI_NRT', 'tblPisces_NRT']    # see catalog.csv  for the complete list of tables and variable names\n",
    "variables = ['sst', 'Fe']                            # see catalog.csv  for the complete list of tables and variable names   \n",
    "startDate = '2016-04-30'\n",
    "endDate = '2016-04-30'\n",
    "lat1, lat2 = 10, 70\n",
    "lon1, lon2 = -180, -80\n",
    "depth1, depth2 = 0, 0.5\n",
    "fname = 'regional'\n",
    "exportDataFlag = False       # True if you you want to download data\n",
    "\n",
    "REG.regionalMap(tables, variables, startDate, endDate, lat1, lat2, lon1, lon2, depth1, depth2, fname, exportDataFlag)"
   ]
  },
  {
   "cell_type": "code",
   "execution_count": null,
   "metadata": {},
   "outputs": [],
   "source": []
  }
 ],
 "metadata": {
  "kernelspec": {
   "display_name": "Python 2",
   "language": "python",
   "name": "python2"
  },
  "language_info": {
   "codemirror_mode": {
    "name": "ipython",
    "version": 2
   },
   "file_extension": ".py",
   "mimetype": "text/x-python",
   "name": "python",
   "nbconvert_exporter": "python",
   "pygments_lexer": "ipython2",
   "version": "2.7.15"
  }
 },
 "nbformat": 4,
 "nbformat_minor": 2
}
