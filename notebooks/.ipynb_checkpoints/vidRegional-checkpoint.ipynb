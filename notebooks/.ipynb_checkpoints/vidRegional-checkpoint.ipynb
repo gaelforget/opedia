{
 "cells": [
  {
   "cell_type": "code",
   "execution_count": null,
   "metadata": {},
   "outputs": [],
   "source": [
    "from opedia import vidRegional as vREG\n",
    "\n",
    "\n",
    "tables = ['tblDarwin_Nutrient_3day']    \n",
    "variables = ['PO4_darwin_3day']         \n",
    "startDate = '2015-04-30'\n",
    "endDate = '2015-05-30'\n",
    "lat1, lat2 = 10, 70\n",
    "lon1, lon2 = -180, -120\n",
    "depth1, depth2 = 0, 5\n",
    "frameRate = 5\n",
    "cmap = 'PuOr'                         # https://matplotlib.org/3.1.0/tutorials/colors/colormaps.html\n",
    "bounds = [None, None]                 # if bounds are None, they'll be set automatically\n",
    "levels = 21\n",
    "\n",
    "vREG.regionalVideo(tables, variables, startDate, endDate, lat1, lat2, lon1, lon2, depth1, depth2, frameRate, cmap, bounds, levels)"
   ]
  },
  {
   "cell_type": "code",
   "execution_count": null,
   "metadata": {},
   "outputs": [],
   "source": []
  }
 ],
 "metadata": {
  "kernelspec": {
   "display_name": "Python 3",
   "language": "python",
   "name": "python3"
  },
  "language_info": {
   "codemirror_mode": {
    "name": "ipython",
    "version": 3
   },
   "file_extension": ".py",
   "mimetype": "text/x-python",
   "name": "python",
   "nbconvert_exporter": "python",
   "pygments_lexer": "ipython3",
   "version": "3.7.1"
  }
 },
 "nbformat": 4,
 "nbformat_minor": 2
}
