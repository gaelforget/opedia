{
 "cells": [
  {
   "cell_type": "markdown",
   "metadata": {},
   "source": [
    "# Space-Time subset\n",
    "This tutorial shows how to retrieve a generic distribution of a variable within a predefined space-time domain. You need to know the variable and table names, both which can be found in the catalog. Data is retrieved in form of a dataframe with time, space, and variable columns. <br/> <br/> "
   ]
  },
  {
   "cell_type": "code",
   "execution_count": 17,
   "metadata": {},
   "outputs": [],
   "source": [
    "from opedia import subset\n",
    "\n",
    "############## set parameters ################\n",
    "table = 'tblsst_AVHRR_OI_NRT'\n",
    "variable = 'sst'       \n",
    "dt1 = '2016-06-01'\n",
    "dt2 = '2016-06-05'\n",
    "lat1, lat2, lon1, lon2 = 23, 24, -160, -158  \n",
    "depth1, depth2 = 0, 0\n",
    "##############################################\n",
    "\n",
    "df = subset.spaceTime(table, variable, dt1, dt2, lat1, lat2, lon1, lon2, depth1, depth2)    # retrieves a DataFrame\n",
    "#df.to_csv('data.csv', index=False)      # save the retrieved data into a csv file"
   ]
  }
 ],
 "metadata": {
  "kernelspec": {
   "display_name": "Python 2",
   "language": "python",
   "name": "python2"
  },
  "language_info": {
   "codemirror_mode": {
    "name": "ipython",
    "version": 2
   },
   "file_extension": ".py",
   "mimetype": "text/x-python",
   "name": "python",
   "nbconvert_exporter": "python",
   "pygments_lexer": "ipython2",
   "version": "2.7.15"
  }
 },
 "nbformat": 4,
 "nbformat_minor": 2
}
