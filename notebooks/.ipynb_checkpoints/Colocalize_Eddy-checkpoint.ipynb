{
 "cells": [
  {
   "cell_type": "markdown",
   "metadata": {},
   "source": [
    "# Colocalize Darwin model and satellite data with cruise\n",
    "\n",
    "Compare the underway (in-situ) picoeukaryote abundance measurements performed during the \"Gradient1.0\" (aka SCOPE_16) with satellite chlorophyll data and picoeukaryote climatological estimates provided by Darwin model.\n",
    "\n",
    "<br/> \n",
    "**Notes:**<br/> \n",
    "\n",
    "* In-Situ picoeukaryote abundance measurements are results of the SeaFlow data set with 3-minute temporal resultion and irregular spatial resultion.\n",
    "\n",
    "* Satellite Chlorophyll data used in this example is a daily-global reprocessed and optimally interpolated data set with $4~{\\rm km}\\times4~{\\rm km}$ spatial resolution. \n",
    "\n",
    "* Darwin_Climatology is a monthly climatology version of the Darwin model with spatial resolution $\\frac{1}{2}^\\circ \\times \\frac{1}{2}^\\circ$.<br/>\n",
    "\n",
    "<br/>\n"
   ]
  },
  {
   "cell_type": "code",
   "execution_count": null,
   "metadata": {},
   "outputs": [],
   "source": [
    "from opedia import eddy as EDD\n",
    "\n",
    "eddyTable = 'tblChelton'                                              # eddy table name\n",
    "startDate = '2014-04-01'                                              # eddy cores within the delimited space-time (start date)\n",
    "endDate = '2014-05-01'                                                # eddy cores within the delimited space-time (end date)   \n",
    "lat1 = 23                                                             # eddy cores within the delimited space-time (start lat)\n",
    "lat2 = 29                                                             # eddy cores within the delimited space-time (end lat)               \n",
    "lon1 = -161                                                           # eddy cores within the delimited space-time (start lon)\n",
    "lon2 = -151                                                           # eddy cores within the delimited space-time (end lon)\n",
    "fname = 'eddy'                                                        # figure filename (and/or shape filename)\n",
    "tables = ['tblSST_AVHRR_OI_NRT', 'tblDarwin_Nutrient_Climatology']    # list of varaible table names               \n",
    "variables = ['sst', 'DON_darwin_clim']                         # list of variable names           \n",
    "spatialTolerance = 0.3                                                # colocalizer spatial tolerance (+/- degrees) \n",
    "exportDataFlag = False                                                # export the cruise trajectory and colocalized data on disk\n",
    "depth1 = 0                                                            # depth range start (m) \n",
    "depth2 = 5                                                            # depth range end (m)  \n",
    "\n",
    "\n",
    "cores = EDD.getEddies(eddyTable, startDate, endDate, lat1, lat2, lon1, lon2)\n",
    "EDD.colocalize(tables, variables, cores, spatialTolerance, depth1, depth2, exportDataFlag, fname, marker='-')"
   ]
  }
 ],
 "metadata": {
  "kernelspec": {
   "display_name": "Python 3",
   "language": "python",
   "name": "python3"
  },
  "language_info": {
   "codemirror_mode": {
    "name": "ipython",
    "version": 3
   },
   "file_extension": ".py",
   "mimetype": "text/x-python",
   "name": "python",
   "nbconvert_exporter": "python",
   "pygments_lexer": "ipython3",
   "version": "3.6.4"
  }
 },
 "nbformat": 4,
 "nbformat_minor": 2
}
