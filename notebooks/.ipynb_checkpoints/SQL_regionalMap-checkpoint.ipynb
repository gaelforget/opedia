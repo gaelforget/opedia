{
 "cells": [
  {
   "cell_type": "markdown",
   "metadata": {},
   "source": [
    "# LowLevel: Regional Map SQL\n",
    "If you are familiar with SQL or T-SQL language, you and use \"dbfFetch()\" function to execute any generic query and retrieve data. Below is a simple example showing how to retrieve a snapshot and plot a basic map."
   ]
  },
  {
   "cell_type": "code",
   "execution_count": null,
   "metadata": {},
   "outputs": [],
   "source": [
    "from opedia import db\n",
    "import numpy as np\n",
    "import matplotlib.pyplot as plt\n",
    "%matplotlib inline"
   ]
  },
  {
   "cell_type": "markdown",
   "metadata": {},
   "source": [
    "## Basic image plot"
   ]
  },
  {
   "cell_type": "code",
   "execution_count": null,
   "metadata": {},
   "outputs": [],
   "source": [
    "def plot(dt, lat, lon, data):\n",
    "    plt.imshow(data, extent=[np.min(lon), np.max(lon), np.min(lat), np.max(lat)], origin='bottom', vmin=0, vmax=1e-4)\n",
    "    plt.title(field + '\\n ' + dt1)\n",
    "    plt.colorbar()\n",
    "    plt.show()\n"
   ]
  },
  {
   "cell_type": "markdown",
   "metadata": {},
   "source": [
    "## Construct the query statement"
   ]
  },
  {
   "cell_type": "code",
   "execution_count": null,
   "metadata": {},
   "outputs": [],
   "source": [
    "def prepareQuery(args):\n",
    "    query = \"SELECT [time], lat, lon, depth, %s FROM %s WHERE \"\n",
    "    query += \"[time] BETWEEN'%s' AND '%s' AND \"\n",
    "    query += \"lat BETWEEN %f AND %f AND \"\n",
    "    query += \"lon BETWEEN %f AND %f AND \"\n",
    "    query += \"depth BETWEEN %f AND %f \"\n",
    "    query += \"ORDER BY [time], lat, lon, depth \"\n",
    "    query = query % args\n",
    "    return query"
   ]
  },
  {
   "cell_type": "markdown",
   "metadata": {},
   "source": [
    "<br/> <br/> <br/>\n",
    "## Retrieve regional data and plot "
   ]
  },
  {
   "cell_type": "code",
   "execution_count": null,
   "metadata": {},
   "outputs": [],
   "source": [
    "############## set parameters ################\n",
    "table = 'tblPisces_NRT'\n",
    "field = 'Fe'        # Mole concentration of dissolved Iron \n",
    "dt1 = '2017-06-03'\n",
    "dt2 = '2017-06-03'\n",
    "lat1, lat2, lon1, lon2 = 10, 55, -180, -100  \n",
    "depth1 = 0\n",
    "depth2 = 1\n",
    "##############################################\n",
    "args = (field, table, dt1, dt2, lat1, lat2, lon1, lon2, depth1, depth2)\n",
    "query = prepareQuery(args)\n",
    "df = db.dbFetch(query)        \n",
    "lat = df.lat.unique()\n",
    "lon = df.lon.unique()\n",
    "shape = (len(lat), len(lon))\n",
    "data = df[field].values.reshape(shape)\n",
    "#df.to_csv(field+'.csv', index=False)    # export data\n",
    "plot(dt1, lat, lon, data)"
   ]
  },
  {
   "cell_type": "code",
   "execution_count": null,
   "metadata": {},
   "outputs": [],
   "source": []
  }
 ],
 "metadata": {
  "kernelspec": {
   "display_name": "Python 2",
   "language": "python",
   "name": "python2"
  },
  "language_info": {
   "codemirror_mode": {
    "name": "ipython",
    "version": 2
   },
   "file_extension": ".py",
   "mimetype": "text/x-python",
   "name": "python",
   "nbconvert_exporter": "python",
   "pygments_lexer": "ipython2",
   "version": "2.7.14"
  }
 },
 "nbformat": 4,
 "nbformat_minor": 2
}
