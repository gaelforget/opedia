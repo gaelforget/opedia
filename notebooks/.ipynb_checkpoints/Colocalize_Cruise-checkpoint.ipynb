{
 "cells": [
  {
   "cell_type": "markdown",
   "metadata": {},
   "source": [
    "# Colocalize Darwin model and satellite data with cruise\n",
    "\n",
    "Compare the underway (in-situ) picoeukaryote abundance measurements performed during the TN292 cruise with satellite chlorophyll data and picoeukaryote monthly climatology estimates provided by Darwin model.\n",
    "\n",
    "<br/> \n",
    "**Notes:**<br/> \n",
    "\n",
    "* In-Situ picoeukaryote abundance measurements are results of the SeaFlow data set with 3-minute temporal resultion and irregular spatial resultion.\n",
    "\n",
    "* Satellite Chlorophyll data used in this example is a daily-global reprocessed and optimally interpolated data set with $4~{\\rm km}\\times4~{\\rm km}$ spatial resolution. \n",
    "\n",
    "* Darwin_Climatology is a monthly climatology version of the Darwin model with spatial resolution $\\frac{1}{2}^\\circ \\times \\frac{1}{2}^\\circ$.<br/>\n",
    "\n",
    "<br/>\n"
   ]
  },
  {
   "cell_type": "code",
   "execution_count": 9,
   "metadata": {
    "scrolled": false
   },
   "outputs": [
    {
     "data": {
      "application/vnd.jupyter.widget-view+json": {
       "model_id": "1b24f412cb70466483223171e82fc16c",
       "version_major": 2,
       "version_minor": 0
      },
      "text/plain": [
       "HBox(children=(IntProgress(value=0, description='overall', max=3, style=ProgressStyle(description_width='initi…"
      ]
     },
     "metadata": {},
     "output_type": "display_data"
    },
    {
     "data": {
      "application/vnd.jupyter.widget-view+json": {
       "model_id": "8b70deee50a6496798cbe6ecec3dbc25",
       "version_major": 2,
       "version_minor": 0
      },
      "text/plain": [
       "HBox(children=(IntProgress(value=0, description='picoeuk_abundance', max=30, style=ProgressStyle(description_w…"
      ]
     },
     "metadata": {},
     "output_type": "display_data"
    },
    {
     "data": {
      "application/vnd.jupyter.widget-view+json": {
       "model_id": "9d5cb33b785647629f1b93115b6251c4",
       "version_major": 2,
       "version_minor": 0
      },
      "text/plain": [
       "HBox(children=(IntProgress(value=0, description='picoeukaryote_c03_darwin_clim', max=30, style=ProgressStyle(d…"
      ]
     },
     "metadata": {},
     "output_type": "display_data"
    },
    {
     "data": {
      "application/vnd.jupyter.widget-view+json": {
       "model_id": "baa0f44f459944d6adc0d30c34113b1f",
       "version_major": 2,
       "version_minor": 0
      },
      "text/plain": [
       "HBox(children=(IntProgress(value=0, description='chl', max=30, style=ProgressStyle(description_width='initial'…"
      ]
     },
     "metadata": {},
     "output_type": "display_data"
    },
    {
     "name": "stdout",
     "output_type": "stream",
     "text": [
      "\n"
     ]
    },
    {
     "data": {
      "text/html": [
       "\n",
       "\n",
       "\n",
       "\n",
       "\n",
       "\n",
       "  <div class=\"bk-root\" id=\"25fdfa6b-9efd-4013-8a46-c1b5e7c7dae1\" data-root-id=\"5779\"></div>\n"
      ]
     },
     "metadata": {},
     "output_type": "display_data"
    },
    {
     "data": {
      "application/javascript": [
       "(function(root) {\n",
       "  function embed_document(root) {\n",
       "    \n",
       "  var docs_json = {\"ae30a7f9-b262-406a-b80a-a9e5910069e2\":{\"roots\":{\"references\":[{\"attributes\":{\"children\":[{\"id\":\"5524\",\"subtype\":\"Figure\",\"type\":\"Plot\"},{\"id\":\"5609\",\"subtype\":\"Figure\",\"type\":\"Plot\"},{\"id\":\"5694\",\"subtype\":\"Figure\",\"type\":\"Plot\"}]},\"id\":\"5779\",\"type\":\"Column\"},{\"attributes\":{},\"id\":\"5718\",\"type\":\"UndoTool\"},{\"attributes\":{\"below\":[{\"id\":\"5618\",\"type\":\"LinearAxis\"}],\"center\":[{\"id\":\"5622\",\"type\":\"Grid\"},{\"id\":\"5627\",\"type\":\"Grid\"},{\"id\":\"5671\",\"type\":\"Legend\"}],\"left\":[{\"id\":\"5623\",\"type\":\"LinearAxis\"}],\"plot_height\":400,\"plot_width\":800,\"renderers\":[{\"id\":\"5659\",\"type\":\"GlyphRenderer\"},{\"id\":\"5676\",\"type\":\"GlyphRenderer\"}],\"title\":{\"id\":\"5662\",\"type\":\"Title\"},\"toolbar\":{\"id\":\"5641\",\"type\":\"Toolbar\"},\"toolbar_location\":\"above\",\"x_range\":{\"id\":\"5610\",\"type\":\"DataRange1d\"},\"x_scale\":{\"id\":\"5614\",\"type\":\"LinearScale\"},\"y_range\":{\"id\":\"5612\",\"type\":\"DataRange1d\"},\"y_scale\":{\"id\":\"5616\",\"type\":\"LinearScale\"}},\"id\":\"5609\",\"subtype\":\"Figure\",\"type\":\"Plot\"},{\"attributes\":{\"bottom_units\":\"screen\",\"fill_alpha\":{\"value\":0.5},\"fill_color\":{\"value\":\"lightgrey\"},\"left_units\":\"screen\",\"level\":\"overlay\",\"line_alpha\":{\"value\":1.0},\"line_color\":{\"value\":\"black\"},\"line_dash\":[4,4],\"line_width\":{\"value\":2},\"render_mode\":\"css\",\"right_units\":\"screen\",\"top_units\":\"screen\"},\"id\":\"5583\",\"type\":\"BoxAnnotation\"},{\"attributes\":{\"fill_alpha\":{\"value\":0.5},\"fill_color\":{\"value\":\"lightgrey\"},\"level\":\"overlay\",\"line_alpha\":{\"value\":1.0},\"line_color\":{\"value\":\"black\"},\"line_dash\":[4,4],\"line_width\":{\"value\":2},\"xs_units\":\"screen\",\"ys_units\":\"screen\"},\"id\":\"5584\",\"type\":\"PolyAnnotation\"},{\"attributes\":{\"days\":[\"%d %B %Y %H:%M:%S\"],\"hours\":[\"%d %B %Y %H:%M:%S\"],\"months\":[\"%d %B %Y %H:%M:%S\"],\"years\":[\"%d %B %Y %H:%M:%S\"]},\"id\":\"5692\",\"type\":\"DatetimeTickFormatter\"},{\"attributes\":{\"fill_alpha\":{\"value\":0.5},\"fill_color\":{\"value\":\"lightgrey\"},\"level\":\"overlay\",\"line_alpha\":{\"value\":1.0},\"line_color\":{\"value\":\"black\"},\"line_dash\":[4,4],\"line_width\":{\"value\":2},\"xs_units\":\"screen\",\"ys_units\":\"screen\"},\"id\":\"5585\",\"type\":\"PolyAnnotation\"},{\"attributes\":{\"items\":[{\"id\":\"5587\",\"type\":\"LegendItem\"}]},\"id\":\"5586\",\"type\":\"Legend\"},{\"attributes\":{\"source\":{\"id\":\"5673\",\"type\":\"ColumnDataSource\"}},\"id\":\"5677\",\"type\":\"CDSView\"},{\"attributes\":{\"callback\":null,\"data\":{\"x\":[1362506400000.0,1362528000000.0,1362549600000.0,1362571200000.0,1362592800000.0,1362614400000.0,1362636000000.0,1362657600000.0,1362679200000.0,1362700800000.0,1362722400000.0,1362744000000.0,1362765600000.0,1362787200000.0,1362808800000.0,1362830400000.0,1362852000000.0,1362873600000.0,1362895200000.0,1362916800000.0,1362938400000.0,1362960000000.0,1362981600000.0,1363003200000.0,1363024800000.0,1363046400000.0,1363068000000.0,1363089600000.0,1363111200000.0,1363132800000.0],\"y\":{\"__ndarray__\":\"EWghGuHR/j/t5N6skYMTQKO6K+a8qRRArfQ2ImMtM0Ap/I5LZ+0pQNIYyUTclCJAns0qkT9VEEADtSxZX84RQAMEfxre8RdAg3/+stnDJkBSRyPUC8sbQH3z5BKPEx1AHSyWjGiTGEDmCrkmvAwjQLWLe23TgyBAu4UiC0b3G0DdGFXG45YMQATT196dvANA+35isZUf/T9J0TzxXJ37P1UoRbTFa/k/HpetMVEL/z+nUepyjrL1P/vWBZ88If4/v3VqRyAB/j/eHjMsCsn9PxOPANiN//Y/ROPl5ocY/D9WNAHCM4f1P2lQkHFLnfQ/\",\"dtype\":\"float64\",\"shape\":[30]}},\"selected\":{\"id\":\"6070\",\"type\":\"Selection\"},\"selection_policy\":{\"id\":\"6071\",\"type\":\"UnionRenderers\"}},\"id\":\"5588\",\"type\":\"ColumnDataSource\"},{\"attributes\":{\"callback\":null},\"id\":\"5610\",\"type\":\"DataRange1d\"},{\"attributes\":{\"line_color\":\"darkturquoise\",\"line_width\":2,\"x\":{\"field\":\"x\"},\"y\":{\"field\":\"y\"}},\"id\":\"5589\",\"type\":\"Line\"},{\"attributes\":{\"callback\":null},\"id\":\"5612\",\"type\":\"DataRange1d\"},{\"attributes\":{\"callback\":null,\"mode\":\"hline\",\"renderers\":[{\"id\":\"5659\",\"type\":\"GlyphRenderer\"}],\"tooltips\":null},\"id\":\"5690\",\"type\":\"HoverTool\"},{\"attributes\":{\"line_alpha\":0.1,\"line_color\":\"#1f77b4\",\"line_width\":2,\"x\":{\"field\":\"x\"},\"y\":{\"field\":\"y\"}},\"id\":\"5590\",\"type\":\"Line\"},{\"attributes\":{},\"id\":\"5685\",\"type\":\"UnionRenderers\"},{\"attributes\":{\"data_source\":{\"id\":\"5588\",\"type\":\"ColumnDataSource\"},\"glyph\":{\"id\":\"5589\",\"type\":\"Line\"},\"hover_glyph\":null,\"muted_glyph\":null,\"nonselection_glyph\":{\"id\":\"5590\",\"type\":\"Line\"},\"selection_glyph\":null,\"view\":{\"id\":\"5592\",\"type\":\"CDSView\"}},\"id\":\"5591\",\"type\":\"GlyphRenderer\"},{\"attributes\":{},\"id\":\"5614\",\"type\":\"LinearScale\"},{\"attributes\":{},\"id\":\"5684\",\"type\":\"Selection\"},{\"attributes\":{\"source\":{\"id\":\"5588\",\"type\":\"ColumnDataSource\"}},\"id\":\"5592\",\"type\":\"CDSView\"},{\"attributes\":{\"bottom_units\":\"screen\",\"fill_alpha\":{\"value\":0.5},\"fill_color\":{\"value\":\"lightgrey\"},\"left_units\":\"screen\",\"level\":\"overlay\",\"line_alpha\":{\"value\":1.0},\"line_color\":{\"value\":\"black\"},\"line_dash\":[4,4],\"line_width\":{\"value\":2},\"render_mode\":\"css\",\"right_units\":\"screen\",\"top_units\":\"screen\"},\"id\":\"5668\",\"type\":\"BoxAnnotation\"},{\"attributes\":{},\"id\":\"5616\",\"type\":\"LinearScale\"},{\"attributes\":{\"bottom_units\":\"screen\",\"fill_alpha\":{\"value\":0.5},\"fill_color\":{\"value\":\"lightgrey\"},\"left_units\":\"screen\",\"level\":\"overlay\",\"line_alpha\":{\"value\":1.0},\"line_color\":{\"value\":\"black\"},\"line_dash\":[4,4],\"line_width\":{\"value\":2},\"render_mode\":\"css\",\"right_units\":\"screen\",\"top_units\":\"screen\"},\"id\":\"5667\",\"type\":\"BoxAnnotation\"},{\"attributes\":{},\"id\":\"5599\",\"type\":\"Selection\"},{\"attributes\":{\"data_source\":{\"id\":\"5673\",\"type\":\"ColumnDataSource\"},\"glyph\":{\"id\":\"5674\",\"type\":\"Line\"},\"hover_glyph\":null,\"muted_glyph\":null,\"nonselection_glyph\":{\"id\":\"5675\",\"type\":\"Line\"},\"selection_glyph\":null,\"view\":{\"id\":\"5677\",\"type\":\"CDSView\"}},\"id\":\"5676\",\"type\":\"GlyphRenderer\"},{\"attributes\":{\"formatter\":{\"id\":\"5692\",\"type\":\"DatetimeTickFormatter\"},\"major_label_orientation\":0.7853981633974483,\"ticker\":{\"id\":\"5619\",\"type\":\"BasicTicker\"}},\"id\":\"5618\",\"type\":\"LinearAxis\"},{\"attributes\":{},\"id\":\"5600\",\"type\":\"UnionRenderers\"},{\"attributes\":{},\"id\":\"5663\",\"type\":\"BasicTickFormatter\"},{\"attributes\":{},\"id\":\"5619\",\"type\":\"BasicTicker\"},{\"attributes\":{\"ticker\":{\"id\":\"5619\",\"type\":\"BasicTicker\"}},\"id\":\"5622\",\"type\":\"Grid\"},{\"attributes\":{\"text\":\"\"},\"id\":\"5662\",\"type\":\"Title\"},{\"attributes\":{\"axis_label\":\"picoeukaryote_c03_darwin_clim [mmol C/]\",\"formatter\":{\"id\":\"5663\",\"type\":\"BasicTickFormatter\"},\"ticker\":{\"id\":\"5624\",\"type\":\"BasicTicker\"}},\"id\":\"5623\",\"type\":\"LinearAxis\"},{\"attributes\":{\"fill_alpha\":{\"value\":0.5},\"fill_color\":{\"value\":\"lightgrey\"},\"level\":\"overlay\",\"line_alpha\":{\"value\":1.0},\"line_color\":{\"value\":\"black\"},\"line_dash\":[4,4],\"line_width\":{\"value\":2},\"xs_units\":\"screen\",\"ys_units\":\"screen\"},\"id\":\"5670\",\"type\":\"PolyAnnotation\"},{\"attributes\":{},\"id\":\"5624\",\"type\":\"BasicTicker\"},{\"attributes\":{\"dimension\":1,\"ticker\":{\"id\":\"5624\",\"type\":\"BasicTicker\"}},\"id\":\"5627\",\"type\":\"Grid\"},{\"attributes\":{\"line_color\":\"darkturquoise\",\"line_width\":2,\"x\":{\"field\":\"x\"},\"y\":{\"field\":\"y\"}},\"id\":\"5674\",\"type\":\"Line\"},{\"attributes\":{\"data_source\":{\"id\":\"5655\",\"type\":\"ColumnDataSource\"},\"glyph\":{\"id\":\"5656\",\"type\":\"Circle\"},\"hover_glyph\":{\"id\":\"5658\",\"type\":\"Circle\"},\"muted_glyph\":null,\"nonselection_glyph\":{\"id\":\"5657\",\"type\":\"Circle\"},\"selection_glyph\":null,\"view\":{\"id\":\"5660\",\"type\":\"CDSView\"}},\"id\":\"5659\",\"type\":\"GlyphRenderer\"},{\"attributes\":{\"fill_alpha\":{\"value\":0.5},\"fill_color\":{\"value\":\"lightgrey\"},\"level\":\"overlay\",\"line_alpha\":{\"value\":1.0},\"line_color\":{\"value\":\"black\"},\"line_dash\":[4,4],\"line_width\":{\"value\":2},\"xs_units\":\"screen\",\"ys_units\":\"screen\"},\"id\":\"5669\",\"type\":\"PolyAnnotation\"},{\"attributes\":{\"callback\":null,\"data\":{\"x\":[1362506400000.0,1362528000000.0,1362549600000.0,1362571200000.0,1362592800000.0,1362614400000.0,1362636000000.0,1362657600000.0,1362679200000.0,1362700800000.0,1362722400000.0,1362744000000.0,1362765600000.0,1362787200000.0,1362808800000.0,1362830400000.0,1362852000000.0,1362873600000.0,1362895200000.0,1362916800000.0,1362938400000.0,1362960000000.0,1362981600000.0,1363003200000.0,1363024800000.0,1363046400000.0,1363068000000.0,1363089600000.0,1363111200000.0,1363132800000.0],\"y\":{\"__ndarray__\":\"AAAAAAAA+H8AAAAAAAD4f1XFjqWTlcQ/ZLk6Oo04wj/ffumCNMLBP2X8XrfGb8A/GT5cUc4AwD8lAjhqQ82/P6SLTSuFQMA/tLHx5MOBwD8Lk07J3vfAP5zLJiPbF8E/xJm6hnRTwT9W79Nl75TBP2obHHj3eME/OKeKkFczwT9YrQrc07jAP6clFCpRWb8/AhzvTHADvT9GhpQg1RC8P+eTDVKN6rg/PEpnWHNdtj8rfc/lWYuzP1GShRpLebA/0O6xcGlnrj/EjxMh06ypP3cXxf70l6U/qY9BoJPboj9OAYSdz/GhPzDEAy3RF6I/\",\"dtype\":\"float64\",\"shape\":[30]}},\"selected\":{\"id\":\"6078\",\"type\":\"Selection\"},\"selection_policy\":{\"id\":\"6079\",\"type\":\"UnionRenderers\"}},\"id\":\"5673\",\"type\":\"ColumnDataSource\"},{\"attributes\":{\"fill_alpha\":{\"value\":0.3},\"fill_color\":{\"value\":\"firebrick\"},\"line_alpha\":{\"value\":0.3},\"line_color\":{\"value\":\"white\"},\"size\":{\"units\":\"screen\",\"value\":30},\"x\":{\"field\":\"x\"},\"y\":{\"field\":\"y\"}},\"id\":\"5573\",\"type\":\"Circle\"},{\"attributes\":{\"items\":[{\"id\":\"5672\",\"type\":\"LegendItem\"}]},\"id\":\"5671\",\"type\":\"Legend\"},{\"attributes\":{},\"id\":\"5628\",\"type\":\"PanTool\"},{\"attributes\":{\"label\":{\"value\":\"Along Track (TN292) picoeukaryote_c03_darwin_clim\"},\"renderers\":[{\"id\":\"5659\",\"type\":\"GlyphRenderer\"},{\"id\":\"5676\",\"type\":\"GlyphRenderer\"}]},\"id\":\"5672\",\"type\":\"LegendItem\"},{\"attributes\":{\"fill_alpha\":{\"value\":0.1},\"fill_color\":{\"value\":\"#1f77b4\"},\"line_alpha\":{\"value\":0.1},\"line_color\":{\"value\":\"#1f77b4\"},\"size\":{\"units\":\"screen\",\"value\":30},\"x\":{\"field\":\"x\"},\"y\":{\"field\":\"y\"}},\"id\":\"5657\",\"type\":\"Circle\"},{\"attributes\":{},\"id\":\"5629\",\"type\":\"WheelZoomTool\"},{\"attributes\":{},\"id\":\"5630\",\"type\":\"ZoomInTool\"},{\"attributes\":{\"line_alpha\":0.1,\"line_color\":\"#1f77b4\",\"line_width\":2,\"x\":{\"field\":\"x\"},\"y\":{\"field\":\"y\"}},\"id\":\"5675\",\"type\":\"Line\"},{\"attributes\":{},\"id\":\"5631\",\"type\":\"ZoomOutTool\"},{\"attributes\":{\"overlay\":{\"id\":\"5667\",\"type\":\"BoxAnnotation\"}},\"id\":\"5632\",\"type\":\"BoxZoomTool\"},{\"attributes\":{\"fill_alpha\":{\"value\":0.3},\"fill_color\":{\"value\":\"grey\"},\"line_color\":{\"value\":null},\"size\":{\"units\":\"screen\",\"value\":30},\"x\":{\"field\":\"x\"},\"y\":{\"field\":\"y\"}},\"id\":\"5656\",\"type\":\"Circle\"},{\"attributes\":{},\"id\":\"5633\",\"type\":\"UndoTool\"},{\"attributes\":{},\"id\":\"5634\",\"type\":\"RedoTool\"},{\"attributes\":{\"callback\":null,\"overlay\":{\"id\":\"5669\",\"type\":\"PolyAnnotation\"}},\"id\":\"5639\",\"type\":\"PolySelectTool\"},{\"attributes\":{\"callback\":null,\"overlay\":{\"id\":\"5670\",\"type\":\"PolyAnnotation\"}},\"id\":\"5640\",\"type\":\"LassoSelectTool\"},{\"attributes\":{\"fill_alpha\":{\"value\":0.3},\"fill_color\":{\"value\":\"firebrick\"},\"line_alpha\":{\"value\":0.3},\"line_color\":{\"value\":\"white\"},\"size\":{\"units\":\"screen\",\"value\":30},\"x\":{\"field\":\"x\"},\"y\":{\"field\":\"y\"}},\"id\":\"5658\",\"type\":\"Circle\"},{\"attributes\":{},\"id\":\"5635\",\"type\":\"ResetTool\"},{\"attributes\":{\"callback\":null,\"data\":{\"x\":[1362506400000.0,1362528000000.0,1362549600000.0,1362571200000.0,1362592800000.0,1362614400000.0,1362636000000.0,1362657600000.0,1362679200000.0,1362700800000.0,1362722400000.0,1362744000000.0,1362765600000.0,1362787200000.0,1362808800000.0,1362830400000.0,1362852000000.0,1362873600000.0,1362895200000.0,1362916800000.0,1362938400000.0,1362960000000.0,1362981600000.0,1363003200000.0,1363024800000.0,1363046400000.0,1363068000000.0,1363089600000.0,1363111200000.0,1363132800000.0],\"y\":{\"__ndarray__\":\"AAAAAAAA+H8AAAAAAAD4f1XFjqWTlcQ/ZLk6Oo04wj/ffumCNMLBP2X8XrfGb8A/GT5cUc4AwD8lAjhqQ82/P6SLTSuFQMA/tLHx5MOBwD8Lk07J3vfAP5zLJiPbF8E/xJm6hnRTwT9W79Nl75TBP2obHHj3eME/OKeKkFczwT9YrQrc07jAP6clFCpRWb8/AhzvTHADvT9GhpQg1RC8P+eTDVKN6rg/PEpnWHNdtj8rfc/lWYuzP1GShRpLebA/0O6xcGlnrj/EjxMh06ypP3cXxf70l6U/qY9BoJPboj9OAYSdz/GhPzDEAy3RF6I/\",\"dtype\":\"float64\",\"shape\":[30]}},\"selected\":{\"id\":\"5684\",\"type\":\"Selection\"},\"selection_policy\":{\"id\":\"5685\",\"type\":\"UnionRenderers\"}},\"id\":\"5655\",\"type\":\"ColumnDataSource\"},{\"attributes\":{},\"id\":\"5637\",\"type\":\"SaveTool\"},{\"attributes\":{\"source\":{\"id\":\"5655\",\"type\":\"ColumnDataSource\"}},\"id\":\"5660\",\"type\":\"CDSView\"},{\"attributes\":{\"active_drag\":\"auto\",\"active_inspect\":\"auto\",\"active_multi\":null,\"active_scroll\":\"auto\",\"active_tap\":\"auto\",\"tools\":[{\"id\":\"5628\",\"type\":\"PanTool\"},{\"id\":\"5629\",\"type\":\"WheelZoomTool\"},{\"id\":\"5630\",\"type\":\"ZoomInTool\"},{\"id\":\"5631\",\"type\":\"ZoomOutTool\"},{\"id\":\"5632\",\"type\":\"BoxZoomTool\"},{\"id\":\"5633\",\"type\":\"UndoTool\"},{\"id\":\"5634\",\"type\":\"RedoTool\"},{\"id\":\"5635\",\"type\":\"ResetTool\"},{\"id\":\"5636\",\"type\":\"TapTool\"},{\"id\":\"5637\",\"type\":\"SaveTool\"},{\"id\":\"5638\",\"type\":\"BoxSelectTool\"},{\"id\":\"5639\",\"type\":\"PolySelectTool\"},{\"id\":\"5640\",\"type\":\"LassoSelectTool\"},{\"id\":\"5690\",\"type\":\"HoverTool\"}]},\"id\":\"5641\",\"type\":\"Toolbar\"},{\"attributes\":{\"callback\":null,\"overlay\":{\"id\":\"5668\",\"type\":\"BoxAnnotation\"}},\"id\":\"5638\",\"type\":\"BoxSelectTool\"},{\"attributes\":{},\"id\":\"5578\",\"type\":\"BasicTickFormatter\"},{\"attributes\":{},\"id\":\"6070\",\"type\":\"Selection\"},{\"attributes\":{\"active_drag\":\"auto\",\"active_inspect\":\"auto\",\"active_multi\":null,\"active_scroll\":\"auto\",\"active_tap\":\"auto\",\"tools\":[{\"id\":\"5713\",\"type\":\"PanTool\"},{\"id\":\"5714\",\"type\":\"WheelZoomTool\"},{\"id\":\"5715\",\"type\":\"ZoomInTool\"},{\"id\":\"5716\",\"type\":\"ZoomOutTool\"},{\"id\":\"5717\",\"type\":\"BoxZoomTool\"},{\"id\":\"5718\",\"type\":\"UndoTool\"},{\"id\":\"5719\",\"type\":\"RedoTool\"},{\"id\":\"5720\",\"type\":\"ResetTool\"},{\"id\":\"5721\",\"type\":\"TapTool\"},{\"id\":\"5722\",\"type\":\"SaveTool\"},{\"id\":\"5723\",\"type\":\"BoxSelectTool\"},{\"id\":\"5724\",\"type\":\"PolySelectTool\"},{\"id\":\"5725\",\"type\":\"LassoSelectTool\"},{\"id\":\"5775\",\"type\":\"HoverTool\"}]},\"id\":\"5726\",\"type\":\"Toolbar\"},{\"attributes\":{},\"id\":\"5713\",\"type\":\"PanTool\"},{\"attributes\":{\"text\":\"\"},\"id\":\"5577\",\"type\":\"Title\"},{\"attributes\":{\"callback\":null,\"overlay\":{\"id\":\"5583\",\"type\":\"BoxAnnotation\"}},\"id\":\"5553\",\"type\":\"BoxSelectTool\"},{\"attributes\":{},\"id\":\"5714\",\"type\":\"WheelZoomTool\"},{\"attributes\":{\"fill_alpha\":{\"value\":0.1},\"fill_color\":{\"value\":\"#1f77b4\"},\"line_alpha\":{\"value\":0.1},\"line_color\":{\"value\":\"#1f77b4\"},\"size\":{\"units\":\"screen\",\"value\":30},\"x\":{\"field\":\"x\"},\"y\":{\"field\":\"y\"}},\"id\":\"5572\",\"type\":\"Circle\"},{\"attributes\":{},\"id\":\"6087\",\"type\":\"UnionRenderers\"},{\"attributes\":{},\"id\":\"5715\",\"type\":\"ZoomInTool\"},{\"attributes\":{},\"id\":\"5716\",\"type\":\"ZoomOutTool\"},{\"attributes\":{},\"id\":\"6086\",\"type\":\"Selection\"},{\"attributes\":{\"overlay\":{\"id\":\"5752\",\"type\":\"BoxAnnotation\"}},\"id\":\"5717\",\"type\":\"BoxZoomTool\"},{\"attributes\":{},\"id\":\"5552\",\"type\":\"SaveTool\"},{\"attributes\":{},\"id\":\"5770\",\"type\":\"UnionRenderers\"},{\"attributes\":{\"callback\":null,\"mode\":\"hline\",\"renderers\":[{\"id\":\"5574\",\"type\":\"GlyphRenderer\"}],\"tooltips\":null},\"id\":\"5605\",\"type\":\"HoverTool\"},{\"attributes\":{},\"id\":\"6079\",\"type\":\"UnionRenderers\"},{\"attributes\":{\"callback\":null,\"overlay\":{\"id\":\"5584\",\"type\":\"PolyAnnotation\"}},\"id\":\"5554\",\"type\":\"PolySelectTool\"},{\"attributes\":{},\"id\":\"5719\",\"type\":\"RedoTool\"},{\"attributes\":{\"callback\":null,\"mode\":\"hline\",\"renderers\":[{\"id\":\"5744\",\"type\":\"GlyphRenderer\"}],\"tooltips\":null},\"id\":\"5775\",\"type\":\"HoverTool\"},{\"attributes\":{},\"id\":\"5546\",\"type\":\"ZoomOutTool\"},{\"attributes\":{\"line_alpha\":0.1,\"line_color\":\"#1f77b4\",\"line_width\":2,\"x\":{\"field\":\"x\"},\"y\":{\"field\":\"y\"}},\"id\":\"5760\",\"type\":\"Line\"},{\"attributes\":{\"label\":{\"value\":\"Along Track (TN292) picoeuk_abundance\"},\"renderers\":[{\"id\":\"5574\",\"type\":\"GlyphRenderer\"},{\"id\":\"5591\",\"type\":\"GlyphRenderer\"}]},\"id\":\"5587\",\"type\":\"LegendItem\"},{\"attributes\":{},\"id\":\"5720\",\"type\":\"ResetTool\"},{\"attributes\":{},\"id\":\"6078\",\"type\":\"Selection\"},{\"attributes\":{\"callback\":null},\"id\":\"5721\",\"type\":\"TapTool\"},{\"attributes\":{},\"id\":\"6071\",\"type\":\"UnionRenderers\"},{\"attributes\":{\"callback\":null,\"overlay\":{\"id\":\"5585\",\"type\":\"PolyAnnotation\"}},\"id\":\"5555\",\"type\":\"LassoSelectTool\"},{\"attributes\":{},\"id\":\"5722\",\"type\":\"SaveTool\"},{\"attributes\":{},\"id\":\"5769\",\"type\":\"Selection\"},{\"attributes\":{\"callback\":null},\"id\":\"5551\",\"type\":\"TapTool\"},{\"attributes\":{\"line_color\":\"darkturquoise\",\"line_width\":2,\"x\":{\"field\":\"x\"},\"y\":{\"field\":\"y\"}},\"id\":\"5759\",\"type\":\"Line\"},{\"attributes\":{\"overlay\":{\"id\":\"5582\",\"type\":\"BoxAnnotation\"}},\"id\":\"5547\",\"type\":\"BoxZoomTool\"},{\"attributes\":{\"callback\":null,\"overlay\":{\"id\":\"5753\",\"type\":\"BoxAnnotation\"}},\"id\":\"5723\",\"type\":\"BoxSelectTool\"},{\"attributes\":{\"days\":[\"%d %B %Y %H:%M:%S\"],\"hours\":[\"%d %B %Y %H:%M:%S\"],\"months\":[\"%d %B %Y %H:%M:%S\"],\"years\":[\"%d %B %Y %H:%M:%S\"]},\"id\":\"5777\",\"type\":\"DatetimeTickFormatter\"},{\"attributes\":{\"callback\":null,\"overlay\":{\"id\":\"5754\",\"type\":\"PolyAnnotation\"}},\"id\":\"5724\",\"type\":\"PolySelectTool\"},{\"attributes\":{},\"id\":\"5545\",\"type\":\"ZoomInTool\"},{\"attributes\":{\"fill_alpha\":{\"value\":0.5},\"fill_color\":{\"value\":\"lightgrey\"},\"level\":\"overlay\",\"line_alpha\":{\"value\":1.0},\"line_color\":{\"value\":\"black\"},\"line_dash\":[4,4],\"line_width\":{\"value\":2},\"xs_units\":\"screen\",\"ys_units\":\"screen\"},\"id\":\"5755\",\"type\":\"PolyAnnotation\"},{\"attributes\":{\"source\":{\"id\":\"5758\",\"type\":\"ColumnDataSource\"}},\"id\":\"5762\",\"type\":\"CDSView\"},{\"attributes\":{\"callback\":null,\"overlay\":{\"id\":\"5755\",\"type\":\"PolyAnnotation\"}},\"id\":\"5725\",\"type\":\"LassoSelectTool\"},{\"attributes\":{\"data_source\":{\"id\":\"5570\",\"type\":\"ColumnDataSource\"},\"glyph\":{\"id\":\"5571\",\"type\":\"Circle\"},\"hover_glyph\":{\"id\":\"5573\",\"type\":\"Circle\"},\"muted_glyph\":null,\"nonselection_glyph\":{\"id\":\"5572\",\"type\":\"Circle\"},\"selection_glyph\":null,\"view\":{\"id\":\"5575\",\"type\":\"CDSView\"}},\"id\":\"5574\",\"type\":\"GlyphRenderer\"},{\"attributes\":{\"fill_alpha\":{\"value\":0.3},\"fill_color\":{\"value\":\"firebrick\"},\"line_alpha\":{\"value\":0.3},\"line_color\":{\"value\":\"white\"},\"size\":{\"units\":\"screen\",\"value\":30},\"x\":{\"field\":\"x\"},\"y\":{\"field\":\"y\"}},\"id\":\"5743\",\"type\":\"Circle\"},{\"attributes\":{},\"id\":\"5543\",\"type\":\"PanTool\"},{\"attributes\":{},\"id\":\"5550\",\"type\":\"ResetTool\"},{\"attributes\":{\"callback\":null,\"data\":{\"x\":[1362506400000.0,1362528000000.0,1362549600000.0,1362571200000.0,1362592800000.0,1362614400000.0,1362636000000.0,1362657600000.0,1362679200000.0,1362700800000.0,1362722400000.0,1362744000000.0,1362765600000.0,1362787200000.0,1362808800000.0,1362830400000.0,1362852000000.0,1362873600000.0,1362895200000.0,1362916800000.0,1362938400000.0,1362960000000.0,1362981600000.0,1363003200000.0,1363024800000.0,1363046400000.0,1363068000000.0,1363089600000.0,1363111200000.0,1363132800000.0],\"y\":{\"__ndarray__\":\"OjaUh0cJAEAkVpsaugPzP7H5is9rwuo/hnd3H4BK4T9ZVPBCuBLgP/qHxgIiXeA/J7676/PJ3z/oEBERIZDWPwNT8JJ4b9E/nAJOAC5S0j8e2rYNE8nSP2hYH0rIAdQ/GBVfQUH/0z+jEI2xN//FP9ZBYy0sWso/Qs3znEI3zz8A86GJvoa+P24HOk2ii7M/PyAac7dNsj/rGes3p3KwP7Cdgj+jPLA/ANVBzZZCrT/D9aGhDsywPzKClyvirq4/TOmgvq4msT+NWh9KGxmtP3npee76H6o/jdhoXX2apj+IdzmNft2kPzTKDrO+v6Q/\",\"dtype\":\"float64\",\"shape\":[30]}},\"selected\":{\"id\":\"6086\",\"type\":\"Selection\"},\"selection_policy\":{\"id\":\"6087\",\"type\":\"UnionRenderers\"}},\"id\":\"5758\",\"type\":\"ColumnDataSource\"},{\"attributes\":{\"callback\":null},\"id\":\"5697\",\"type\":\"DataRange1d\"},{\"attributes\":{\"fill_alpha\":{\"value\":0.1},\"fill_color\":{\"value\":\"#1f77b4\"},\"line_alpha\":{\"value\":0.1},\"line_color\":{\"value\":\"#1f77b4\"},\"size\":{\"units\":\"screen\",\"value\":30},\"x\":{\"field\":\"x\"},\"y\":{\"field\":\"y\"}},\"id\":\"5742\",\"type\":\"Circle\"},{\"attributes\":{},\"id\":\"5549\",\"type\":\"RedoTool\"},{\"attributes\":{\"data_source\":{\"id\":\"5758\",\"type\":\"ColumnDataSource\"},\"glyph\":{\"id\":\"5759\",\"type\":\"Line\"},\"hover_glyph\":null,\"muted_glyph\":null,\"nonselection_glyph\":{\"id\":\"5760\",\"type\":\"Line\"},\"selection_glyph\":null,\"view\":{\"id\":\"5762\",\"type\":\"CDSView\"}},\"id\":\"5761\",\"type\":\"GlyphRenderer\"},{\"attributes\":{},\"id\":\"5548\",\"type\":\"UndoTool\"},{\"attributes\":{\"data_source\":{\"id\":\"5740\",\"type\":\"ColumnDataSource\"},\"glyph\":{\"id\":\"5741\",\"type\":\"Circle\"},\"hover_glyph\":{\"id\":\"5743\",\"type\":\"Circle\"},\"muted_glyph\":null,\"nonselection_glyph\":{\"id\":\"5742\",\"type\":\"Circle\"},\"selection_glyph\":null,\"view\":{\"id\":\"5745\",\"type\":\"CDSView\"}},\"id\":\"5744\",\"type\":\"GlyphRenderer\"},{\"attributes\":{\"label\":{\"value\":\"Along Track (TN292) chl\"},\"renderers\":[{\"id\":\"5744\",\"type\":\"GlyphRenderer\"},{\"id\":\"5761\",\"type\":\"GlyphRenderer\"}]},\"id\":\"5757\",\"type\":\"LegendItem\"},{\"attributes\":{},\"id\":\"5544\",\"type\":\"WheelZoomTool\"},{\"attributes\":{\"below\":[{\"id\":\"5533\",\"type\":\"LinearAxis\"}],\"center\":[{\"id\":\"5537\",\"type\":\"Grid\"},{\"id\":\"5542\",\"type\":\"Grid\"},{\"id\":\"5586\",\"type\":\"Legend\"}],\"left\":[{\"id\":\"5538\",\"type\":\"LinearAxis\"}],\"plot_height\":400,\"plot_width\":800,\"renderers\":[{\"id\":\"5574\",\"type\":\"GlyphRenderer\"},{\"id\":\"5591\",\"type\":\"GlyphRenderer\"}],\"title\":{\"id\":\"5577\",\"type\":\"Title\"},\"toolbar\":{\"id\":\"5556\",\"type\":\"Toolbar\"},\"toolbar_location\":\"above\",\"x_range\":{\"id\":\"5525\",\"type\":\"DataRange1d\"},\"x_scale\":{\"id\":\"5529\",\"type\":\"LinearScale\"},\"y_range\":{\"id\":\"5527\",\"type\":\"DataRange1d\"},\"y_scale\":{\"id\":\"5531\",\"type\":\"LinearScale\"}},\"id\":\"5524\",\"subtype\":\"Figure\",\"type\":\"Plot\"},{\"attributes\":{\"active_drag\":\"auto\",\"active_inspect\":\"auto\",\"active_multi\":null,\"active_scroll\":\"auto\",\"active_tap\":\"auto\",\"tools\":[{\"id\":\"5543\",\"type\":\"PanTool\"},{\"id\":\"5544\",\"type\":\"WheelZoomTool\"},{\"id\":\"5545\",\"type\":\"ZoomInTool\"},{\"id\":\"5546\",\"type\":\"ZoomOutTool\"},{\"id\":\"5547\",\"type\":\"BoxZoomTool\"},{\"id\":\"5548\",\"type\":\"UndoTool\"},{\"id\":\"5549\",\"type\":\"RedoTool\"},{\"id\":\"5550\",\"type\":\"ResetTool\"},{\"id\":\"5551\",\"type\":\"TapTool\"},{\"id\":\"5552\",\"type\":\"SaveTool\"},{\"id\":\"5553\",\"type\":\"BoxSelectTool\"},{\"id\":\"5554\",\"type\":\"PolySelectTool\"},{\"id\":\"5555\",\"type\":\"LassoSelectTool\"},{\"id\":\"5605\",\"type\":\"HoverTool\"}]},\"id\":\"5556\",\"type\":\"Toolbar\"},{\"attributes\":{\"axis_label\":\"picoeuk_abundance [cells per microliter]\",\"formatter\":{\"id\":\"5578\",\"type\":\"BasicTickFormatter\"},\"ticker\":{\"id\":\"5539\",\"type\":\"BasicTicker\"}},\"id\":\"5538\",\"type\":\"LinearAxis\"},{\"attributes\":{\"below\":[{\"id\":\"5703\",\"type\":\"LinearAxis\"}],\"center\":[{\"id\":\"5707\",\"type\":\"Grid\"},{\"id\":\"5712\",\"type\":\"Grid\"},{\"id\":\"5756\",\"type\":\"Legend\"}],\"left\":[{\"id\":\"5708\",\"type\":\"LinearAxis\"}],\"plot_height\":400,\"plot_width\":800,\"renderers\":[{\"id\":\"5744\",\"type\":\"GlyphRenderer\"},{\"id\":\"5761\",\"type\":\"GlyphRenderer\"}],\"title\":{\"id\":\"5747\",\"type\":\"Title\"},\"toolbar\":{\"id\":\"5726\",\"type\":\"Toolbar\"},\"toolbar_location\":\"above\",\"x_range\":{\"id\":\"5695\",\"type\":\"DataRange1d\"},\"x_scale\":{\"id\":\"5699\",\"type\":\"LinearScale\"},\"y_range\":{\"id\":\"5697\",\"type\":\"DataRange1d\"},\"y_scale\":{\"id\":\"5701\",\"type\":\"LinearScale\"}},\"id\":\"5694\",\"subtype\":\"Figure\",\"type\":\"Plot\"},{\"attributes\":{\"ticker\":{\"id\":\"5534\",\"type\":\"BasicTicker\"}},\"id\":\"5537\",\"type\":\"Grid\"},{\"attributes\":{\"items\":[{\"id\":\"5757\",\"type\":\"LegendItem\"}]},\"id\":\"5756\",\"type\":\"Legend\"},{\"attributes\":{\"formatter\":{\"id\":\"5607\",\"type\":\"DatetimeTickFormatter\"},\"major_label_orientation\":0.7853981633974483,\"ticker\":{\"id\":\"5534\",\"type\":\"BasicTicker\"}},\"id\":\"5533\",\"type\":\"LinearAxis\"},{\"attributes\":{\"fill_alpha\":{\"value\":0.3},\"fill_color\":{\"value\":\"grey\"},\"line_color\":{\"value\":null},\"size\":{\"units\":\"screen\",\"value\":30},\"x\":{\"field\":\"x\"},\"y\":{\"field\":\"y\"}},\"id\":\"5741\",\"type\":\"Circle\"},{\"attributes\":{\"dimension\":1,\"ticker\":{\"id\":\"5539\",\"type\":\"BasicTicker\"}},\"id\":\"5542\",\"type\":\"Grid\"},{\"attributes\":{\"callback\":null},\"id\":\"5695\",\"type\":\"DataRange1d\"},{\"attributes\":{\"callback\":null,\"data\":{\"x\":[1362506400000.0,1362528000000.0,1362549600000.0,1362571200000.0,1362592800000.0,1362614400000.0,1362636000000.0,1362657600000.0,1362679200000.0,1362700800000.0,1362722400000.0,1362744000000.0,1362765600000.0,1362787200000.0,1362808800000.0,1362830400000.0,1362852000000.0,1362873600000.0,1362895200000.0,1362916800000.0,1362938400000.0,1362960000000.0,1362981600000.0,1363003200000.0,1363024800000.0,1363046400000.0,1363068000000.0,1363089600000.0,1363111200000.0,1363132800000.0],\"y\":{\"__ndarray__\":\"EWghGuHR/j/t5N6skYMTQKO6K+a8qRRArfQ2ImMtM0Ap/I5LZ+0pQNIYyUTclCJAns0qkT9VEEADtSxZX84RQAMEfxre8RdAg3/+stnDJkBSRyPUC8sbQH3z5BKPEx1AHSyWjGiTGEDmCrkmvAwjQLWLe23TgyBAu4UiC0b3G0DdGFXG45YMQATT196dvANA+35isZUf/T9J0TzxXJ37P1UoRbTFa/k/HpetMVEL/z+nUepyjrL1P/vWBZ88If4/v3VqRyAB/j/eHjMsCsn9PxOPANiN//Y/ROPl5ocY/D9WNAHCM4f1P2lQkHFLnfQ/\",\"dtype\":\"float64\",\"shape\":[30]}},\"selected\":{\"id\":\"5599\",\"type\":\"Selection\"},\"selection_policy\":{\"id\":\"5600\",\"type\":\"UnionRenderers\"}},\"id\":\"5570\",\"type\":\"ColumnDataSource\"},{\"attributes\":{\"bottom_units\":\"screen\",\"fill_alpha\":{\"value\":0.5},\"fill_color\":{\"value\":\"lightgrey\"},\"left_units\":\"screen\",\"level\":\"overlay\",\"line_alpha\":{\"value\":1.0},\"line_color\":{\"value\":\"black\"},\"line_dash\":[4,4],\"line_width\":{\"value\":2},\"render_mode\":\"css\",\"right_units\":\"screen\",\"top_units\":\"screen\"},\"id\":\"5753\",\"type\":\"BoxAnnotation\"},{\"attributes\":{},\"id\":\"5534\",\"type\":\"BasicTicker\"},{\"attributes\":{\"bottom_units\":\"screen\",\"fill_alpha\":{\"value\":0.5},\"fill_color\":{\"value\":\"lightgrey\"},\"left_units\":\"screen\",\"level\":\"overlay\",\"line_alpha\":{\"value\":1.0},\"line_color\":{\"value\":\"black\"},\"line_dash\":[4,4],\"line_width\":{\"value\":2},\"render_mode\":\"css\",\"right_units\":\"screen\",\"top_units\":\"screen\"},\"id\":\"5752\",\"type\":\"BoxAnnotation\"},{\"attributes\":{},\"id\":\"5699\",\"type\":\"LinearScale\"},{\"attributes\":{\"days\":[\"%d %B %Y %H:%M:%S\"],\"hours\":[\"%d %B %Y %H:%M:%S\"],\"months\":[\"%d %B %Y %H:%M:%S\"],\"years\":[\"%d %B %Y %H:%M:%S\"]},\"id\":\"5607\",\"type\":\"DatetimeTickFormatter\"},{\"attributes\":{},\"id\":\"5701\",\"type\":\"LinearScale\"},{\"attributes\":{\"source\":{\"id\":\"5570\",\"type\":\"ColumnDataSource\"}},\"id\":\"5575\",\"type\":\"CDSView\"},{\"attributes\":{},\"id\":\"5539\",\"type\":\"BasicTicker\"},{\"attributes\":{},\"id\":\"5748\",\"type\":\"BasicTickFormatter\"},{\"attributes\":{\"formatter\":{\"id\":\"5777\",\"type\":\"DatetimeTickFormatter\"},\"major_label_orientation\":0.7853981633974483,\"ticker\":{\"id\":\"5704\",\"type\":\"BasicTicker\"}},\"id\":\"5703\",\"type\":\"LinearAxis\"},{\"attributes\":{\"text\":\"\"},\"id\":\"5747\",\"type\":\"Title\"},{\"attributes\":{},\"id\":\"5704\",\"type\":\"BasicTicker\"},{\"attributes\":{\"source\":{\"id\":\"5740\",\"type\":\"ColumnDataSource\"}},\"id\":\"5745\",\"type\":\"CDSView\"},{\"attributes\":{},\"id\":\"5531\",\"type\":\"LinearScale\"},{\"attributes\":{\"ticker\":{\"id\":\"5704\",\"type\":\"BasicTicker\"}},\"id\":\"5707\",\"type\":\"Grid\"},{\"attributes\":{},\"id\":\"5529\",\"type\":\"LinearScale\"},{\"attributes\":{\"callback\":null},\"id\":\"5527\",\"type\":\"DataRange1d\"},{\"attributes\":{\"axis_label\":\"chl [mg/m^3]\",\"formatter\":{\"id\":\"5748\",\"type\":\"BasicTickFormatter\"},\"ticker\":{\"id\":\"5709\",\"type\":\"BasicTicker\"}},\"id\":\"5708\",\"type\":\"LinearAxis\"},{\"attributes\":{\"fill_alpha\":{\"value\":0.3},\"fill_color\":{\"value\":\"grey\"},\"line_color\":{\"value\":null},\"size\":{\"units\":\"screen\",\"value\":30},\"x\":{\"field\":\"x\"},\"y\":{\"field\":\"y\"}},\"id\":\"5571\",\"type\":\"Circle\"},{\"attributes\":{},\"id\":\"5709\",\"type\":\"BasicTicker\"},{\"attributes\":{\"dimension\":1,\"ticker\":{\"id\":\"5709\",\"type\":\"BasicTicker\"}},\"id\":\"5712\",\"type\":\"Grid\"},{\"attributes\":{\"callback\":null},\"id\":\"5636\",\"type\":\"TapTool\"},{\"attributes\":{\"fill_alpha\":{\"value\":0.5},\"fill_color\":{\"value\":\"lightgrey\"},\"level\":\"overlay\",\"line_alpha\":{\"value\":1.0},\"line_color\":{\"value\":\"black\"},\"line_dash\":[4,4],\"line_width\":{\"value\":2},\"xs_units\":\"screen\",\"ys_units\":\"screen\"},\"id\":\"5754\",\"type\":\"PolyAnnotation\"},{\"attributes\":{\"callback\":null},\"id\":\"5525\",\"type\":\"DataRange1d\"},{\"attributes\":{\"bottom_units\":\"screen\",\"fill_alpha\":{\"value\":0.5},\"fill_color\":{\"value\":\"lightgrey\"},\"left_units\":\"screen\",\"level\":\"overlay\",\"line_alpha\":{\"value\":1.0},\"line_color\":{\"value\":\"black\"},\"line_dash\":[4,4],\"line_width\":{\"value\":2},\"render_mode\":\"css\",\"right_units\":\"screen\",\"top_units\":\"screen\"},\"id\":\"5582\",\"type\":\"BoxAnnotation\"},{\"attributes\":{\"callback\":null,\"data\":{\"x\":[1362506400000.0,1362528000000.0,1362549600000.0,1362571200000.0,1362592800000.0,1362614400000.0,1362636000000.0,1362657600000.0,1362679200000.0,1362700800000.0,1362722400000.0,1362744000000.0,1362765600000.0,1362787200000.0,1362808800000.0,1362830400000.0,1362852000000.0,1362873600000.0,1362895200000.0,1362916800000.0,1362938400000.0,1362960000000.0,1362981600000.0,1363003200000.0,1363024800000.0,1363046400000.0,1363068000000.0,1363089600000.0,1363111200000.0,1363132800000.0],\"y\":{\"__ndarray__\":\"OjaUh0cJAEAkVpsaugPzP7H5is9rwuo/hnd3H4BK4T9ZVPBCuBLgP/qHxgIiXeA/J7676/PJ3z/oEBERIZDWPwNT8JJ4b9E/nAJOAC5S0j8e2rYNE8nSP2hYH0rIAdQ/GBVfQUH/0z+jEI2xN//FP9ZBYy0sWso/Qs3znEI3zz8A86GJvoa+P24HOk2ii7M/PyAac7dNsj/rGes3p3KwP7Cdgj+jPLA/ANVBzZZCrT/D9aGhDsywPzKClyvirq4/TOmgvq4msT+NWh9KGxmtP3npee76H6o/jdhoXX2apj+IdzmNft2kPzTKDrO+v6Q/\",\"dtype\":\"float64\",\"shape\":[30]}},\"selected\":{\"id\":\"5769\",\"type\":\"Selection\"},\"selection_policy\":{\"id\":\"5770\",\"type\":\"UnionRenderers\"}},\"id\":\"5740\",\"type\":\"ColumnDataSource\"}],\"root_ids\":[\"5779\"]},\"title\":\"Bokeh Application\",\"version\":\"1.1.0\"}};\n",
       "  var render_items = [{\"docid\":\"ae30a7f9-b262-406a-b80a-a9e5910069e2\",\"roots\":{\"5779\":\"25fdfa6b-9efd-4013-8a46-c1b5e7c7dae1\"}}];\n",
       "  root.Bokeh.embed.embed_items_notebook(docs_json, render_items);\n",
       "\n",
       "  }\n",
       "  if (root.Bokeh !== undefined) {\n",
       "    embed_document(root);\n",
       "  } else {\n",
       "    var attempts = 0;\n",
       "    var timer = setInterval(function(root) {\n",
       "      if (root.Bokeh !== undefined) {\n",
       "        embed_document(root);\n",
       "        clearInterval(timer);\n",
       "      }\n",
       "      attempts++;\n",
       "      if (attempts > 100) {\n",
       "        console.log(\"Bokeh: ERROR: Unable to run BokehJS code because BokehJS library is missing\");\n",
       "        clearInterval(timer);\n",
       "      }\n",
       "    }, 10, root)\n",
       "  }\n",
       "})(window);"
      ],
      "application/vnd.bokehjs_exec.v0+json": ""
     },
     "metadata": {
      "application/vnd.bokehjs_exec.v0+json": {
       "id": "5779"
      }
     },
     "output_type": "display_data"
    }
   ],
   "source": [
    "from opedia import plotCruise as CRS\n",
    "\n",
    "DB_Cruise = True                 # < True > if cruise trajectory already exists in DB. < False > if arbiturary cruise file (e.g. virtual) \n",
    "source = 'tblSeaFlow'            # cruise table name or path to csv trajectory file    \n",
    "cruise = 'TN292'          # cruise name, or file name of the csv trajectory file     \n",
    "resampTau = '6H'                 # resample the cruise trajectory making trajectory time-space resolution coarser: e.g. '6H' (6 hourly), '3T' (3 minutes), ... '0' (ignore)  \n",
    "fname = 'alongTrack'             # figure filename\n",
    "tables = ['tblSeaFlow', 'tblDarwin_Plankton_Climatology', 'tblCHL_OI_REP']    # list of varaible table names               \n",
    "variables = ['picoeuk_abundance', 'picoeukaryote_c03_darwin_clim', 'chl']               # list of variable names           \n",
    "spatialTolerance = 0.3           # colocalizer spatial tolerance (+/- degrees) \n",
    "exportDataFlag = False           # export the cruise trajectory and colocalized data on disk\n",
    "depth1 = 0                       # depth range start (m) \n",
    "depth2 = 5                       # depth range end (m)  \n",
    "\n",
    "\n",
    "df = CRS.getCruiseTrack(DB_Cruise, source, cruise)\n",
    "df = CRS.resample(df, resampTau) \n",
    "loadedTrack = CRS.plotAlongTrack(tables, variables, cruise, resampTau, df, spatialTolerance, depth1, depth2, fname, exportDataFlag, marker='-', msize=30, clr='darkturquoise')"
   ]
  },
  {
   "cell_type": "code",
   "execution_count": null,
   "metadata": {},
   "outputs": [],
   "source": []
  }
 ],
 "metadata": {
  "kernelspec": {
   "display_name": "Python 3",
   "language": "python",
   "name": "python3"
  },
  "language_info": {
   "codemirror_mode": {
    "name": "ipython",
    "version": 3
   },
   "file_extension": ".py",
   "mimetype": "text/x-python",
   "name": "python",
   "nbconvert_exporter": "python",
   "pygments_lexer": "ipython3",
   "version": "3.7.3"
  }
 },
 "nbformat": 4,
 "nbformat_minor": 2
}
