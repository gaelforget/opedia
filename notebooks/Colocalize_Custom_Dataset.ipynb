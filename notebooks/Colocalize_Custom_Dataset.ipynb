{
 "cells": [
  {
   "cell_type": "markdown",
   "metadata": {},
   "source": [
    "# Colocalize a custom dataset with Darwin model, and satellite data\n",
    "\n",
    "Colocalize a a custom dataset (Particulate Cobalamins observed on KM1314 cruise) with climatological POC, prokaryote estimates provided by Darwin model, and dissolved iron concentration. The dataset should be in either '.xlsx' or '.csv' format with 'time', 'lat', 'lon', and 'depth' columns. \n",
    "\n",
    "\n",
    "| time        | lat           | lon  | depth | [var1] | [...] | [varn] |\n",
    "| -----------   | -----------   | ----- | ----- | ----- | ----- | ----- |\n",
    "| <%Y-%m-%dT%H:%M:%S>  | [-90, 90] | [-180, 180] | Positive numeric | numeric | numeric | numeric |\n",
    "\n",
    "\n",
    "<br/> \n",
    "**Notes:**<br/> \n",
    "\n",
    "* Darwin_Climatology is a monthly climatology version of the Darwin model with spatial resolution $\\frac{1}{2}^\\circ \\times \\frac{1}{2}^\\circ$.<br/>\n",
    "\n",
    "* Pisces model is a weekly-averaged global model with spatial resolution $\\frac{1}{2}^\\circ \\times \\frac{1}{2}^\\circ$ (data is available only at one-week intervals).<br/>\n",
    "\n",
    "<br/>\n",
    "\n",
    "\n",
    "**Thanks to Anitra Ingalls, Katherine Heal et al. (Inglass Lab, UW) for the beautiful dataset!**  <br/> <br/> \n"
   ]
  },
  {
   "cell_type": "code",
   "execution_count": null,
   "metadata": {
    "scrolled": false
   },
   "outputs": [],
   "source": [
    "from opedia import colocalize as COL\n",
    "\n",
    "DB = False                            # < True > if source data exists in the database. < 0 > if the source data set is a spreadsheet file on disk. \n",
    "source = './KM1314_ParticulateCobalamins_2018_06_12_vPublished.xlsx'            # the source table name (or full filename)    \n",
    "temporalTolerance = 1                # colocalizer temporal tolerance (+/- degrees)\n",
    "latTolerance = 0.3                   # colocalizer meridional tolerance (+/- degrees)\n",
    "lonTolerance = 0.3                   # colocalizer zonal tolerance (+/- degrees) \n",
    "depthTolerance = 5                   # colocalizer depth tolerance (+/- meters)\n",
    "tables = ['tblDarwin_Nutrient_Climatology', 'tblPisces_NRT', 'tblDarwin_Plankton_Climatology']    # list of varaible table names               \n",
    "variables = ['poc_darwin_clim', 'Fe', 'prokaryote_c01_darwin_clim']                            # list of variable names           \n",
    "exportPath = './loaded.csv'         # path to save the colocalized data set \n",
    "    \n",
    "COL.matchSource(DB, source, temporalTolerance, latTolerance, lonTolerance, depthTolerance, tables, variables, exportPath)    "
   ]
  }
 ],
 "metadata": {
  "kernelspec": {
   "display_name": "Python 3",
   "language": "python",
   "name": "python3"
  },
  "language_info": {
   "codemirror_mode": {
    "name": "ipython",
    "version": 3
   },
   "file_extension": ".py",
   "mimetype": "text/x-python",
   "name": "python",
   "nbconvert_exporter": "python",
   "pygments_lexer": "ipython3",
   "version": "3.7.0"
  }
 },
 "nbformat": 4,
 "nbformat_minor": 2
}
