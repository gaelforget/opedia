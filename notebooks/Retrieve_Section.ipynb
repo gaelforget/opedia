{
 "cells": [
  {
   "cell_type": "markdown",
   "metadata": {},
   "source": [
    "# Section subset\n",
    "This tutorial shows how to retrieve section profile of a variable within a predefined space-time domain. You need to know the variable and table names, both which can be found in the catalog. Data is retrieved in form of a dataframe with time, space, and variable columns. <br/> <br/> "
   ]
  },
  {
   "cell_type": "code",
   "execution_count": null,
   "metadata": {},
   "outputs": [],
   "source": [
    "from opedia import subset\n",
    "\n",
    "############## set parameters ################\n",
    "table = 'tblPisces_NRT'\n",
    "variable = 'Fe'       \n",
    "dt1 = '2016-04-30'\n",
    "dt2 = '2016-04-30'\n",
    "lat1, lat2, lon1, lon2 = 22, 50, -160, -158  \n",
    "depth1, depth2 = 0, 6000\n",
    "##############################################\n",
    "\n",
    "subset.section(table, variable, dt1, dt2, lat1, lat2, lon1, lon2, depth1, depth2)    # retrieves a DataFrame\n",
    "#df.to_csv('data.csv', index=False)      # save the retrieved data into a csv file"
   ]
  }
 ],
 "metadata": {
  "kernelspec": {
   "display_name": "Python 3",
   "language": "python",
   "name": "python3"
  },
  "language_info": {
   "codemirror_mode": {
    "name": "ipython",
    "version": 3
   },
   "file_extension": ".py",
   "mimetype": "text/x-python",
   "name": "python",
   "nbconvert_exporter": "python",
   "pygments_lexer": "ipython3",
   "version": "3.7.0"
  }
 },
 "nbformat": 4,
 "nbformat_minor": 2
}
