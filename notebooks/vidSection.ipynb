{
 "cells": [
  {
   "cell_type": "code",
   "execution_count": null,
   "metadata": {},
   "outputs": [],
   "source": [
    "from opedia import vidSection as vSEC\n",
    "\n",
    "\n",
    "tables = ['tblPisces_NRT']    \n",
    "variables = ['O2']        \n",
    "startDate = '2014-04-30'\n",
    "endDate = '2014-08-10'\n",
    "lat1, lat2 = 10, 60\n",
    "lon1, lon2 = -159, -157\n",
    "depth1, depth2 = 0, 1000\n",
    "frameRate = 5\n",
    "cmap = 'plasma'                     # https://matplotlib.org/3.1.0/tutorials/colors/colormaps.html\n",
    "bounds = [0, 300]                   # if bounds are None, they'll be set automatically                   \n",
    "levels = 21\n",
    "\n",
    "vSEC.sectionVideo(tables, variables, startDate, endDate, lat1, lat2, lon1, lon2, depth1, depth2, frameRate, cmap, bounds, levels)"
   ]
  }
 ],
 "metadata": {
  "kernelspec": {
   "display_name": "Python 3",
   "language": "python",
   "name": "python3"
  },
  "language_info": {
   "codemirror_mode": {
    "name": "ipython",
    "version": 3
   },
   "file_extension": ".py",
   "mimetype": "text/x-python",
   "name": "python",
   "nbconvert_exporter": "python",
   "pygments_lexer": "ipython3",
   "version": "3.7.1"
  }
 },
 "nbformat": 4,
 "nbformat_minor": 2
}
