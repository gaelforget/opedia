{
 "cells": [
  {
   "cell_type": "markdown",
   "metadata": {},
   "source": [
    "# Plotting Exact Amplicon Sequence Variants (16S) Along an Atlantic Latitudinal Transect\n",
    "### Query and aggeragate by taxonomy level, clustering thereshold, and size fraction\n",
    "\n",
    "The example below retrieves the \"topN\" number of most abundant sequenced organisms along track of the cruise. One can aggregate and visualize the relative abundance of the organisms according to their taxonomy, clustering levels, and size fractions. The cruise, 'ANT28-5', is an Atlantic latitudinal transect. <br/> <br/>\n",
    "\n",
    "**Thanks to Irene Wagner-Döbler and Meinhard Simon's research groups for making this beautiful dataset publicly available!**  <br/> <br/> "
   ]
  },
  {
   "cell_type": "code",
   "execution_count": 16,
   "metadata": {},
   "outputs": [
    {
     "data": {
      "application/vnd.jupyter.widget-view+json": {
       "model_id": "92d376e0b8c141daa98079cd48d73513",
       "version_major": 2,
       "version_minor": 0
      },
      "text/plain": [
       "HBox(children=(IntProgress(value=0, description='overall', max=3, style=ProgressStyle(description_width='initi…"
      ]
     },
     "metadata": {},
     "output_type": "display_data"
    },
    {
     "name": "stdout",
     "output_type": "stream",
     "text": [
      "\n"
     ]
    },
    {
     "data": {
      "text/html": [
       "\n",
       "<div class=\"bk-root\">\n",
       "    <div class=\"bk-plotdiv\" id=\"4e8d10be-8ca4-4d4d-8ff5-2fcd2b9bbabd\"></div>\n",
       "</div>"
      ]
     },
     "metadata": {},
     "output_type": "display_data"
    },
    {
     "data": {
      "application/javascript": [
       "(function(root) {\n",
       "  function embed_document(root) {\n",
       "    \n",
       "  var docs_json = {\"07bae466-0787-4552-accd-dcc42e9e3cbe\":{\"roots\":{\"references\":[{\"attributes\":{\"fill_alpha\":{\"value\":0.5},\"fill_color\":{\"value\":\"lightgrey\"},\"level\":\"overlay\",\"line_alpha\":{\"value\":1.0},\"line_color\":{\"value\":\"black\"},\"line_dash\":[4,4],\"line_width\":{\"value\":2},\"plot\":null,\"xs_units\":\"screen\",\"ys_units\":\"screen\"},\"id\":\"1a062923-841e-4807-a1d7-c81baab5db0c\",\"type\":\"PolyAnnotation\"},{\"attributes\":{\"label\":{\"value\":\"Planctomycetes\"},\"renderers\":[{\"id\":\"a3c07ef8-58b4-403b-bcb4-45ae92ac6656\",\"type\":\"GlyphRenderer\"},{\"id\":\"71b8d3c9-2280-4380-977a-46e4b90249a0\",\"type\":\"GlyphRenderer\"}]},\"id\":\"ef1c58cc-d0e7-4e59-b1d3-241c5e6d15f4\",\"type\":\"LegendItem\"},{\"attributes\":{\"bottom_units\":\"screen\",\"fill_alpha\":{\"value\":0.5},\"fill_color\":{\"value\":\"lightgrey\"},\"left_units\":\"screen\",\"level\":\"overlay\",\"line_alpha\":{\"value\":1.0},\"line_color\":{\"value\":\"black\"},\"line_dash\":[4,4],\"line_width\":{\"value\":2},\"plot\":null,\"render_mode\":\"css\",\"right_units\":\"screen\",\"top_units\":\"screen\"},\"id\":\"a4c6e5f5-ff7a-42c0-a20a-8039811b0e62\",\"type\":\"BoxAnnotation\"},{\"attributes\":{\"fill_alpha\":{\"value\":0.5},\"fill_color\":{\"value\":\"lightgrey\"},\"level\":\"overlay\",\"line_alpha\":{\"value\":1.0},\"line_color\":{\"value\":\"black\"},\"line_dash\":[4,4],\"line_width\":{\"value\":2},\"plot\":null,\"xs_units\":\"screen\",\"ys_units\":\"screen\"},\"id\":\"2f1e75af-f90e-4885-99dd-3007995c7a9c\",\"type\":\"PolyAnnotation\"},{\"attributes\":{\"callback\":null,\"column_names\":[\"x\",\"y\"],\"data\":{\"x\":{\"__ndarray__\":\"owG8BRKMRsBn1edqK+ZDwEoMAiuHHkHAxyk6ksv/PsDImLuWkP85wMX+snvywDjAaJHtfD+lMsB6pSxDHAsvwAg9m1WfyyfA5/up8dJtIMBPr5RliGMUwGIQWDm0yPe/cT0K16PQIkCSXP5D+i0pQL99HThntDRAvsEXJlNlOEDWxW00gOcwQJp3nKIjWTpApSxDHOuyQEARx7q4jZ5BQI/C9ShcX0NAdk8eFmqFRUBLyAc9m4VHQA==\",\"dtype\":\"float64\",\"shape\":[23]},\"y\":{\"__ndarray__\":\"FfQaHPgcrT+/s6CbgE2zP9/BY0Ve/L4/VJ+9vYjhuz+cwiQ8FxmyP2LlP+Ffe8Y/e/mY00xEwT9FSm98XVjAP4f1h5WzzbU/snIdhuemqD+mcLjTe5ypP8gMv8UrY6w/pVY5i9psuj/yBTGChCmyP/h/WwRDBMM/6ZDfOCJwqj8r2Nmo2Dm+P78tNBk+ErY/hu/2xA0ftD9XaoRuU1nAP6LnuFdm98M/AV0r/M0Ytz/Ab487tl21Pw==\",\"dtype\":\"float64\",\"shape\":[23]}}},\"id\":\"642b9f77-6c2a-4cf7-b32c-d5b087cd9c0d\",\"type\":\"ColumnDataSource\"},{\"attributes\":{},\"id\":\"8692ea84-b44d-4c22-b792-7f1181c5ea3a\",\"type\":\"SaveTool\"},{\"attributes\":{\"callback\":null,\"column_names\":[\"x\",\"y\"],\"data\":{\"x\":{\"__ndarray__\":\"owG8BRKMRsBn1edqK+ZDwEoMAiuHHkHAxyk6ksv/PsDImLuWkP85wMX+snvywDjAaJHtfD+lMsB6pSxDHAsvwAg9m1WfyyfA5/up8dJtIMBPr5RliGMUwGIQWDm0yPe/cT0K16PQIkCSXP5D+i0pQL99HThntDRAvsEXJlNlOEDWxW00gOcwQJp3nKIjWTpApSxDHOuyQEARx7q4jZ5BQI/C9ShcX0NAdk8eFmqFRUBLyAc9m4VHQA==\",\"dtype\":\"float64\",\"shape\":[23]},\"y\":{\"__ndarray__\":\"j4IQ/Los4j//aInRzz7RP6G8jLgRcNs/gaem5z6q2j832a4t4RPfP3P+y3l0/9U/3NBlIQRk2j93W6WMeJbUP516++M5GNQ/BKiQMV3QzD/T8A7ruhXaP8GfzpgcLdE/TBnkWITV2T8BxJbiHJDWP592WPCmA9E/jcGww1cl2z/mnespxejWP4ruxJVGP9U/HDzaoljp1j+nE7aSSP7XPwAAAAAAANI/TJ/9q2ekyz9cLcq8BXPLPw==\",\"dtype\":\"float64\",\"shape\":[23]}}},\"id\":\"c899b463-7661-4e83-a154-978b5b503ae5\",\"type\":\"ColumnDataSource\"},{\"attributes\":{\"line_color\":\"darkturquoise\",\"line_width\":2,\"x\":{\"field\":\"x\"},\"y\":{\"field\":\"y\"}},\"id\":\"5393588e-ccc1-462f-a1d9-dde44592b8d8\",\"type\":\"Line\"},{\"attributes\":{\"fill_alpha\":{\"value\":0.1},\"fill_color\":{\"value\":\"#1f77b4\"},\"line_alpha\":{\"value\":0.1},\"line_color\":{\"value\":\"#1f77b4\"},\"size\":{\"units\":\"screen\",\"value\":10},\"x\":{\"field\":\"x\"},\"y\":{\"field\":\"y\"}},\"id\":\"c13c2ea0-6242-43e1-bc84-d4ca0e812c09\",\"type\":\"Circle\"},{\"attributes\":{\"line_alpha\":0.1,\"line_color\":\"#1f77b4\",\"line_width\":2,\"x\":{\"field\":\"x\"},\"y\":{\"field\":\"y\"}},\"id\":\"474a7cd7-7c55-426d-bda0-bd31625b2102\",\"type\":\"Line\"},{\"attributes\":{\"source\":{\"id\":\"642b9f77-6c2a-4cf7-b32c-d5b087cd9c0d\",\"type\":\"ColumnDataSource\"}},\"id\":\"35cbc58d-1ac2-4885-a1c2-439ce0faba7b\",\"type\":\"CDSView\"},{\"attributes\":{\"data_source\":{\"id\":\"642b9f77-6c2a-4cf7-b32c-d5b087cd9c0d\",\"type\":\"ColumnDataSource\"},\"glyph\":{\"id\":\"5393588e-ccc1-462f-a1d9-dde44592b8d8\",\"type\":\"Line\"},\"hover_glyph\":null,\"muted_glyph\":null,\"nonselection_glyph\":{\"id\":\"474a7cd7-7c55-426d-bda0-bd31625b2102\",\"type\":\"Line\"},\"selection_glyph\":null,\"view\":{\"id\":\"35cbc58d-1ac2-4885-a1c2-439ce0faba7b\",\"type\":\"CDSView\"}},\"id\":\"71b8d3c9-2280-4380-977a-46e4b90249a0\",\"type\":\"GlyphRenderer\"},{\"attributes\":{},\"id\":\"5f099a6f-1290-4f24-b585-1637955a1bfc\",\"type\":\"ResetTool\"},{\"attributes\":{\"callback\":null,\"column_names\":[\"x\",\"y\"],\"data\":{\"x\":{\"__ndarray__\":\"owG8BRKMRsBn1edqK+ZDwEoMAiuHHkHAxyk6ksv/PsDImLuWkP85wMX+snvywDjAaJHtfD+lMsB6pSxDHAsvwAg9m1WfyyfA5/up8dJtIMBPr5RliGMUwGIQWDm0yPe/cT0K16PQIkCSXP5D+i0pQL99HThntDRAvsEXJlNlOEDWxW00gOcwQJp3nKIjWTpApSxDHOuyQEARx7q4jZ5BQI/C9ShcX0NAdk8eFmqFRUBLyAc9m4VHQA==\",\"dtype\":\"float64\",\"shape\":[23]},\"y\":{\"__ndarray__\":\"j4IQ/Los4j//aInRzz7RP6G8jLgRcNs/gaem5z6q2j832a4t4RPfP3P+y3l0/9U/3NBlIQRk2j93W6WMeJbUP516++M5GNQ/BKiQMV3QzD/T8A7ruhXaP8GfzpgcLdE/TBnkWITV2T8BxJbiHJDWP592WPCmA9E/jcGww1cl2z/mnespxejWP4ruxJVGP9U/HDzaoljp1j+nE7aSSP7XPwAAAAAAANI/TJ/9q2ekyz9cLcq8BXPLPw==\",\"dtype\":\"float64\",\"shape\":[23]}}},\"id\":\"39715951-75ee-4cd5-aa1b-5df02baf3b0e\",\"type\":\"ColumnDataSource\"},{\"attributes\":{\"line_color\":\"grey\",\"line_width\":2,\"x\":{\"field\":\"x\"},\"y\":{\"field\":\"y\"}},\"id\":\"ec00624b-40eb-4b95-913e-191c2a78f631\",\"type\":\"Line\"},{\"attributes\":{\"items\":[{\"id\":\"8b73742a-5b1f-4c5c-9bb2-392cc4df847c\",\"type\":\"LegendItem\"},{\"id\":\"1cd5fae0-7b1a-4044-a7b3-4362053a4997\",\"type\":\"LegendItem\"},{\"id\":\"ef1c58cc-d0e7-4e59-b1d3-241c5e6d15f4\",\"type\":\"LegendItem\"}],\"plot\":{\"id\":\"f6732434-e784-4151-a518-028abd09bf01\",\"subtype\":\"Figure\",\"type\":\"Plot\"}},\"id\":\"9e60dfb8-eaea-4e66-a261-f152e6ba01c5\",\"type\":\"Legend\"},{\"attributes\":{},\"id\":\"78075f87-b446-4597-b355-4d0de940c702\",\"type\":\"BasicTickFormatter\"},{\"attributes\":{},\"id\":\"83ab0db8-95f8-4464-a284-495b4039400b\",\"type\":\"UndoTool\"},{\"attributes\":{\"callback\":null},\"id\":\"f774126b-4ea4-467d-bf8b-ac244d65fb9e\",\"type\":\"TapTool\"},{\"attributes\":{},\"id\":\"d6226eb5-4fa9-4ee6-b4cf-6c0531d0af98\",\"type\":\"ZoomOutTool\"},{\"attributes\":{\"fill_alpha\":{\"value\":0.1},\"fill_color\":{\"value\":\"#1f77b4\"},\"line_alpha\":{\"value\":0.1},\"line_color\":{\"value\":\"#1f77b4\"},\"size\":{\"units\":\"screen\",\"value\":10},\"x\":{\"field\":\"x\"},\"y\":{\"field\":\"y\"}},\"id\":\"421a04ef-3507-4e0d-9977-852c81310ae6\",\"type\":\"Circle\"},{\"attributes\":{\"callback\":null,\"overlay\":{\"id\":\"a4c6e5f5-ff7a-42c0-a20a-8039811b0e62\",\"type\":\"BoxAnnotation\"},\"renderers\":[{\"id\":\"a416352b-607e-4e90-abd3-ce500fd47334\",\"type\":\"GlyphRenderer\"},{\"id\":\"148f6174-eff9-401c-a89b-46d8b71ff19e\",\"type\":\"GlyphRenderer\"},{\"id\":\"8af1a07b-cac5-4c51-b09d-9525146d8db6\",\"type\":\"GlyphRenderer\"},{\"id\":\"456e987a-f1df-4fd9-a2d8-b97b79adde25\",\"type\":\"GlyphRenderer\"},{\"id\":\"a3c07ef8-58b4-403b-bcb4-45ae92ac6656\",\"type\":\"GlyphRenderer\"},{\"id\":\"71b8d3c9-2280-4380-977a-46e4b90249a0\",\"type\":\"GlyphRenderer\"}]},\"id\":\"50df8e8a-4bc6-4996-af6d-e5890f6f0027\",\"type\":\"BoxSelectTool\"},{\"attributes\":{\"callback\":null,\"overlay\":{\"id\":\"2f1e75af-f90e-4885-99dd-3007995c7a9c\",\"type\":\"PolyAnnotation\"}},\"id\":\"0ec5f6f1-bf08-4945-8794-305fa92a881c\",\"type\":\"LassoSelectTool\"},{\"attributes\":{\"data_source\":{\"id\":\"c899b463-7661-4e83-a154-978b5b503ae5\",\"type\":\"ColumnDataSource\"},\"glyph\":{\"id\":\"ec00624b-40eb-4b95-913e-191c2a78f631\",\"type\":\"Line\"},\"hover_glyph\":null,\"muted_glyph\":null,\"nonselection_glyph\":{\"id\":\"8ac29ed8-f062-48ea-9a7d-b417e92daeb9\",\"type\":\"Line\"},\"selection_glyph\":null,\"view\":{\"id\":\"90c64d22-e3e6-4b1b-99b8-e335f886865f\",\"type\":\"CDSView\"}},\"id\":\"148f6174-eff9-401c-a89b-46d8b71ff19e\",\"type\":\"GlyphRenderer\"},{\"attributes\":{},\"id\":\"5202a4f4-cee5-47f7-aa62-51ea6692fb41\",\"type\":\"RedoTool\"},{\"attributes\":{\"fill_alpha\":{\"value\":0.7},\"fill_color\":{\"value\":\"grey\"},\"line_color\":{\"value\":null},\"size\":{\"units\":\"screen\",\"value\":10},\"x\":{\"field\":\"x\"},\"y\":{\"field\":\"y\"}},\"id\":\"db9b24c0-693a-4282-87f0-955266e9f1dc\",\"type\":\"Circle\"},{\"attributes\":{\"line_alpha\":0.1,\"line_color\":\"#1f77b4\",\"line_width\":2,\"x\":{\"field\":\"x\"},\"y\":{\"field\":\"y\"}},\"id\":\"8ac29ed8-f062-48ea-9a7d-b417e92daeb9\",\"type\":\"Line\"},{\"attributes\":{},\"id\":\"d27df461-3550-4117-ac8a-c806599311f8\",\"type\":\"ZoomInTool\"},{\"attributes\":{\"fill_alpha\":{\"value\":0.7},\"fill_color\":{\"value\":\"purple\"},\"line_color\":{\"value\":null},\"size\":{\"units\":\"screen\",\"value\":10},\"x\":{\"field\":\"x\"},\"y\":{\"field\":\"y\"}},\"id\":\"be186a0a-d426-43c0-8ace-994f8d0da7d3\",\"type\":\"Circle\"},{\"attributes\":{\"callback\":null,\"overlay\":{\"id\":\"1a062923-841e-4807-a1d7-c81baab5db0c\",\"type\":\"PolyAnnotation\"}},\"id\":\"fa0f5ecc-c66a-4c92-83fd-a79f020f4d7c\",\"type\":\"PolySelectTool\"},{\"attributes\":{\"callback\":null,\"column_names\":[\"x\",\"y\"],\"data\":{\"x\":{\"__ndarray__\":\"owG8BRKMRsBn1edqK+ZDwEoMAiuHHkHAxyk6ksv/PsDImLuWkP85wMX+snvywDjAaJHtfD+lMsB6pSxDHAsvwAg9m1WfyyfA5/up8dJtIMBPr5RliGMUwGIQWDm0yPe/cT0K16PQIkCSXP5D+i0pQL99HThntDRAvsEXJlNlOEDWxW00gOcwQJp3nKIjWTpApSxDHOuyQEARx7q4jZ5BQI/C9ShcX0NAdk8eFmqFRUBLyAc9m4VHQA==\",\"dtype\":\"float64\",\"shape\":[23]},\"y\":{\"__ndarray__\":\"Xvj66Twdyz8j8DvXRFncP5Q4xzGfl8k/rxuOKVW+zz/Z5wC5ab3OP+wLwEJipb0/390grgrewj/OuJMaTPHEP5zuotMTn8s/fUJ4f/Ba0T+BO+szfsTEP5jFYPRmEdw/owLYu7H20D9mvbf1rSXQPzkiKtMATr4/DBOtWFMLyT+lrnJfaUDOP+4TegXn98g/MjtZ8LhEzj+vNPaXaNPGP+qPUmBw2Ms/nxftY3Xezj+PAM5encDLPw==\",\"dtype\":\"float64\",\"shape\":[23]}}},\"id\":\"4b184dcf-eaea-47d9-8baf-a29023a81978\",\"type\":\"ColumnDataSource\"},{\"attributes\":{\"source\":{\"id\":\"c899b463-7661-4e83-a154-978b5b503ae5\",\"type\":\"ColumnDataSource\"}},\"id\":\"90c64d22-e3e6-4b1b-99b8-e335f886865f\",\"type\":\"CDSView\"},{\"attributes\":{\"fill_alpha\":{\"value\":0.3},\"fill_color\":{\"value\":\"firebrick\"},\"line_alpha\":{\"value\":0.3},\"line_color\":{\"value\":\"white\"},\"size\":{\"units\":\"screen\",\"value\":10},\"x\":{\"field\":\"x\"},\"y\":{\"field\":\"y\"}},\"id\":\"04cf2f74-ed8a-4715-ae25-a38784db3772\",\"type\":\"Circle\"},{\"attributes\":{\"fill_alpha\":{\"value\":0.3},\"fill_color\":{\"value\":\"firebrick\"},\"line_alpha\":{\"value\":0.3},\"line_color\":{\"value\":\"white\"},\"size\":{\"units\":\"screen\",\"value\":10},\"x\":{\"field\":\"x\"},\"y\":{\"field\":\"y\"}},\"id\":\"f563c459-b363-4424-9f87-eba1c9a99cb9\",\"type\":\"Circle\"},{\"attributes\":{\"data_source\":{\"id\":\"a5bbd74b-4879-4dd0-8a7a-25e5d6ed74f3\",\"type\":\"ColumnDataSource\"},\"glyph\":{\"id\":\"be186a0a-d426-43c0-8ace-994f8d0da7d3\",\"type\":\"Circle\"},\"hover_glyph\":{\"id\":\"04cf2f74-ed8a-4715-ae25-a38784db3772\",\"type\":\"Circle\"},\"muted_glyph\":null,\"nonselection_glyph\":{\"id\":\"c13c2ea0-6242-43e1-bc84-d4ca0e812c09\",\"type\":\"Circle\"},\"selection_glyph\":null,\"view\":{\"id\":\"6551e29e-1e50-4882-bae5-dce6e10fdf59\",\"type\":\"CDSView\"}},\"id\":\"8af1a07b-cac5-4c51-b09d-9525146d8db6\",\"type\":\"GlyphRenderer\"},{\"attributes\":{\"plot\":null,\"text\":\"\"},\"id\":\"b9932125-2fa6-41cd-a866-0b077bbbadc7\",\"type\":\"Title\"},{\"attributes\":{\"overlay\":{\"id\":\"b4a464cd-38cd-4aeb-9cc9-f41ac1aabdb4\",\"type\":\"BoxAnnotation\"}},\"id\":\"e34a37d0-ca93-4307-a937-ebde4ac77a70\",\"type\":\"BoxZoomTool\"},{\"attributes\":{},\"id\":\"b508e350-b591-4803-916a-7fc1a702a259\",\"type\":\"WheelZoomTool\"},{\"attributes\":{},\"id\":\"506dcc91-ff57-4916-85d6-2399df59cc3b\",\"type\":\"BasicTickFormatter\"},{\"attributes\":{\"children\":[{\"id\":\"f6732434-e784-4151-a518-028abd09bf01\",\"subtype\":\"Figure\",\"type\":\"Plot\"}]},\"id\":\"cb6b45e4-3c4a-4682-a599-4fa8fc4c1653\",\"type\":\"Column\"},{\"attributes\":{\"callback\":null,\"column_names\":[\"x\",\"y\"],\"data\":{\"x\":{\"__ndarray__\":\"owG8BRKMRsBn1edqK+ZDwEoMAiuHHkHAxyk6ksv/PsDImLuWkP85wMX+snvywDjAaJHtfD+lMsB6pSxDHAsvwAg9m1WfyyfA5/up8dJtIMBPr5RliGMUwGIQWDm0yPe/cT0K16PQIkCSXP5D+i0pQL99HThntDRAvsEXJlNlOEDWxW00gOcwQJp3nKIjWTpApSxDHOuyQEARx7q4jZ5BQI/C9ShcX0NAdk8eFmqFRUBLyAc9m4VHQA==\",\"dtype\":\"float64\",\"shape\":[23]},\"y\":{\"__ndarray__\":\"FfQaHPgcrT+/s6CbgE2zP9/BY0Ve/L4/VJ+9vYjhuz+cwiQ8FxmyP2LlP+Ffe8Y/e/mY00xEwT9FSm98XVjAP4f1h5WzzbU/snIdhuemqD+mcLjTe5ypP8gMv8UrY6w/pVY5i9psuj/yBTGChCmyP/h/WwRDBMM/6ZDfOCJwqj8r2Nmo2Dm+P78tNBk+ErY/hu/2xA0ftD9XaoRuU1nAP6LnuFdm98M/AV0r/M0Ytz/Ab487tl21Pw==\",\"dtype\":\"float64\",\"shape\":[23]}}},\"id\":\"712645bc-c2fe-41fa-b8d2-e36f50175202\",\"type\":\"ColumnDataSource\"},{\"attributes\":{\"fill_alpha\":{\"value\":0.1},\"fill_color\":{\"value\":\"#1f77b4\"},\"line_alpha\":{\"value\":0.1},\"line_color\":{\"value\":\"#1f77b4\"},\"size\":{\"units\":\"screen\",\"value\":10},\"x\":{\"field\":\"x\"},\"y\":{\"field\":\"y\"}},\"id\":\"9d2dc116-6ada-4af4-af96-8c97aa0d5311\",\"type\":\"Circle\"},{\"attributes\":{\"axis_label\":\"Relative Abundance\",\"formatter\":{\"id\":\"78075f87-b446-4597-b355-4d0de940c702\",\"type\":\"BasicTickFormatter\"},\"plot\":{\"id\":\"f6732434-e784-4151-a518-028abd09bf01\",\"subtype\":\"Figure\",\"type\":\"Plot\"},\"ticker\":{\"id\":\"37185f6e-8790-4cd8-8430-b3659a4b4bed\",\"type\":\"BasicTicker\"}},\"id\":\"c4a19050-def9-47d9-9b07-1338c7043012\",\"type\":\"LinearAxis\"},{\"attributes\":{\"fill_alpha\":{\"value\":0.7},\"fill_color\":{\"value\":\"darkturquoise\"},\"line_color\":{\"value\":null},\"size\":{\"units\":\"screen\",\"value\":10},\"x\":{\"field\":\"x\"},\"y\":{\"field\":\"y\"}},\"id\":\"8c9ac9f6-ddf2-46fa-bcf0-1a5cdb29d2d0\",\"type\":\"Circle\"},{\"attributes\":{\"callback\":null},\"id\":\"aac98eac-edb3-4a62-b4d9-c98dbc34eae3\",\"type\":\"DataRange1d\"},{\"attributes\":{\"source\":{\"id\":\"712645bc-c2fe-41fa-b8d2-e36f50175202\",\"type\":\"ColumnDataSource\"}},\"id\":\"a112e5c7-6f43-4ced-9c03-e9bace378c70\",\"type\":\"CDSView\"},{\"attributes\":{\"active_drag\":\"auto\",\"active_inspect\":\"auto\",\"active_scroll\":\"auto\",\"active_tap\":\"auto\",\"tools\":[{\"id\":\"43e7fab5-b9e2-42e2-b502-a792c7de8eac\",\"type\":\"PanTool\"},{\"id\":\"b508e350-b591-4803-916a-7fc1a702a259\",\"type\":\"WheelZoomTool\"},{\"id\":\"d27df461-3550-4117-ac8a-c806599311f8\",\"type\":\"ZoomInTool\"},{\"id\":\"d6226eb5-4fa9-4ee6-b4cf-6c0531d0af98\",\"type\":\"ZoomOutTool\"},{\"id\":\"e34a37d0-ca93-4307-a937-ebde4ac77a70\",\"type\":\"BoxZoomTool\"},{\"id\":\"83ab0db8-95f8-4464-a284-495b4039400b\",\"type\":\"UndoTool\"},{\"id\":\"5202a4f4-cee5-47f7-aa62-51ea6692fb41\",\"type\":\"RedoTool\"},{\"id\":\"5f099a6f-1290-4f24-b585-1637955a1bfc\",\"type\":\"ResetTool\"},{\"id\":\"f774126b-4ea4-467d-bf8b-ac244d65fb9e\",\"type\":\"TapTool\"},{\"id\":\"8692ea84-b44d-4c22-b792-7f1181c5ea3a\",\"type\":\"SaveTool\"},{\"id\":\"50df8e8a-4bc6-4996-af6d-e5890f6f0027\",\"type\":\"BoxSelectTool\"},{\"id\":\"fa0f5ecc-c66a-4c92-83fd-a79f020f4d7c\",\"type\":\"PolySelectTool\"},{\"id\":\"0ec5f6f1-bf08-4945-8794-305fa92a881c\",\"type\":\"LassoSelectTool\"}]},\"id\":\"2f1627f6-f8f7-4509-9757-031b3c3ec233\",\"type\":\"Toolbar\"},{\"attributes\":{},\"id\":\"8d3977a3-61b0-45ff-bf08-880ea95b3398\",\"type\":\"BasicTicker\"},{\"attributes\":{\"source\":{\"id\":\"a5bbd74b-4879-4dd0-8a7a-25e5d6ed74f3\",\"type\":\"ColumnDataSource\"}},\"id\":\"6551e29e-1e50-4882-bae5-dce6e10fdf59\",\"type\":\"CDSView\"},{\"attributes\":{\"data_source\":{\"id\":\"39715951-75ee-4cd5-aa1b-5df02baf3b0e\",\"type\":\"ColumnDataSource\"},\"glyph\":{\"id\":\"db9b24c0-693a-4282-87f0-955266e9f1dc\",\"type\":\"Circle\"},\"hover_glyph\":{\"id\":\"f563c459-b363-4424-9f87-eba1c9a99cb9\",\"type\":\"Circle\"},\"muted_glyph\":null,\"nonselection_glyph\":{\"id\":\"421a04ef-3507-4e0d-9977-852c81310ae6\",\"type\":\"Circle\"},\"selection_glyph\":null,\"view\":{\"id\":\"e11b7321-0d68-41db-aad6-af082eb3d546\",\"type\":\"CDSView\"}},\"id\":\"a416352b-607e-4e90-abd3-ce500fd47334\",\"type\":\"GlyphRenderer\"},{\"attributes\":{\"callback\":null},\"id\":\"c30b12e6-701c-4c91-ac76-69eb618072bb\",\"type\":\"DataRange1d\"},{\"attributes\":{\"label\":{\"value\":\"Bacteroidetes\"},\"renderers\":[{\"id\":\"8af1a07b-cac5-4c51-b09d-9525146d8db6\",\"type\":\"GlyphRenderer\"},{\"id\":\"456e987a-f1df-4fd9-a2d8-b97b79adde25\",\"type\":\"GlyphRenderer\"}]},\"id\":\"1cd5fae0-7b1a-4044-a7b3-4362053a4997\",\"type\":\"LegendItem\"},{\"attributes\":{\"source\":{\"id\":\"39715951-75ee-4cd5-aa1b-5df02baf3b0e\",\"type\":\"ColumnDataSource\"}},\"id\":\"e11b7321-0d68-41db-aad6-af082eb3d546\",\"type\":\"CDSView\"},{\"attributes\":{\"source\":{\"id\":\"4b184dcf-eaea-47d9-8baf-a29023a81978\",\"type\":\"ColumnDataSource\"}},\"id\":\"028b86e8-d8e5-44c5-9c71-bdc239cddaca\",\"type\":\"CDSView\"},{\"attributes\":{\"label\":{\"value\":\"Proteobacteria\"},\"renderers\":[{\"id\":\"a416352b-607e-4e90-abd3-ce500fd47334\",\"type\":\"GlyphRenderer\"},{\"id\":\"148f6174-eff9-401c-a89b-46d8b71ff19e\",\"type\":\"GlyphRenderer\"}]},\"id\":\"8b73742a-5b1f-4c5c-9bb2-392cc4df847c\",\"type\":\"LegendItem\"},{\"attributes\":{\"line_alpha\":0.1,\"line_color\":\"#1f77b4\",\"line_width\":2,\"x\":{\"field\":\"x\"},\"y\":{\"field\":\"y\"}},\"id\":\"e06ed0da-f8b0-4108-81f3-a8d82c32cc1b\",\"type\":\"Line\"},{\"attributes\":{\"below\":[{\"id\":\"96aee88b-f0a3-41cd-8670-ea35b416699f\",\"type\":\"LinearAxis\"}],\"left\":[{\"id\":\"c4a19050-def9-47d9-9b07-1338c7043012\",\"type\":\"LinearAxis\"}],\"plot_height\":400,\"plot_width\":800,\"renderers\":[{\"id\":\"96aee88b-f0a3-41cd-8670-ea35b416699f\",\"type\":\"LinearAxis\"},{\"id\":\"62740a12-9072-4cea-bf55-61567ee896ec\",\"type\":\"Grid\"},{\"id\":\"c4a19050-def9-47d9-9b07-1338c7043012\",\"type\":\"LinearAxis\"},{\"id\":\"6eff5ed9-bd11-4ea6-ba5a-cab7510e3f35\",\"type\":\"Grid\"},{\"id\":\"b4a464cd-38cd-4aeb-9cc9-f41ac1aabdb4\",\"type\":\"BoxAnnotation\"},{\"id\":\"a4c6e5f5-ff7a-42c0-a20a-8039811b0e62\",\"type\":\"BoxAnnotation\"},{\"id\":\"1a062923-841e-4807-a1d7-c81baab5db0c\",\"type\":\"PolyAnnotation\"},{\"id\":\"2f1e75af-f90e-4885-99dd-3007995c7a9c\",\"type\":\"PolyAnnotation\"},{\"id\":\"9e60dfb8-eaea-4e66-a261-f152e6ba01c5\",\"type\":\"Legend\"},{\"id\":\"a416352b-607e-4e90-abd3-ce500fd47334\",\"type\":\"GlyphRenderer\"},{\"id\":\"148f6174-eff9-401c-a89b-46d8b71ff19e\",\"type\":\"GlyphRenderer\"},{\"id\":\"8af1a07b-cac5-4c51-b09d-9525146d8db6\",\"type\":\"GlyphRenderer\"},{\"id\":\"456e987a-f1df-4fd9-a2d8-b97b79adde25\",\"type\":\"GlyphRenderer\"},{\"id\":\"a3c07ef8-58b4-403b-bcb4-45ae92ac6656\",\"type\":\"GlyphRenderer\"},{\"id\":\"71b8d3c9-2280-4380-977a-46e4b90249a0\",\"type\":\"GlyphRenderer\"}],\"title\":{\"id\":\"b9932125-2fa6-41cd-a866-0b077bbbadc7\",\"type\":\"Title\"},\"toolbar\":{\"id\":\"2f1627f6-f8f7-4509-9757-031b3c3ec233\",\"type\":\"Toolbar\"},\"toolbar_location\":\"above\",\"x_range\":{\"id\":\"aac98eac-edb3-4a62-b4d9-c98dbc34eae3\",\"type\":\"DataRange1d\"},\"x_scale\":{\"id\":\"0c7eccf9-0e18-447b-8e8b-bcf1cb2ac897\",\"type\":\"LinearScale\"},\"y_range\":{\"id\":\"c30b12e6-701c-4c91-ac76-69eb618072bb\",\"type\":\"DataRange1d\"},\"y_scale\":{\"id\":\"19ac305c-b691-43d8-97b0-7adecf256520\",\"type\":\"LinearScale\"}},\"id\":\"f6732434-e784-4151-a518-028abd09bf01\",\"subtype\":\"Figure\",\"type\":\"Plot\"},{\"attributes\":{\"line_color\":\"purple\",\"line_width\":2,\"x\":{\"field\":\"x\"},\"y\":{\"field\":\"y\"}},\"id\":\"6d791045-7be3-42eb-87ab-51fff24aba3c\",\"type\":\"Line\"},{\"attributes\":{\"data_source\":{\"id\":\"4b184dcf-eaea-47d9-8baf-a29023a81978\",\"type\":\"ColumnDataSource\"},\"glyph\":{\"id\":\"6d791045-7be3-42eb-87ab-51fff24aba3c\",\"type\":\"Line\"},\"hover_glyph\":null,\"muted_glyph\":null,\"nonselection_glyph\":{\"id\":\"e06ed0da-f8b0-4108-81f3-a8d82c32cc1b\",\"type\":\"Line\"},\"selection_glyph\":null,\"view\":{\"id\":\"028b86e8-d8e5-44c5-9c71-bdc239cddaca\",\"type\":\"CDSView\"}},\"id\":\"456e987a-f1df-4fd9-a2d8-b97b79adde25\",\"type\":\"GlyphRenderer\"},{\"attributes\":{\"data_source\":{\"id\":\"712645bc-c2fe-41fa-b8d2-e36f50175202\",\"type\":\"ColumnDataSource\"},\"glyph\":{\"id\":\"8c9ac9f6-ddf2-46fa-bcf0-1a5cdb29d2d0\",\"type\":\"Circle\"},\"hover_glyph\":{\"id\":\"72d91a88-5642-4a31-a5f1-032103c35a9b\",\"type\":\"Circle\"},\"muted_glyph\":null,\"nonselection_glyph\":{\"id\":\"9d2dc116-6ada-4af4-af96-8c97aa0d5311\",\"type\":\"Circle\"},\"selection_glyph\":null,\"view\":{\"id\":\"a112e5c7-6f43-4ced-9c03-e9bace378c70\",\"type\":\"CDSView\"}},\"id\":\"a3c07ef8-58b4-403b-bcb4-45ae92ac6656\",\"type\":\"GlyphRenderer\"},{\"attributes\":{\"dimension\":1,\"plot\":{\"id\":\"f6732434-e784-4151-a518-028abd09bf01\",\"subtype\":\"Figure\",\"type\":\"Plot\"},\"ticker\":{\"id\":\"37185f6e-8790-4cd8-8430-b3659a4b4bed\",\"type\":\"BasicTicker\"}},\"id\":\"6eff5ed9-bd11-4ea6-ba5a-cab7510e3f35\",\"type\":\"Grid\"},{\"attributes\":{},\"id\":\"37185f6e-8790-4cd8-8430-b3659a4b4bed\",\"type\":\"BasicTicker\"},{\"attributes\":{\"fill_alpha\":{\"value\":0.3},\"fill_color\":{\"value\":\"firebrick\"},\"line_alpha\":{\"value\":0.3},\"line_color\":{\"value\":\"white\"},\"size\":{\"units\":\"screen\",\"value\":10},\"x\":{\"field\":\"x\"},\"y\":{\"field\":\"y\"}},\"id\":\"72d91a88-5642-4a31-a5f1-032103c35a9b\",\"type\":\"Circle\"},{\"attributes\":{\"axis_label\":\"Latitude\",\"formatter\":{\"id\":\"506dcc91-ff57-4916-85d6-2399df59cc3b\",\"type\":\"BasicTickFormatter\"},\"plot\":{\"id\":\"f6732434-e784-4151-a518-028abd09bf01\",\"subtype\":\"Figure\",\"type\":\"Plot\"},\"ticker\":{\"id\":\"8d3977a3-61b0-45ff-bf08-880ea95b3398\",\"type\":\"BasicTicker\"}},\"id\":\"96aee88b-f0a3-41cd-8670-ea35b416699f\",\"type\":\"LinearAxis\"},{\"attributes\":{},\"id\":\"19ac305c-b691-43d8-97b0-7adecf256520\",\"type\":\"LinearScale\"},{\"attributes\":{\"plot\":{\"id\":\"f6732434-e784-4151-a518-028abd09bf01\",\"subtype\":\"Figure\",\"type\":\"Plot\"},\"ticker\":{\"id\":\"8d3977a3-61b0-45ff-bf08-880ea95b3398\",\"type\":\"BasicTicker\"}},\"id\":\"62740a12-9072-4cea-bf55-61567ee896ec\",\"type\":\"Grid\"},{\"attributes\":{\"bottom_units\":\"screen\",\"fill_alpha\":{\"value\":0.5},\"fill_color\":{\"value\":\"lightgrey\"},\"left_units\":\"screen\",\"level\":\"overlay\",\"line_alpha\":{\"value\":1.0},\"line_color\":{\"value\":\"black\"},\"line_dash\":[4,4],\"line_width\":{\"value\":2},\"plot\":null,\"render_mode\":\"css\",\"right_units\":\"screen\",\"top_units\":\"screen\"},\"id\":\"b4a464cd-38cd-4aeb-9cc9-f41ac1aabdb4\",\"type\":\"BoxAnnotation\"},{\"attributes\":{},\"id\":\"0c7eccf9-0e18-447b-8e8b-bcf1cb2ac897\",\"type\":\"LinearScale\"},{\"attributes\":{},\"id\":\"43e7fab5-b9e2-42e2-b502-a792c7de8eac\",\"type\":\"PanTool\"},{\"attributes\":{\"callback\":null,\"column_names\":[\"x\",\"y\"],\"data\":{\"x\":{\"__ndarray__\":\"owG8BRKMRsBn1edqK+ZDwEoMAiuHHkHAxyk6ksv/PsDImLuWkP85wMX+snvywDjAaJHtfD+lMsB6pSxDHAsvwAg9m1WfyyfA5/up8dJtIMBPr5RliGMUwGIQWDm0yPe/cT0K16PQIkCSXP5D+i0pQL99HThntDRAvsEXJlNlOEDWxW00gOcwQJp3nKIjWTpApSxDHOuyQEARx7q4jZ5BQI/C9ShcX0NAdk8eFmqFRUBLyAc9m4VHQA==\",\"dtype\":\"float64\",\"shape\":[23]},\"y\":{\"__ndarray__\":\"Xvj66Twdyz8j8DvXRFncP5Q4xzGfl8k/rxuOKVW+zz/Z5wC5ab3OP+wLwEJipb0/390grgrewj/OuJMaTPHEP5zuotMTn8s/fUJ4f/Ba0T+BO+szfsTEP5jFYPRmEdw/owLYu7H20D9mvbf1rSXQPzkiKtMATr4/DBOtWFMLyT+lrnJfaUDOP+4TegXn98g/MjtZ8LhEzj+vNPaXaNPGP+qPUmBw2Ms/nxftY3Xezj+PAM5encDLPw==\",\"dtype\":\"float64\",\"shape\":[23]}}},\"id\":\"a5bbd74b-4879-4dd0-8a7a-25e5d6ed74f3\",\"type\":\"ColumnDataSource\"}],\"root_ids\":[\"cb6b45e4-3c4a-4682-a599-4fa8fc4c1653\"]},\"title\":\"Bokeh Application\",\"version\":\"0.12.14\"}};\n",
       "  var render_items = [{\"docid\":\"07bae466-0787-4552-accd-dcc42e9e3cbe\",\"elementid\":\"4e8d10be-8ca4-4d4d-8ff5-2fcd2b9bbabd\",\"modelid\":\"cb6b45e4-3c4a-4682-a599-4fa8fc4c1653\"}];\n",
       "  root.Bokeh.embed.embed_items_notebook(docs_json, render_items);\n",
       "\n",
       "  }\n",
       "  if (root.Bokeh !== undefined) {\n",
       "    embed_document(root);\n",
       "  } else {\n",
       "    var attempts = 0;\n",
       "    var timer = setInterval(function(root) {\n",
       "      if (root.Bokeh !== undefined) {\n",
       "        embed_document(root);\n",
       "        clearInterval(timer);\n",
       "      }\n",
       "      attempts++;\n",
       "      if (attempts > 100) {\n",
       "        console.log(\"Bokeh: ERROR: Unable to run BokehJS code because BokehJS library is missing\")\n",
       "        clearInterval(timer);\n",
       "      }\n",
       "    }, 10, root)\n",
       "  }\n",
       "})(window);"
      ],
      "application/vnd.bokehjs_exec.v0+json": ""
     },
     "metadata": {
      "application/vnd.bokehjs_exec.v0+json": {
       "id": "cb6b45e4-3c4a-4682-a599-4fa8fc4c1653"
      }
     },
     "output_type": "display_data"
    },
    {
     "name": "stdout",
     "output_type": "stream",
     "text": [
      "\n"
     ]
    }
   ],
   "source": [
    "from opedia import esv\n",
    "\n",
    "############## set parameters ################\n",
    "# only plot the top_N number of most abundant organisms\n",
    "topN = 3           \n",
    "# aggregate organisims by their taxa level\n",
    "tax = ['domain', 'phylum', 'class', 'order', 'family', 'genus', 'species'][1]\n",
    "depth1 = 200\n",
    "depth2 = depth1\n",
    "cruise_name = 'ANT28-5'\n",
    "cluster_level = [89, 92, 96, 97, 98, 99, 100][3]        # minimum similarity precentage to be clustered 100 = ASV level\n",
    "\n",
    "#iSizeFrac = 0 # Free-living fraction 0.2 - 3 uM\n",
    "#iSizeFrac = 1 # Small particle-associated 3 - 8 uM \n",
    "iSizeFrac = 2 # Large particle-associated fraction > 8 uM \n",
    "\n",
    "size_frac_lower = [0.2, 3, 8][iSizeFrac]                        # size in micro-meter\n",
    "size_frac_upper = [3, 8, None][iSizeFrac]                       # size in micro-meter\n",
    "##############################################\n",
    "\n",
    "esv.plotESVs(topN, tax, depth1, depth2, cruise_name, cluster_level, size_frac_lower, size_frac_upper)"
   ]
  },
  {
   "cell_type": "markdown",
   "metadata": {},
   "source": [
    "<br/><br/>\n",
    "# Colocalize with Model and Satellite\n",
    "\n",
    "Here, the retrieved trends of relative abundances are colocalized with other datasets, in this case with Darwin model. The results are stored in a .csv file in the ./data directory. "
   ]
  },
  {
   "cell_type": "code",
   "execution_count": 2,
   "metadata": {},
   "outputs": [
    {
     "data": {
      "application/vnd.jupyter.widget-view+json": {
       "model_id": "9a739c8e50d94411b3dafdc67b997342",
       "version_major": 2,
       "version_minor": 0
      },
      "text/plain": [
       "HBox(children=(IntProgress(value=0, description=u'overall', max=3), HTML(value=u'')))"
      ]
     },
     "metadata": {},
     "output_type": "display_data"
    },
    {
     "data": {
      "application/vnd.jupyter.widget-view+json": {
       "model_id": "e8751a1d5220423c96ead4c902d158e0",
       "version_major": 2,
       "version_minor": 0
      },
      "text/plain": [
       "HBox(children=(IntProgress(value=0, description=u'prokaryote_c01_darwin_clim', max=27), HTML(value=u'')))"
      ]
     },
     "metadata": {},
     "output_type": "display_data"
    },
    {
     "data": {
      "application/vnd.jupyter.widget-view+json": {
       "model_id": "4962b9e178e74a76aced2ec4a7a8f175",
       "version_major": 2,
       "version_minor": 0
      },
      "text/plain": [
       "HBox(children=(IntProgress(value=0, description=u'prokaryote_c02_darwin_clim', max=27), HTML(value=u'')))"
      ]
     },
     "metadata": {},
     "output_type": "display_data"
    },
    {
     "data": {
      "application/vnd.jupyter.widget-view+json": {
       "model_id": "bdcbc271eca148a7bcaf89b0f48b348e",
       "version_major": 2,
       "version_minor": 0
      },
      "text/plain": [
       "HBox(children=(IntProgress(value=0, description=u'cocco_c05_darwin_clim', max=27), HTML(value=u'')))"
      ]
     },
     "metadata": {},
     "output_type": "display_data"
    },
    {
     "name": "stdout",
     "output_type": "stream",
     "text": [
      "\n",
      "\n"
     ]
    }
   ],
   "source": [
    "from opedia import colocalize as COL\n",
    "\n",
    "DB = False                           # < True > if source data exists in the database. < 0 > if the source data set is a spreadsheet file on disk. \n",
    "source = './data/esv.csv'            # the source table name (or full filename)    \n",
    "temporalTolerance = 3                # colocalizer temporal tolerance (+/- degrees)\n",
    "latTolerance = 0.3                   # colocalizer meridional tolerance (+/- degrees)\n",
    "lonTolerance = 0.3                   # colocalizer zonal tolerance (+/- degrees) \n",
    "depthTolerance = 5                   # colocalizer depth tolerance (+/- meters)\n",
    "tables = ['tblDarwin_Plankton_Climatology', 'tblDarwin_Plankton_Climatology', 'tblDarwin_Plankton_Climatology']    # list of varaible table names               \n",
    "variables = ['prokaryote_c01_darwin_clim', 'prokaryote_c02_darwin_clim', 'cocco_c05_darwin_clim']                  # list of variable names           \n",
    "exportPath = './data/loaded.csv'     # path to save the colocalized data set \n",
    "    \n",
    "COL.matchSource(DB, source, temporalTolerance, latTolerance, lonTolerance, depthTolerance, tables, variables, exportPath)    "
   ]
  },
  {
   "cell_type": "code",
   "execution_count": null,
   "metadata": {},
   "outputs": [],
   "source": []
  }
 ],
 "metadata": {
  "kernelspec": {
   "display_name": "Python [conda env:opedia-env]",
   "language": "python",
   "name": "conda-env-opedia-env-py"
  },
  "language_info": {
   "codemirror_mode": {
    "name": "ipython",
    "version": 3
   },
   "file_extension": ".py",
   "mimetype": "text/x-python",
   "name": "python",
   "nbconvert_exporter": "python",
   "pygments_lexer": "ipython3",
   "version": "3.6.6"
  }
 },
 "nbformat": 4,
 "nbformat_minor": 2
}
