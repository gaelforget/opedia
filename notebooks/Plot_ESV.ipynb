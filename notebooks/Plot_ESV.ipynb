{
 "cells": [
  {
   "cell_type": "markdown",
   "metadata": {},
   "source": [
    "# Plotting Exact Amplicon Sequence Variants (16S) Along an Atlantic Latitudinal Transect\n",
    "### Query and aggeragate by taxonomy level, clustering thereshold, and size fraction\n",
    "\n",
    "The example below retrieves the \"topN\" number of most abundant sequenced organisms along track of the cruise. One can aggregate and visualize the relative abundance of the organisms according to their taxonomy, clustering levels, and size fractions. The cruise, 'ANT28-5', is an Atlantic latitudinal transect. <br/> <br/>\n",
    "\n",
    "**Thanks to Irene Wagner-Döbler and Meinhard Simon's research groups for making this beautiful dataset publicly available!**  <br/> <br/> "
   ]
  },
  {
   "cell_type": "code",
   "execution_count": 21,
   "metadata": {},
   "outputs": [
    {
     "data": {
      "application/vnd.jupyter.widget-view+json": {
       "model_id": "0db4917a7ebc48f3bcd80b2a41f5506b",
       "version_major": 2,
       "version_minor": 0
      },
      "text/plain": [
       "HBox(children=(IntProgress(value=0, description='overall', max=3, style=ProgressStyle(description_width='initi…"
      ]
     },
     "metadata": {},
     "output_type": "display_data"
    },
    {
     "name": "stdout",
     "output_type": "stream",
     "text": [
      "\n"
     ]
    },
    {
     "data": {
      "text/html": [
       "\n",
       "<div class=\"bk-root\">\n",
       "    <div class=\"bk-plotdiv\" id=\"af87db45-b145-4636-9242-f137550503ce\"></div>\n",
       "</div>"
      ]
     },
     "metadata": {},
     "output_type": "display_data"
    },
    {
     "data": {
      "application/javascript": [
       "(function(root) {\n",
       "  function embed_document(root) {\n",
       "    \n",
       "  var docs_json = {\"248a5ad9-0e47-4337-b677-8a36675dc60d\":{\"roots\":{\"references\":[{\"attributes\":{\"fill_alpha\":{\"value\":0.5},\"fill_color\":{\"value\":\"lightgrey\"},\"level\":\"overlay\",\"line_alpha\":{\"value\":1.0},\"line_color\":{\"value\":\"black\"},\"line_dash\":[4,4],\"line_width\":{\"value\":2},\"plot\":null,\"xs_units\":\"screen\",\"ys_units\":\"screen\"},\"id\":\"9dd7125e-63cc-46c8-ae3c-d6ef80794bc8\",\"type\":\"PolyAnnotation\"},{\"attributes\":{},\"id\":\"7f4415f4-df65-4128-b9e3-e6f7884dfa93\",\"type\":\"BasicTickFormatter\"},{\"attributes\":{},\"id\":\"09fb9242-09fd-4e5e-83cf-08087168181f\",\"type\":\"SaveTool\"},{\"attributes\":{\"callback\":null,\"overlay\":{\"id\":\"f76b22c1-d960-49cf-ad20-e5f602e5a8ab\",\"type\":\"BoxAnnotation\"},\"renderers\":[{\"id\":\"72d5e3f9-334b-4872-9394-c077bf56e286\",\"type\":\"GlyphRenderer\"},{\"id\":\"34f5d18c-384c-4f84-9e98-75cf5fae1e58\",\"type\":\"GlyphRenderer\"},{\"id\":\"4425c695-b17c-4284-b9d3-3624beab9f9a\",\"type\":\"GlyphRenderer\"},{\"id\":\"caec7466-650e-4100-a179-8f9ff6e1a2a8\",\"type\":\"GlyphRenderer\"},{\"id\":\"c994f2ef-bda1-4888-8c4c-236b6d336ece\",\"type\":\"GlyphRenderer\"},{\"id\":\"efd8ec3c-32fd-4b37-8bc5-d4ee9bb0e9aa\",\"type\":\"GlyphRenderer\"}]},\"id\":\"db6470af-aade-4a7d-918d-edd19164c1af\",\"type\":\"BoxSelectTool\"},{\"attributes\":{\"callback\":null,\"overlay\":{\"id\":\"9dd7125e-63cc-46c8-ae3c-d6ef80794bc8\",\"type\":\"PolyAnnotation\"}},\"id\":\"1d920ddd-3211-443b-977a-ff8dab6128fa\",\"type\":\"PolySelectTool\"},{\"attributes\":{\"callback\":null,\"overlay\":{\"id\":\"a9d30115-2f4c-4b17-9d83-6d0dd9908fd9\",\"type\":\"PolyAnnotation\"}},\"id\":\"d3137b14-01e5-4946-a49b-dd20ee155efa\",\"type\":\"LassoSelectTool\"},{\"attributes\":{\"bottom_units\":\"screen\",\"fill_alpha\":{\"value\":0.5},\"fill_color\":{\"value\":\"lightgrey\"},\"left_units\":\"screen\",\"level\":\"overlay\",\"line_alpha\":{\"value\":1.0},\"line_color\":{\"value\":\"black\"},\"line_dash\":[4,4],\"line_width\":{\"value\":2},\"plot\":null,\"render_mode\":\"css\",\"right_units\":\"screen\",\"top_units\":\"screen\"},\"id\":\"2c8f7d8b-1e98-459e-a96c-421307726289\",\"type\":\"BoxAnnotation\"},{\"attributes\":{\"source\":{\"id\":\"8b938876-d07a-42fa-948d-28ab91b7e06d\",\"type\":\"ColumnDataSource\"}},\"id\":\"6b320709-f0fb-4f8c-90a5-e3c227508b80\",\"type\":\"CDSView\"},{\"attributes\":{\"bottom_units\":\"screen\",\"fill_alpha\":{\"value\":0.5},\"fill_color\":{\"value\":\"lightgrey\"},\"left_units\":\"screen\",\"level\":\"overlay\",\"line_alpha\":{\"value\":1.0},\"line_color\":{\"value\":\"black\"},\"line_dash\":[4,4],\"line_width\":{\"value\":2},\"plot\":null,\"render_mode\":\"css\",\"right_units\":\"screen\",\"top_units\":\"screen\"},\"id\":\"f76b22c1-d960-49cf-ad20-e5f602e5a8ab\",\"type\":\"BoxAnnotation\"},{\"attributes\":{\"line_alpha\":0.1,\"line_color\":\"#1f77b4\",\"line_width\":2,\"x\":{\"field\":\"x\"},\"y\":{\"field\":\"y\"}},\"id\":\"67b64315-30e0-4847-940d-4558dd66bae5\",\"type\":\"Line\"},{\"attributes\":{\"fill_alpha\":{\"value\":0.3},\"fill_color\":{\"value\":\"firebrick\"},\"line_alpha\":{\"value\":0.3},\"line_color\":{\"value\":\"white\"},\"size\":{\"units\":\"screen\",\"value\":10},\"x\":{\"field\":\"x\"},\"y\":{\"field\":\"y\"}},\"id\":\"ba2d817e-1b07-4558-8f16-40825e78fa4f\",\"type\":\"Circle\"},{\"attributes\":{\"data_source\":{\"id\":\"e0b0275a-dbab-4389-9f5b-97b2685dffad\",\"type\":\"ColumnDataSource\"},\"glyph\":{\"id\":\"09cb7f4a-085d-4fce-b038-1a32db40f25b\",\"type\":\"Circle\"},\"hover_glyph\":{\"id\":\"ba2d817e-1b07-4558-8f16-40825e78fa4f\",\"type\":\"Circle\"},\"muted_glyph\":null,\"nonselection_glyph\":{\"id\":\"199f51d1-ccf9-4711-a173-b0653b69075f\",\"type\":\"Circle\"},\"selection_glyph\":null,\"view\":{\"id\":\"2197523e-ec6c-4cf9-992c-bdded4aae1b0\",\"type\":\"CDSView\"}},\"id\":\"72d5e3f9-334b-4872-9394-c077bf56e286\",\"type\":\"GlyphRenderer\"},{\"attributes\":{\"callback\":null,\"column_names\":[\"x\",\"y\"],\"data\":{\"x\":{\"__ndarray__\":\"kDF3LSGHScBjf9k9efhHwKMBvAUSjEbAZ9XnaivmQ8BKDAIrhx5BwMcpOpLL/z7AyJi7lpD/OcDF/rJ78sA4wAn5oGezOjXAaJHtfD+lMsB6pSxDHAsvwAg9m1WfyyfA5/up8dJtIMBPr5RliGMUwGIQWDm0yPe/I9v5fmo8GEBxPQrXo9AiQJJc/kP6LSlAv30dOGe0NEDWxW00gOcwQL7BFyZTZThA1sVtNIDnMECad5yiI1k6QKUsQxzrskBAEce6uI2eQUCPwvUoXF9DQHZPHhZqhUVAS8gHPZuFR0A=\",\"dtype\":\"float64\",\"shape\":[28]},\"y\":{\"__ndarray__\":\"B/AFYwLJuD/bfcJtG3q3P43Pk2VdQck/dA/D9SnPwD8GQKf6rYK0PxK3nYzQ1a8/b5rcdz03sz9emUYqDQa8PzSfHW88bKY/i5Ban0/grz8tdLyPLK2+P3tGVCcjEcQ/jzauhcwVuj+2onnWUMaWP5ZXXPrbUak/V10MY40TqT+DYoVY+sKmPylSN9uaT7c/csKUv8zvuz/0SvBV0jusP1074kAnxbo/FSXOx5Msqz9isQCAcn29P3JjDzjPVqU/pR/7TgFatj98+M+w+Ce8P9tAiTGpLLw/FKHq2j06uT8=\",\"dtype\":\"float64\",\"shape\":[28]}}},\"id\":\"9558f505-d21e-43f5-9c86-95b11af45656\",\"type\":\"ColumnDataSource\"},{\"attributes\":{\"callback\":null,\"column_names\":[\"x\",\"y\"],\"data\":{\"x\":{\"__ndarray__\":\"kDF3LSGHScBjf9k9efhHwKMBvAUSjEbAZ9XnaivmQ8BKDAIrhx5BwMcpOpLL/z7AyJi7lpD/OcDF/rJ78sA4wAn5oGezOjXAaJHtfD+lMsB6pSxDHAsvwAg9m1WfyyfA5/up8dJtIMBPr5RliGMUwGIQWDm0yPe/I9v5fmo8GEBxPQrXo9AiQJJc/kP6LSlAv30dOGe0NEDWxW00gOcwQL7BFyZTZThA1sVtNIDnMECad5yiI1k6QKUsQxzrskBAEce6uI2eQUCPwvUoXF9DQHZPHhZqhUVAS8gHPZuFR0A=\",\"dtype\":\"float64\",\"shape\":[28]},\"y\":{\"__ndarray__\":\"B/AFYwLJuD/bfcJtG3q3P43Pk2VdQck/dA/D9SnPwD8GQKf6rYK0PxK3nYzQ1a8/b5rcdz03sz9emUYqDQa8PzSfHW88bKY/i5Ban0/grz8tdLyPLK2+P3tGVCcjEcQ/jzauhcwVuj+2onnWUMaWP5ZXXPrbUak/V10MY40TqT+DYoVY+sKmPylSN9uaT7c/csKUv8zvuz/0SvBV0jusP1074kAnxbo/FSXOx5Msqz9isQCAcn29P3JjDzjPVqU/pR/7TgFatj98+M+w+Ce8P9tAiTGpLLw/FKHq2j06uT8=\",\"dtype\":\"float64\",\"shape\":[28]}}},\"id\":\"35ebfdec-e172-42da-b3a0-01c8cb3415b1\",\"type\":\"ColumnDataSource\"},{\"attributes\":{},\"id\":\"6bb966d7-09af-41b3-b8ba-b85309212dc6\",\"type\":\"BasicTickFormatter\"},{\"attributes\":{\"line_color\":\"grey\",\"line_width\":2,\"x\":{\"field\":\"x\"},\"y\":{\"field\":\"y\"}},\"id\":\"e2e9a068-eed7-4bd0-9176-0e5c582a2009\",\"type\":\"Line\"},{\"attributes\":{\"source\":{\"id\":\"e0b0275a-dbab-4389-9f5b-97b2685dffad\",\"type\":\"ColumnDataSource\"}},\"id\":\"2197523e-ec6c-4cf9-992c-bdded4aae1b0\",\"type\":\"CDSView\"},{\"attributes\":{\"line_color\":\"purple\",\"line_width\":2,\"x\":{\"field\":\"x\"},\"y\":{\"field\":\"y\"}},\"id\":\"e0ef5089-b435-4ce8-8ecb-8e9485e5a84c\",\"type\":\"Line\"},{\"attributes\":{\"callback\":null,\"column_names\":[\"x\",\"y\"],\"data\":{\"x\":{\"__ndarray__\":\"kDF3LSGHScBjf9k9efhHwKMBvAUSjEbAZ9XnaivmQ8BKDAIrhx5BwMcpOpLL/z7AyJi7lpD/OcDF/rJ78sA4wAn5oGezOjXAaJHtfD+lMsB6pSxDHAsvwAg9m1WfyyfA5/up8dJtIMBPr5RliGMUwGIQWDm0yPe/I9v5fmo8GEBxPQrXo9AiQJJc/kP6LSlAv30dOGe0NEDWxW00gOcwQL7BFyZTZThA1sVtNIDnMECad5yiI1k6QKUsQxzrskBAEce6uI2eQUCPwvUoXF9DQHZPHhZqhUVAS8gHPZuFR0A=\",\"dtype\":\"float64\",\"shape\":[28]},\"y\":{\"__ndarray__\":\"lYnyHGr7zT9sHh1WJHrEP/hWS4S2ndw/eDmuTBYs1z92PcgmPdzZPxyofH7879Q/AiM3MBBg4j+MhqstJQrgP8EFTLiACcc/luUlhCxk3j+boBdZcHXlP4hbBJ4+4uE/QPHn5lyS1j+nobqZRCPEP3iChsZUCdM/e69lchsc0D+ethBaOgXOPwTiwwcwMtw/QLXekD0E4j8iF3Dx3kHNPwCJHR5iSto/s4fRuzqj0D98LUeANKfdP4ZbOm35iNI/IuVqzFBz4D+hRysVT5HgPzAjG4ff1eQ/D61Pi9i65D8=\",\"dtype\":\"float64\",\"shape\":[28]}}},\"id\":\"8b938876-d07a-42fa-948d-28ab91b7e06d\",\"type\":\"ColumnDataSource\"},{\"attributes\":{\"plot\":null,\"text\":\"\"},\"id\":\"ff3b828b-6e31-4be9-8299-756ea0dbcbed\",\"type\":\"Title\"},{\"attributes\":{},\"id\":\"1ff17925-c184-4185-baeb-0f731a914c2b\",\"type\":\"ResetTool\"},{\"attributes\":{\"items\":[{\"id\":\"e2e114e4-886c-4a55-be07-48f7ea77c3e7\",\"type\":\"LegendItem\"},{\"id\":\"e645072a-4ae4-4b8e-8ebb-170fe3eb945f\",\"type\":\"LegendItem\"},{\"id\":\"1e6d30af-455b-4106-bbdf-f0600c1b8361\",\"type\":\"LegendItem\"}],\"plot\":{\"id\":\"5772975f-1591-479b-a333-7267f9685c40\",\"subtype\":\"Figure\",\"type\":\"Plot\"}},\"id\":\"83e5fa38-1660-4274-b5ff-a42f4573a7c7\",\"type\":\"Legend\"},{\"attributes\":{\"fill_alpha\":{\"value\":0.7},\"fill_color\":{\"value\":\"purple\"},\"line_color\":{\"value\":null},\"size\":{\"units\":\"screen\",\"value\":10},\"x\":{\"field\":\"x\"},\"y\":{\"field\":\"y\"}},\"id\":\"d8e9beab-b2f2-4332-b0f7-0beffb3a964a\",\"type\":\"Circle\"},{\"attributes\":{\"below\":[{\"id\":\"1e97c758-23c5-4a9d-8876-fe8c0e3e16ba\",\"type\":\"LinearAxis\"}],\"left\":[{\"id\":\"cb1e174b-3ae7-4057-a282-a3afb808eaf4\",\"type\":\"LinearAxis\"}],\"plot_height\":400,\"plot_width\":800,\"renderers\":[{\"id\":\"1e97c758-23c5-4a9d-8876-fe8c0e3e16ba\",\"type\":\"LinearAxis\"},{\"id\":\"3f359dba-08c4-4e9e-94ad-05666bb5b776\",\"type\":\"Grid\"},{\"id\":\"cb1e174b-3ae7-4057-a282-a3afb808eaf4\",\"type\":\"LinearAxis\"},{\"id\":\"85408864-f8a3-468a-a32b-f6bc99922849\",\"type\":\"Grid\"},{\"id\":\"2c8f7d8b-1e98-459e-a96c-421307726289\",\"type\":\"BoxAnnotation\"},{\"id\":\"f76b22c1-d960-49cf-ad20-e5f602e5a8ab\",\"type\":\"BoxAnnotation\"},{\"id\":\"9dd7125e-63cc-46c8-ae3c-d6ef80794bc8\",\"type\":\"PolyAnnotation\"},{\"id\":\"a9d30115-2f4c-4b17-9d83-6d0dd9908fd9\",\"type\":\"PolyAnnotation\"},{\"id\":\"83e5fa38-1660-4274-b5ff-a42f4573a7c7\",\"type\":\"Legend\"},{\"id\":\"72d5e3f9-334b-4872-9394-c077bf56e286\",\"type\":\"GlyphRenderer\"},{\"id\":\"34f5d18c-384c-4f84-9e98-75cf5fae1e58\",\"type\":\"GlyphRenderer\"},{\"id\":\"4425c695-b17c-4284-b9d3-3624beab9f9a\",\"type\":\"GlyphRenderer\"},{\"id\":\"caec7466-650e-4100-a179-8f9ff6e1a2a8\",\"type\":\"GlyphRenderer\"},{\"id\":\"c994f2ef-bda1-4888-8c4c-236b6d336ece\",\"type\":\"GlyphRenderer\"},{\"id\":\"efd8ec3c-32fd-4b37-8bc5-d4ee9bb0e9aa\",\"type\":\"GlyphRenderer\"}],\"title\":{\"id\":\"ff3b828b-6e31-4be9-8299-756ea0dbcbed\",\"type\":\"Title\"},\"toolbar\":{\"id\":\"47a19f7f-5c2a-454d-8b51-d750f858efa0\",\"type\":\"Toolbar\"},\"toolbar_location\":\"above\",\"x_range\":{\"id\":\"3c3c2a32-ab27-4246-9405-f30e90ccbec6\",\"type\":\"DataRange1d\"},\"x_scale\":{\"id\":\"f8ad8cd3-5add-4b4b-ac71-436f24c79684\",\"type\":\"LinearScale\"},\"y_range\":{\"id\":\"1050d37d-5982-4ada-b99e-41475d111fd3\",\"type\":\"DataRange1d\"},\"y_scale\":{\"id\":\"a85f9413-87ed-44bb-9def-d73d79e0b67a\",\"type\":\"LinearScale\"}},\"id\":\"5772975f-1591-479b-a333-7267f9685c40\",\"subtype\":\"Figure\",\"type\":\"Plot\"},{\"attributes\":{\"data_source\":{\"id\":\"96ee53a2-c6c9-4714-be98-24e0baeb3fed\",\"type\":\"ColumnDataSource\"},\"glyph\":{\"id\":\"e0ef5089-b435-4ce8-8ecb-8e9485e5a84c\",\"type\":\"Line\"},\"hover_glyph\":null,\"muted_glyph\":null,\"nonselection_glyph\":{\"id\":\"67b64315-30e0-4847-940d-4558dd66bae5\",\"type\":\"Line\"},\"selection_glyph\":null,\"view\":{\"id\":\"c2f706a6-e6da-426c-a117-9183293e7c24\",\"type\":\"CDSView\"}},\"id\":\"caec7466-650e-4100-a179-8f9ff6e1a2a8\",\"type\":\"GlyphRenderer\"},{\"attributes\":{\"label\":{\"value\":\"NULL\"},\"renderers\":[{\"id\":\"72d5e3f9-334b-4872-9394-c077bf56e286\",\"type\":\"GlyphRenderer\"},{\"id\":\"34f5d18c-384c-4f84-9e98-75cf5fae1e58\",\"type\":\"GlyphRenderer\"}]},\"id\":\"e2e114e4-886c-4a55-be07-48f7ea77c3e7\",\"type\":\"LegendItem\"},{\"attributes\":{\"line_alpha\":0.1,\"line_color\":\"#1f77b4\",\"line_width\":2,\"x\":{\"field\":\"x\"},\"y\":{\"field\":\"y\"}},\"id\":\"2be8aa8c-e465-4262-a492-b7f3844cce5f\",\"type\":\"Line\"},{\"attributes\":{\"line_alpha\":0.1,\"line_color\":\"#1f77b4\",\"line_width\":2,\"x\":{\"field\":\"x\"},\"y\":{\"field\":\"y\"}},\"id\":\"802dfd97-3e95-48f4-be5e-0c774a47f06e\",\"type\":\"Line\"},{\"attributes\":{},\"id\":\"63c511b3-0783-46f1-b1ec-6736f9d71483\",\"type\":\"WheelZoomTool\"},{\"attributes\":{\"label\":{\"value\":\"Ambiguous_taxa\"},\"renderers\":[{\"id\":\"c994f2ef-bda1-4888-8c4c-236b6d336ece\",\"type\":\"GlyphRenderer\"},{\"id\":\"efd8ec3c-32fd-4b37-8bc5-d4ee9bb0e9aa\",\"type\":\"GlyphRenderer\"}]},\"id\":\"1e6d30af-455b-4106-bbdf-f0600c1b8361\",\"type\":\"LegendItem\"},{\"attributes\":{\"source\":{\"id\":\"35ebfdec-e172-42da-b3a0-01c8cb3415b1\",\"type\":\"ColumnDataSource\"}},\"id\":\"a4c76d16-9ad0-40ba-8e81-f7b6cd5aa687\",\"type\":\"CDSView\"},{\"attributes\":{\"overlay\":{\"id\":\"2c8f7d8b-1e98-459e-a96c-421307726289\",\"type\":\"BoxAnnotation\"}},\"id\":\"0781cec6-a47a-4a39-8c68-ef3f80f573e8\",\"type\":\"BoxZoomTool\"},{\"attributes\":{\"data_source\":{\"id\":\"8b938876-d07a-42fa-948d-28ab91b7e06d\",\"type\":\"ColumnDataSource\"},\"glyph\":{\"id\":\"e2e9a068-eed7-4bd0-9176-0e5c582a2009\",\"type\":\"Line\"},\"hover_glyph\":null,\"muted_glyph\":null,\"nonselection_glyph\":{\"id\":\"2be8aa8c-e465-4262-a492-b7f3844cce5f\",\"type\":\"Line\"},\"selection_glyph\":null,\"view\":{\"id\":\"6b320709-f0fb-4f8c-90a5-e3c227508b80\",\"type\":\"CDSView\"}},\"id\":\"34f5d18c-384c-4f84-9e98-75cf5fae1e58\",\"type\":\"GlyphRenderer\"},{\"attributes\":{\"fill_alpha\":{\"value\":0.1},\"fill_color\":{\"value\":\"#1f77b4\"},\"line_alpha\":{\"value\":0.1},\"line_color\":{\"value\":\"#1f77b4\"},\"size\":{\"units\":\"screen\",\"value\":10},\"x\":{\"field\":\"x\"},\"y\":{\"field\":\"y\"}},\"id\":\"28a4d7ca-e71b-4bdc-abb7-a0948d4276ee\",\"type\":\"Circle\"},{\"attributes\":{\"source\":{\"id\":\"96ee53a2-c6c9-4714-be98-24e0baeb3fed\",\"type\":\"ColumnDataSource\"}},\"id\":\"c2f706a6-e6da-426c-a117-9183293e7c24\",\"type\":\"CDSView\"},{\"attributes\":{},\"id\":\"49bf51c7-841a-42dc-8cd6-6ea98c326460\",\"type\":\"ZoomOutTool\"},{\"attributes\":{\"children\":[{\"id\":\"5772975f-1591-479b-a333-7267f9685c40\",\"subtype\":\"Figure\",\"type\":\"Plot\"}]},\"id\":\"b3ff3f44-6fc5-4c0f-910e-23c3426f1f97\",\"type\":\"Column\"},{\"attributes\":{\"line_color\":\"darkturquoise\",\"line_width\":2,\"x\":{\"field\":\"x\"},\"y\":{\"field\":\"y\"}},\"id\":\"90ba668b-7bce-4b77-b1ad-929663278f5d\",\"type\":\"Line\"},{\"attributes\":{},\"id\":\"b90687c7-e973-4992-945e-89830c5f5b52\",\"type\":\"ZoomInTool\"},{\"attributes\":{\"data_source\":{\"id\":\"35ebfdec-e172-42da-b3a0-01c8cb3415b1\",\"type\":\"ColumnDataSource\"},\"glyph\":{\"id\":\"90ba668b-7bce-4b77-b1ad-929663278f5d\",\"type\":\"Line\"},\"hover_glyph\":null,\"muted_glyph\":null,\"nonselection_glyph\":{\"id\":\"802dfd97-3e95-48f4-be5e-0c774a47f06e\",\"type\":\"Line\"},\"selection_glyph\":null,\"view\":{\"id\":\"a4c76d16-9ad0-40ba-8e81-f7b6cd5aa687\",\"type\":\"CDSView\"}},\"id\":\"efd8ec3c-32fd-4b37-8bc5-d4ee9bb0e9aa\",\"type\":\"GlyphRenderer\"},{\"attributes\":{\"data_source\":{\"id\":\"9558f505-d21e-43f5-9c86-95b11af45656\",\"type\":\"ColumnDataSource\"},\"glyph\":{\"id\":\"6d92cb47-d93f-4f91-84f9-ef9f5ac269e7\",\"type\":\"Circle\"},\"hover_glyph\":{\"id\":\"f8cae0df-cd4c-468c-b5a8-217249592ae6\",\"type\":\"Circle\"},\"muted_glyph\":null,\"nonselection_glyph\":{\"id\":\"67cbca5e-2e47-48ec-ae6b-ef05d70307d0\",\"type\":\"Circle\"},\"selection_glyph\":null,\"view\":{\"id\":\"5fef17c7-eeec-4781-9f0a-fafca9897475\",\"type\":\"CDSView\"}},\"id\":\"c994f2ef-bda1-4888-8c4c-236b6d336ece\",\"type\":\"GlyphRenderer\"},{\"attributes\":{\"label\":{\"value\":\"uncultured bacterium\"},\"renderers\":[{\"id\":\"4425c695-b17c-4284-b9d3-3624beab9f9a\",\"type\":\"GlyphRenderer\"},{\"id\":\"caec7466-650e-4100-a179-8f9ff6e1a2a8\",\"type\":\"GlyphRenderer\"}]},\"id\":\"e645072a-4ae4-4b8e-8ebb-170fe3eb945f\",\"type\":\"LegendItem\"},{\"attributes\":{\"callback\":null,\"column_names\":[\"x\",\"y\"],\"data\":{\"x\":{\"__ndarray__\":\"kDF3LSGHScBjf9k9efhHwKMBvAUSjEbAZ9XnaivmQ8BKDAIrhx5BwMcpOpLL/z7AyJi7lpD/OcDF/rJ78sA4wAn5oGezOjXAaJHtfD+lMsB6pSxDHAsvwAg9m1WfyyfA5/up8dJtIMBPr5RliGMUwGIQWDm0yPe/I9v5fmo8GEBxPQrXo9AiQJJc/kP6LSlAv30dOGe0NEDWxW00gOcwQL7BFyZTZThA1sVtNIDnMECad5yiI1k6QKUsQxzrskBAEce6uI2eQUCPwvUoXF9DQHZPHhZqhUVAS8gHPZuFR0A=\",\"dtype\":\"float64\",\"shape\":[28]},\"y\":{\"__ndarray__\":\"6eqJZus3jD+G7iuiK06aP7M4YwD3ZKA/Q7mh0xZpuD+ET+Yf1dfAP2k5jV6+kcE/xZIwQE8GyT9OVOLxxZvEP9FSyvPjEqg/RdOlOPqEwz/GVgoIH7LQP5oxDc0GCtI/KkffwREWxz//ocOgi/u0P+Sy5+heeb0/go8PdN4YwT+GRNgbkuK+Pzm1LDO2RcU/GGZLji3dyz9ZIUzi5/C0P+NCgYUu9cE/7VnVnClpvz/QkkPFOqTBP5nndej2mrY/1Q2M33kEyz9EvDhvtpjBPydclbeoA7c/Vh3sTgTgtD8=\",\"dtype\":\"float64\",\"shape\":[28]}}},\"id\":\"a38e2276-367e-4dd8-adcd-bbd1533871fe\",\"type\":\"ColumnDataSource\"},{\"attributes\":{\"fill_alpha\":{\"value\":0.3},\"fill_color\":{\"value\":\"firebrick\"},\"line_alpha\":{\"value\":0.3},\"line_color\":{\"value\":\"white\"},\"size\":{\"units\":\"screen\",\"value\":10},\"x\":{\"field\":\"x\"},\"y\":{\"field\":\"y\"}},\"id\":\"c38050cd-6730-499c-9171-5d98ec1b4f57\",\"type\":\"Circle\"},{\"attributes\":{\"source\":{\"id\":\"9558f505-d21e-43f5-9c86-95b11af45656\",\"type\":\"ColumnDataSource\"}},\"id\":\"5fef17c7-eeec-4781-9f0a-fafca9897475\",\"type\":\"CDSView\"},{\"attributes\":{},\"id\":\"4a4a4451-9937-45ab-bda5-2a05c5e3f101\",\"type\":\"UndoTool\"},{\"attributes\":{},\"id\":\"987424d5-20e6-44e5-a467-2483d3dd357c\",\"type\":\"PanTool\"},{\"attributes\":{\"callback\":null},\"id\":\"f8f1a824-0c54-4702-ac54-ae3d7ddaf590\",\"type\":\"TapTool\"},{\"attributes\":{\"callback\":null,\"column_names\":[\"x\",\"y\"],\"data\":{\"x\":{\"__ndarray__\":\"kDF3LSGHScBjf9k9efhHwKMBvAUSjEbAZ9XnaivmQ8BKDAIrhx5BwMcpOpLL/z7AyJi7lpD/OcDF/rJ78sA4wAn5oGezOjXAaJHtfD+lMsB6pSxDHAsvwAg9m1WfyyfA5/up8dJtIMBPr5RliGMUwGIQWDm0yPe/I9v5fmo8GEBxPQrXo9AiQJJc/kP6LSlAv30dOGe0NEDWxW00gOcwQL7BFyZTZThA1sVtNIDnMECad5yiI1k6QKUsQxzrskBAEce6uI2eQUCPwvUoXF9DQHZPHhZqhUVAS8gHPZuFR0A=\",\"dtype\":\"float64\",\"shape\":[28]},\"y\":{\"__ndarray__\":\"lYnyHGr7zT9sHh1WJHrEP/hWS4S2ndw/eDmuTBYs1z92PcgmPdzZPxyofH7879Q/AiM3MBBg4j+MhqstJQrgP8EFTLiACcc/luUlhCxk3j+boBdZcHXlP4hbBJ4+4uE/QPHn5lyS1j+nobqZRCPEP3iChsZUCdM/e69lchsc0D+ethBaOgXOPwTiwwcwMtw/QLXekD0E4j8iF3Dx3kHNPwCJHR5iSto/s4fRuzqj0D98LUeANKfdP4ZbOm35iNI/IuVqzFBz4D+hRysVT5HgPzAjG4ff1eQ/D61Pi9i65D8=\",\"dtype\":\"float64\",\"shape\":[28]}}},\"id\":\"e0b0275a-dbab-4389-9f5b-97b2685dffad\",\"type\":\"ColumnDataSource\"},{\"attributes\":{\"fill_alpha\":{\"value\":0.5},\"fill_color\":{\"value\":\"lightgrey\"},\"level\":\"overlay\",\"line_alpha\":{\"value\":1.0},\"line_color\":{\"value\":\"black\"},\"line_dash\":[4,4],\"line_width\":{\"value\":2},\"plot\":null,\"xs_units\":\"screen\",\"ys_units\":\"screen\"},\"id\":\"a9d30115-2f4c-4b17-9d83-6d0dd9908fd9\",\"type\":\"PolyAnnotation\"},{\"attributes\":{\"fill_alpha\":{\"value\":0.1},\"fill_color\":{\"value\":\"#1f77b4\"},\"line_alpha\":{\"value\":0.1},\"line_color\":{\"value\":\"#1f77b4\"},\"size\":{\"units\":\"screen\",\"value\":10},\"x\":{\"field\":\"x\"},\"y\":{\"field\":\"y\"}},\"id\":\"199f51d1-ccf9-4711-a173-b0653b69075f\",\"type\":\"Circle\"},{\"attributes\":{\"fill_alpha\":{\"value\":0.7},\"fill_color\":{\"value\":\"grey\"},\"line_color\":{\"value\":null},\"size\":{\"units\":\"screen\",\"value\":10},\"x\":{\"field\":\"x\"},\"y\":{\"field\":\"y\"}},\"id\":\"09cb7f4a-085d-4fce-b038-1a32db40f25b\",\"type\":\"Circle\"},{\"attributes\":{},\"id\":\"430680fd-96c6-4101-8898-7389584140dc\",\"type\":\"RedoTool\"},{\"attributes\":{\"fill_alpha\":{\"value\":0.3},\"fill_color\":{\"value\":\"firebrick\"},\"line_alpha\":{\"value\":0.3},\"line_color\":{\"value\":\"white\"},\"size\":{\"units\":\"screen\",\"value\":10},\"x\":{\"field\":\"x\"},\"y\":{\"field\":\"y\"}},\"id\":\"f8cae0df-cd4c-468c-b5a8-217249592ae6\",\"type\":\"Circle\"},{\"attributes\":{\"source\":{\"id\":\"a38e2276-367e-4dd8-adcd-bbd1533871fe\",\"type\":\"ColumnDataSource\"}},\"id\":\"2d5aa691-cadc-4765-b396-cbb0dfc2a511\",\"type\":\"CDSView\"},{\"attributes\":{\"fill_alpha\":{\"value\":0.7},\"fill_color\":{\"value\":\"darkturquoise\"},\"line_color\":{\"value\":null},\"size\":{\"units\":\"screen\",\"value\":10},\"x\":{\"field\":\"x\"},\"y\":{\"field\":\"y\"}},\"id\":\"6d92cb47-d93f-4f91-84f9-ef9f5ac269e7\",\"type\":\"Circle\"},{\"attributes\":{\"fill_alpha\":{\"value\":0.1},\"fill_color\":{\"value\":\"#1f77b4\"},\"line_alpha\":{\"value\":0.1},\"line_color\":{\"value\":\"#1f77b4\"},\"size\":{\"units\":\"screen\",\"value\":10},\"x\":{\"field\":\"x\"},\"y\":{\"field\":\"y\"}},\"id\":\"67cbca5e-2e47-48ec-ae6b-ef05d70307d0\",\"type\":\"Circle\"},{\"attributes\":{\"active_drag\":\"auto\",\"active_inspect\":\"auto\",\"active_scroll\":\"auto\",\"active_tap\":\"auto\",\"tools\":[{\"id\":\"987424d5-20e6-44e5-a467-2483d3dd357c\",\"type\":\"PanTool\"},{\"id\":\"63c511b3-0783-46f1-b1ec-6736f9d71483\",\"type\":\"WheelZoomTool\"},{\"id\":\"b90687c7-e973-4992-945e-89830c5f5b52\",\"type\":\"ZoomInTool\"},{\"id\":\"49bf51c7-841a-42dc-8cd6-6ea98c326460\",\"type\":\"ZoomOutTool\"},{\"id\":\"0781cec6-a47a-4a39-8c68-ef3f80f573e8\",\"type\":\"BoxZoomTool\"},{\"id\":\"4a4a4451-9937-45ab-bda5-2a05c5e3f101\",\"type\":\"UndoTool\"},{\"id\":\"430680fd-96c6-4101-8898-7389584140dc\",\"type\":\"RedoTool\"},{\"id\":\"1ff17925-c184-4185-baeb-0f731a914c2b\",\"type\":\"ResetTool\"},{\"id\":\"f8f1a824-0c54-4702-ac54-ae3d7ddaf590\",\"type\":\"TapTool\"},{\"id\":\"09fb9242-09fd-4e5e-83cf-08087168181f\",\"type\":\"SaveTool\"},{\"id\":\"db6470af-aade-4a7d-918d-edd19164c1af\",\"type\":\"BoxSelectTool\"},{\"id\":\"1d920ddd-3211-443b-977a-ff8dab6128fa\",\"type\":\"PolySelectTool\"},{\"id\":\"d3137b14-01e5-4946-a49b-dd20ee155efa\",\"type\":\"LassoSelectTool\"}]},\"id\":\"47a19f7f-5c2a-454d-8b51-d750f858efa0\",\"type\":\"Toolbar\"},{\"attributes\":{\"callback\":null},\"id\":\"3c3c2a32-ab27-4246-9405-f30e90ccbec6\",\"type\":\"DataRange1d\"},{\"attributes\":{\"plot\":{\"id\":\"5772975f-1591-479b-a333-7267f9685c40\",\"subtype\":\"Figure\",\"type\":\"Plot\"},\"ticker\":{\"id\":\"a3da3c2b-a48e-4da4-8158-ef71707c98dd\",\"type\":\"BasicTicker\"}},\"id\":\"3f359dba-08c4-4e9e-94ad-05666bb5b776\",\"type\":\"Grid\"},{\"attributes\":{},\"id\":\"a85f9413-87ed-44bb-9def-d73d79e0b67a\",\"type\":\"LinearScale\"},{\"attributes\":{},\"id\":\"f8ad8cd3-5add-4b4b-ac71-436f24c79684\",\"type\":\"LinearScale\"},{\"attributes\":{\"data_source\":{\"id\":\"a38e2276-367e-4dd8-adcd-bbd1533871fe\",\"type\":\"ColumnDataSource\"},\"glyph\":{\"id\":\"d8e9beab-b2f2-4332-b0f7-0beffb3a964a\",\"type\":\"Circle\"},\"hover_glyph\":{\"id\":\"c38050cd-6730-499c-9171-5d98ec1b4f57\",\"type\":\"Circle\"},\"muted_glyph\":null,\"nonselection_glyph\":{\"id\":\"28a4d7ca-e71b-4bdc-abb7-a0948d4276ee\",\"type\":\"Circle\"},\"selection_glyph\":null,\"view\":{\"id\":\"2d5aa691-cadc-4765-b396-cbb0dfc2a511\",\"type\":\"CDSView\"}},\"id\":\"4425c695-b17c-4284-b9d3-3624beab9f9a\",\"type\":\"GlyphRenderer\"},{\"attributes\":{\"callback\":null},\"id\":\"1050d37d-5982-4ada-b99e-41475d111fd3\",\"type\":\"DataRange1d\"},{\"attributes\":{\"callback\":null,\"column_names\":[\"x\",\"y\"],\"data\":{\"x\":{\"__ndarray__\":\"kDF3LSGHScBjf9k9efhHwKMBvAUSjEbAZ9XnaivmQ8BKDAIrhx5BwMcpOpLL/z7AyJi7lpD/OcDF/rJ78sA4wAn5oGezOjXAaJHtfD+lMsB6pSxDHAsvwAg9m1WfyyfA5/up8dJtIMBPr5RliGMUwGIQWDm0yPe/I9v5fmo8GEBxPQrXo9AiQJJc/kP6LSlAv30dOGe0NEDWxW00gOcwQL7BFyZTZThA1sVtNIDnMECad5yiI1k6QKUsQxzrskBAEce6uI2eQUCPwvUoXF9DQHZPHhZqhUVAS8gHPZuFR0A=\",\"dtype\":\"float64\",\"shape\":[28]},\"y\":{\"__ndarray__\":\"6eqJZus3jD+G7iuiK06aP7M4YwD3ZKA/Q7mh0xZpuD+ET+Yf1dfAP2k5jV6+kcE/xZIwQE8GyT9OVOLxxZvEP9FSyvPjEqg/RdOlOPqEwz/GVgoIH7LQP5oxDc0GCtI/KkffwREWxz//ocOgi/u0P+Sy5+heeb0/go8PdN4YwT+GRNgbkuK+Pzm1LDO2RcU/GGZLji3dyz9ZIUzi5/C0P+NCgYUu9cE/7VnVnClpvz/QkkPFOqTBP5nndej2mrY/1Q2M33kEyz9EvDhvtpjBPydclbeoA7c/Vh3sTgTgtD8=\",\"dtype\":\"float64\",\"shape\":[28]}}},\"id\":\"96ee53a2-c6c9-4714-be98-24e0baeb3fed\",\"type\":\"ColumnDataSource\"},{\"attributes\":{\"dimension\":1,\"plot\":{\"id\":\"5772975f-1591-479b-a333-7267f9685c40\",\"subtype\":\"Figure\",\"type\":\"Plot\"},\"ticker\":{\"id\":\"71a7e4fe-a506-49a2-ae05-2fd3ff02500d\",\"type\":\"BasicTicker\"}},\"id\":\"85408864-f8a3-468a-a32b-f6bc99922849\",\"type\":\"Grid\"},{\"attributes\":{},\"id\":\"71a7e4fe-a506-49a2-ae05-2fd3ff02500d\",\"type\":\"BasicTicker\"},{\"attributes\":{\"axis_label\":\"Relative Abundance\",\"formatter\":{\"id\":\"6bb966d7-09af-41b3-b8ba-b85309212dc6\",\"type\":\"BasicTickFormatter\"},\"plot\":{\"id\":\"5772975f-1591-479b-a333-7267f9685c40\",\"subtype\":\"Figure\",\"type\":\"Plot\"},\"ticker\":{\"id\":\"71a7e4fe-a506-49a2-ae05-2fd3ff02500d\",\"type\":\"BasicTicker\"}},\"id\":\"cb1e174b-3ae7-4057-a282-a3afb808eaf4\",\"type\":\"LinearAxis\"},{\"attributes\":{},\"id\":\"a3da3c2b-a48e-4da4-8158-ef71707c98dd\",\"type\":\"BasicTicker\"},{\"attributes\":{\"axis_label\":\"Latitude\",\"formatter\":{\"id\":\"7f4415f4-df65-4128-b9e3-e6f7884dfa93\",\"type\":\"BasicTickFormatter\"},\"plot\":{\"id\":\"5772975f-1591-479b-a333-7267f9685c40\",\"subtype\":\"Figure\",\"type\":\"Plot\"},\"ticker\":{\"id\":\"a3da3c2b-a48e-4da4-8158-ef71707c98dd\",\"type\":\"BasicTicker\"}},\"id\":\"1e97c758-23c5-4a9d-8876-fe8c0e3e16ba\",\"type\":\"LinearAxis\"}],\"root_ids\":[\"b3ff3f44-6fc5-4c0f-910e-23c3426f1f97\"]},\"title\":\"Bokeh Application\",\"version\":\"0.12.14\"}};\n",
       "  var render_items = [{\"docid\":\"248a5ad9-0e47-4337-b677-8a36675dc60d\",\"elementid\":\"af87db45-b145-4636-9242-f137550503ce\",\"modelid\":\"b3ff3f44-6fc5-4c0f-910e-23c3426f1f97\"}];\n",
       "  root.Bokeh.embed.embed_items_notebook(docs_json, render_items);\n",
       "\n",
       "  }\n",
       "  if (root.Bokeh !== undefined) {\n",
       "    embed_document(root);\n",
       "  } else {\n",
       "    var attempts = 0;\n",
       "    var timer = setInterval(function(root) {\n",
       "      if (root.Bokeh !== undefined) {\n",
       "        embed_document(root);\n",
       "        clearInterval(timer);\n",
       "      }\n",
       "      attempts++;\n",
       "      if (attempts > 100) {\n",
       "        console.log(\"Bokeh: ERROR: Unable to run BokehJS code because BokehJS library is missing\")\n",
       "        clearInterval(timer);\n",
       "      }\n",
       "    }, 10, root)\n",
       "  }\n",
       "})(window);"
      ],
      "application/vnd.bokehjs_exec.v0+json": ""
     },
     "metadata": {
      "application/vnd.bokehjs_exec.v0+json": {
       "id": "b3ff3f44-6fc5-4c0f-910e-23c3426f1f97"
      }
     },
     "output_type": "display_data"
    },
    {
     "name": "stdout",
     "output_type": "stream",
     "text": [
      "\n"
     ]
    }
   ],
   "source": [
    "from opedia import esv\n",
    "\n",
    "############## set parameters ################\n",
    "# only plot the top_N number of most abundant organisms\n",
    "topN = 3           \n",
    "# aggregate organisms by their taxa level\n",
    "tax = ['domain', 'phylum', 'class', 'order', 'family', 'genus', 'species'][5]\n",
    "depth1 = 100\n",
    "depth2 = 200\n",
    "cruise_name = 'ANT28-5'\n",
    "cluster_level = [89, 92, 96, 97, 98, 99, 100][3]        # minimum similarity percentage to be clustered 100 = ASV level\n",
    "\n",
    "#iSizeFrac = 0 # Free-living fraction 0.2 - 3 uM\n",
    "#iSizeFrac = 1 # Small particle-associated 3 - 8 uM \n",
    "iSizeFrac = 2 # Large particle-associated fraction > 8 uM \n",
    "\n",
    "size_frac_lower = [0.2, 3, 8][iSizeFrac]\n",
    "size_frac_upper = [3, 8, None][iSizeFrac]\n",
    "##############################################\n",
    "\n",
    "esv.plotESVs(topN, tax, depth1, depth2, cruise_name, cluster_level, size_frac_lower, size_frac_upper)"
   ]
  },
  {
   "cell_type": "markdown",
   "metadata": {},
   "source": [
    "<br/><br/>\n",
    "# Colocalize with Model and Satellite\n",
    "\n",
    "Here, the retrieved trends of relative abundances are colocalized with other datasets, in this case with Darwin model. The results are stored in a .csv file in the ./data directory. "
   ]
  },
  {
   "cell_type": "code",
   "execution_count": 2,
   "metadata": {},
   "outputs": [
    {
     "data": {
      "application/vnd.jupyter.widget-view+json": {
       "model_id": "9a739c8e50d94411b3dafdc67b997342",
       "version_major": 2,
       "version_minor": 0
      },
      "text/plain": [
       "HBox(children=(IntProgress(value=0, description=u'overall', max=3), HTML(value=u'')))"
      ]
     },
     "metadata": {},
     "output_type": "display_data"
    },
    {
     "data": {
      "application/vnd.jupyter.widget-view+json": {
       "model_id": "e8751a1d5220423c96ead4c902d158e0",
       "version_major": 2,
       "version_minor": 0
      },
      "text/plain": [
       "HBox(children=(IntProgress(value=0, description=u'prokaryote_c01_darwin_clim', max=27), HTML(value=u'')))"
      ]
     },
     "metadata": {},
     "output_type": "display_data"
    },
    {
     "data": {
      "application/vnd.jupyter.widget-view+json": {
       "model_id": "4962b9e178e74a76aced2ec4a7a8f175",
       "version_major": 2,
       "version_minor": 0
      },
      "text/plain": [
       "HBox(children=(IntProgress(value=0, description=u'prokaryote_c02_darwin_clim', max=27), HTML(value=u'')))"
      ]
     },
     "metadata": {},
     "output_type": "display_data"
    },
    {
     "data": {
      "application/vnd.jupyter.widget-view+json": {
       "model_id": "bdcbc271eca148a7bcaf89b0f48b348e",
       "version_major": 2,
       "version_minor": 0
      },
      "text/plain": [
       "HBox(children=(IntProgress(value=0, description=u'cocco_c05_darwin_clim', max=27), HTML(value=u'')))"
      ]
     },
     "metadata": {},
     "output_type": "display_data"
    },
    {
     "name": "stdout",
     "output_type": "stream",
     "text": [
      "\n",
      "\n"
     ]
    }
   ],
   "source": [
    "from opedia import colocalize as COL\n",
    "\n",
    "DB = False                           # < True > if source data exists in the database. < 0 > if the source data set is a spreadsheet file on disk. \n",
    "source = './data/esv.csv'            # the source table name (or full filename)    \n",
    "temporalTolerance = 3                # colocalizer temporal tolerance (+/- degrees)\n",
    "latTolerance = 0.3                   # colocalizer meridional tolerance (+/- degrees)\n",
    "lonTolerance = 0.3                   # colocalizer zonal tolerance (+/- degrees) \n",
    "depthTolerance = 5                   # colocalizer depth tolerance (+/- meters)\n",
    "tables = ['tblDarwin_Plankton_Climatology', 'tblDarwin_Plankton_Climatology', 'tblDarwin_Plankton_Climatology']    # list of varaible table names               \n",
    "variables = ['prokaryote_c01_darwin_clim', 'prokaryote_c02_darwin_clim', 'cocco_c05_darwin_clim']                  # list of variable names           \n",
    "exportPath = './data/loaded.csv'     # path to save the colocalized data set \n",
    "    \n",
    "COL.matchSource(DB, source, temporalTolerance, latTolerance, lonTolerance, depthTolerance, tables, variables, exportPath)    "
   ]
  },
  {
   "cell_type": "code",
   "execution_count": null,
   "metadata": {},
   "outputs": [],
   "source": []
  }
 ],
 "metadata": {
  "kernelspec": {
   "display_name": "Python [conda env:opedia-env]",
   "language": "python",
   "name": "conda-env-opedia-env-py"
  },
  "language_info": {
   "codemirror_mode": {
    "name": "ipython",
    "version": 3
   },
   "file_extension": ".py",
   "mimetype": "text/x-python",
   "name": "python",
   "nbconvert_exporter": "python",
   "pygments_lexer": "ipython3",
   "version": "3.6.6"
  }
 },
 "nbformat": 4,
 "nbformat_minor": 2
}
