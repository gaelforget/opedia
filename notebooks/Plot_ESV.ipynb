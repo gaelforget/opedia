{
 "cells": [
  {
   "cell_type": "markdown",
   "metadata": {},
   "source": [
    "# Exact Amplicon Sequence Variants (16S) Along Cruise Track\n",
    "### Query by taxonomy level, clustering thereshold, and size fraction\n",
    "\n",
    "The example below retrieves the \"topN\" number of most abundant sequenced organisms along track of the cruise. One can aggregate and visualize the relative abundance of the organisms according to their taxonomy, clustering levels, and size fractions. The cruise, 'ANT28-5', is an Atlantic latitudinal transect. <br/> <br/>\n",
    "\n",
    "**Thanks to Jed Fuhrman and Jesse McNichol (USC) for the beautiful dataset!**  <br/> <br/> "
   ]
  },
  {
   "cell_type": "code",
   "execution_count": null,
   "metadata": {},
   "outputs": [],
   "source": [
    "from opedia import esv\n",
    "\n",
    "############## set parameters ################\n",
    "# only plot the top_N number of most abundant organisms\n",
    "topN = 5           \n",
    "# aggregate organisims by their taxa level\n",
    "tax = ['domain', 'kingdom', 'phylum', 'class', 'order', 'genus', 'species'][5]\n",
    "depth1 = 20\n",
    "depth2 = depth1\n",
    "cruise_name = 'ANT28-5'\n",
    "cluster_level = [89, 92, 96, 97, 98, 99, 100][0]        # minimum similarity precentage to be clustred\n",
    "size_frac_lower = [0.2, 3, 8][0]                        # size in micro-meter\n",
    "size_frac_upper = [None, 3, 8][1]                       # size in micro-meter\n",
    "##############################################\n",
    "\n",
    "esv.plotESVs(topN, tax, depth1, depth2, cruise_name, cluster_level, size_frac_lower, size_frac_upper)"
   ]
  },
  {
   "cell_type": "markdown",
   "metadata": {},
   "source": [
    "<br/><br/>\n",
    "# Colocalize with Model and Satellite\n",
    "\n",
    "Here, the retrieved trends of relative abundances are colocalized with other datasets, in this case with Darwin model. The results are stored in a .csv file in the ./data directory. "
   ]
  },
  {
   "cell_type": "code",
   "execution_count": null,
   "metadata": {},
   "outputs": [],
   "source": [
    "from opedia import colocalize as COL\n",
    "\n",
    "DB = False                           # < True > if source data exists in the database. < 0 > if the source data set is a spreadsheet file on disk. \n",
    "source = './data/esv.csv'            # the source table name (or full filename)    \n",
    "temporalTolerance = 3                # colocalizer temporal tolerance (+/- degrees)\n",
    "latTolerance = 0.3                   # colocalizer meridional tolerance (+/- degrees)\n",
    "lonTolerance = 0.3                   # colocalizer zonal tolerance (+/- degrees) \n",
    "depthTolerance = 5                   # colocalizer depth tolerance (+/- meters)\n",
    "tables = ['tblDarwin_Plankton_Climatology', 'tblDarwin_Plankton_Climatology', 'tblDarwin_Plankton_Climatology']    # list of varaible table names               \n",
    "variables = ['prokaryote_c01_darwin_clim', 'prokaryote_c02_darwin_clim', 'cocco_c05_darwin_clim']                  # list of variable names           \n",
    "exportPath = './data/loaded.csv'     # path to save the colocalized data set \n",
    "    \n",
    "COL.matchSource(DB, source, temporalTolerance, latTolerance, lonTolerance, depthTolerance, tables, variables, exportPath)    "
   ]
  }
 ],
 "metadata": {
  "kernelspec": {
   "display_name": "Python 2",
   "language": "python",
   "name": "python2"
  },
  "language_info": {
   "codemirror_mode": {
    "name": "ipython",
    "version": 2
   },
   "file_extension": ".py",
   "mimetype": "text/x-python",
   "name": "python",
   "nbconvert_exporter": "python",
   "pygments_lexer": "ipython2",
   "version": "2.7.15"
  }
 },
 "nbformat": 4,
 "nbformat_minor": 2
}
