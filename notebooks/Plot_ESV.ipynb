{
 "cells": [
  {
   "cell_type": "markdown",
   "metadata": {},
   "source": [
    "# Plotting Exact Amplicon Sequence Variants (16S) Along an Atlantic Latitudinal Transect\n",
    "### Query and aggeragate by taxonomy level, clustering thereshold, and size fraction\n",
    "\n",
    "The example below retrieves the \"topN\" number of most abundant sequenced organisms along track of the cruise. One can aggregate and visualize the relative abundance of the organisms according to their taxonomy, clustering levels, and size fractions. The cruise, 'ANT28-5', is an Atlantic latitudinal transect. <br/> <br/>\n",
    "\n",
    "**Thanks to Irene Wagner-Döbler and Meinhard Simon's research groups for making this beautiful dataset publicly available!**  <br/> <br/> "
   ]
  },
  {
   "cell_type": "code",
   "execution_count": 20,
   "metadata": {},
   "outputs": [
    {
     "data": {
      "application/vnd.jupyter.widget-view+json": {
       "model_id": "96ced3b3b10a4ac2822c7fe4b2118b8d",
       "version_major": 2,
       "version_minor": 0
      },
      "text/plain": [
       "HBox(children=(IntProgress(value=0, description='overall', max=3, style=ProgressStyle(description_width='initi…"
      ]
     },
     "metadata": {},
     "output_type": "display_data"
    },
    {
     "name": "stdout",
     "output_type": "stream",
     "text": [
      "\n"
     ]
    },
    {
     "data": {
      "text/html": [
       "\n",
       "<div class=\"bk-root\">\n",
       "    <div class=\"bk-plotdiv\" id=\"5dde2585-1776-48b8-a32a-a34b99c45467\"></div>\n",
       "</div>"
      ]
     },
     "metadata": {},
     "output_type": "display_data"
    },
    {
     "data": {
      "application/javascript": [
       "(function(root) {\n",
       "  function embed_document(root) {\n",
       "    \n",
       "  var docs_json = {\"9138e77d-3c2b-471a-8273-e6389f1f7d2f\":{\"roots\":{\"references\":[{\"attributes\":{\"active_drag\":\"auto\",\"active_inspect\":\"auto\",\"active_scroll\":\"auto\",\"active_tap\":\"auto\",\"tools\":[{\"id\":\"20a2ca7a-3ea6-49a7-a013-8209af8f2699\",\"type\":\"PanTool\"},{\"id\":\"29496a72-ab5d-44cc-b952-e1d6d40f41a7\",\"type\":\"WheelZoomTool\"},{\"id\":\"88c74c9f-04b0-485d-83ba-6d9b5f51d160\",\"type\":\"ZoomInTool\"},{\"id\":\"e6afeab6-adcd-4798-aa98-9c3ab84bada5\",\"type\":\"ZoomOutTool\"},{\"id\":\"a2139042-29e8-4534-8a12-29550a2b51bd\",\"type\":\"BoxZoomTool\"},{\"id\":\"8607355b-19fe-4ab6-af42-2d8774a87cf7\",\"type\":\"UndoTool\"},{\"id\":\"df96013f-42b6-4e6d-84f4-0ce2c5cfc19b\",\"type\":\"RedoTool\"},{\"id\":\"00ae8e2c-c121-46bf-b3bc-ebbabb28d10f\",\"type\":\"ResetTool\"},{\"id\":\"9bc691de-af8c-4ff7-b3e7-0883f3522f5a\",\"type\":\"TapTool\"},{\"id\":\"43cedeb7-ba0e-41eb-aa14-4bd12a68d554\",\"type\":\"SaveTool\"},{\"id\":\"21c22c3a-dfe4-4055-99d0-7f79887d0ab7\",\"type\":\"BoxSelectTool\"},{\"id\":\"1a774237-a99d-42a7-bdd3-e2b6c407e91b\",\"type\":\"PolySelectTool\"},{\"id\":\"9663445e-0dcf-4255-a28b-519324e46436\",\"type\":\"LassoSelectTool\"}]},\"id\":\"21c7c959-615f-435b-9d84-77c7f91b20ba\",\"type\":\"Toolbar\"},{\"attributes\":{\"data_source\":{\"id\":\"2974eda5-b83c-4a5c-bbe7-bfa666c93a32\",\"type\":\"ColumnDataSource\"},\"glyph\":{\"id\":\"fb92d280-895e-4823-b575-aafff41314d9\",\"type\":\"Circle\"},\"hover_glyph\":{\"id\":\"b68fcaf3-ced7-4a4b-ba94-7498c5c8cf84\",\"type\":\"Circle\"},\"muted_glyph\":null,\"nonselection_glyph\":{\"id\":\"57f7e349-2a97-4bcb-8fb7-2c901cfc8ec4\",\"type\":\"Circle\"},\"selection_glyph\":null,\"view\":{\"id\":\"8821363f-7cbb-4175-8418-19e1d6cb973a\",\"type\":\"CDSView\"}},\"id\":\"ad6d8bf2-2565-42ac-814c-5100a3aae808\",\"type\":\"GlyphRenderer\"},{\"attributes\":{\"callback\":null},\"id\":\"281258f6-6ca7-4da5-b6ac-ac601dc56b6c\",\"type\":\"DataRange1d\"},{\"attributes\":{\"callback\":null,\"column_names\":[\"x\",\"y\"],\"data\":{\"x\":{\"__ndarray__\":\"kDF3LSGHScBjf9k9efhHwKMBvAUSjEbAZ9XnaivmQ8BKDAIrhx5BwMcpOpLL/z7AyJi7lpD/OcDF/rJ78sA4wAn5oGezOjXAaJHtfD+lMsB6pSxDHAsvwAg9m1WfyyfA5/up8dJtIMBPr5RliGMUwGIQWDm0yPe/I9v5fmo8GEBxPQrXo9AiQJJc/kP6LSlA1sVtNIDnMEC/fR04Z7Q0QL7BFyZTZThAmnecoiNZOkClLEMc67JAQBHHuriNnkFAj8L1KFxfQ0B2Tx4WaoVFQEvIBz2bhUdA\",\"dtype\":\"float64\",\"shape\":[27]},\"y\":{\"__ndarray__\":\"rD/2KhtRqz+MGNQCmGevP4jN8vBkGq4/OLTqi6Rdtj/anNnYBaexPyNmoeQ9zKk/Wx38OLyMoj+SI6LBvU+cP2hik702x6A/mlZUoM0Omj+WbWZM/4mhPzl0AM1g26E/QjmjDSKXnz+mJJH2fcyyP8G1CCQXC6M/4Pj6g7eupT95FM/ngpyqPxL9MaE1SLI/J3Xggu3UZT+5dc8RdB27P4akxxwdork/GhAqnTUzuT8ShZzFAHe3P4wWdGgyZLg/H3yt/tylsj+y8l1dPFCvP07wrbi/UrY/\",\"dtype\":\"float64\",\"shape\":[27]}}},\"id\":\"2974eda5-b83c-4a5c-bbe7-bfa666c93a32\",\"type\":\"ColumnDataSource\"},{\"attributes\":{\"callback\":null},\"id\":\"da63337b-c045-4e13-8964-29ed7168f540\",\"type\":\"DataRange1d\"},{\"attributes\":{\"label\":{\"value\":\"Prochlorococcus MIT9313\"},\"renderers\":[{\"id\":\"3b9cea34-07f3-4026-8a54-c9af19ef937b\",\"type\":\"GlyphRenderer\"},{\"id\":\"a7c859e5-dcb0-4892-a4bd-44c1ca4db06c\",\"type\":\"GlyphRenderer\"}]},\"id\":\"cd50a8b3-0d8c-48f8-9392-7cc15577a00c\",\"type\":\"LegendItem\"},{\"attributes\":{\"fill_alpha\":{\"value\":0.3},\"fill_color\":{\"value\":\"firebrick\"},\"line_alpha\":{\"value\":0.3},\"line_color\":{\"value\":\"white\"},\"size\":{\"units\":\"screen\",\"value\":10},\"x\":{\"field\":\"x\"},\"y\":{\"field\":\"y\"}},\"id\":\"b68fcaf3-ced7-4a4b-ba94-7498c5c8cf84\",\"type\":\"Circle\"},{\"attributes\":{\"fill_alpha\":{\"value\":0.1},\"fill_color\":{\"value\":\"#1f77b4\"},\"line_alpha\":{\"value\":0.1},\"line_color\":{\"value\":\"#1f77b4\"},\"size\":{\"units\":\"screen\",\"value\":10},\"x\":{\"field\":\"x\"},\"y\":{\"field\":\"y\"}},\"id\":\"57f7e349-2a97-4bcb-8fb7-2c901cfc8ec4\",\"type\":\"Circle\"},{\"attributes\":{},\"id\":\"eccd91d1-c744-456e-90a9-09a3d8695896\",\"type\":\"LinearScale\"},{\"attributes\":{\"fill_alpha\":{\"value\":0.7},\"fill_color\":{\"value\":\"darkturquoise\"},\"line_color\":{\"value\":null},\"size\":{\"units\":\"screen\",\"value\":10},\"x\":{\"field\":\"x\"},\"y\":{\"field\":\"y\"}},\"id\":\"fb92d280-895e-4823-b575-aafff41314d9\",\"type\":\"Circle\"},{\"attributes\":{\"axis_label\":\"Relative Abundance\",\"formatter\":{\"id\":\"0ab13304-c9e7-4809-bd0a-77cdc3e56275\",\"type\":\"BasicTickFormatter\"},\"plot\":{\"id\":\"098219a3-e28c-4929-9ccf-549893e62939\",\"subtype\":\"Figure\",\"type\":\"Plot\"},\"ticker\":{\"id\":\"b8d2454a-af10-4d8f-a2ab-fc9f8fb5b8fd\",\"type\":\"BasicTicker\"}},\"id\":\"9fcae147-fe3b-481b-b057-17f161a1cc43\",\"type\":\"LinearAxis\"},{\"attributes\":{\"axis_label\":\"Latitude\",\"formatter\":{\"id\":\"5f768e06-131c-481e-a6df-e87a0ed744eb\",\"type\":\"BasicTickFormatter\"},\"plot\":{\"id\":\"098219a3-e28c-4929-9ccf-549893e62939\",\"subtype\":\"Figure\",\"type\":\"Plot\"},\"ticker\":{\"id\":\"f174dc58-4de3-4e57-9acd-78729d158e02\",\"type\":\"BasicTicker\"}},\"id\":\"e1ac27a1-7e15-485e-acc0-116bfc85b368\",\"type\":\"LinearAxis\"},{\"attributes\":{\"source\":{\"id\":\"2974eda5-b83c-4a5c-bbe7-bfa666c93a32\",\"type\":\"ColumnDataSource\"}},\"id\":\"8821363f-7cbb-4175-8418-19e1d6cb973a\",\"type\":\"CDSView\"},{\"attributes\":{\"plot\":{\"id\":\"098219a3-e28c-4929-9ccf-549893e62939\",\"subtype\":\"Figure\",\"type\":\"Plot\"},\"ticker\":{\"id\":\"f174dc58-4de3-4e57-9acd-78729d158e02\",\"type\":\"BasicTicker\"}},\"id\":\"7409fdb9-84bf-495c-a1f5-797b4c23a6d0\",\"type\":\"Grid\"},{\"attributes\":{\"callback\":null,\"column_names\":[\"x\",\"y\"],\"data\":{\"x\":{\"__ndarray__\":\"kDF3LSGHScBjf9k9efhHwKMBvAUSjEbAZ9XnaivmQ8BKDAIrhx5BwMcpOpLL/z7AyJi7lpD/OcDF/rJ78sA4wAn5oGezOjXAaJHtfD+lMsB6pSxDHAsvwAg9m1WfyyfA5/up8dJtIMBPr5RliGMUwGIQWDm0yPe/I9v5fmo8GEBxPQrXo9AiQJJc/kP6LSlA1sVtNIDnMEC/fR04Z7Q0QL7BFyZTZThAmnecoiNZOkClLEMc67JAQBHHuriNnkFAj8L1KFxfQ0B2Tx4WaoVFQEvIBz2bhUdA\",\"dtype\":\"float64\",\"shape\":[27]},\"y\":{\"__ndarray__\":\"rD/2KhtRqz+MGNQCmGevP4jN8vBkGq4/OLTqi6Rdtj/anNnYBaexPyNmoeQ9zKk/Wx38OLyMoj+SI6LBvU+cP2hik702x6A/mlZUoM0Omj+WbWZM/4mhPzl0AM1g26E/QjmjDSKXnz+mJJH2fcyyP8G1CCQXC6M/4Pj6g7eupT95FM/ngpyqPxL9MaE1SLI/J3Xggu3UZT+5dc8RdB27P4akxxwdork/GhAqnTUzuT8ShZzFAHe3P4wWdGgyZLg/H3yt/tylsj+y8l1dPFCvP07wrbi/UrY/\",\"dtype\":\"float64\",\"shape\":[27]}}},\"id\":\"58994aba-1b5a-4a5d-96bd-f8463e8c14af\",\"type\":\"ColumnDataSource\"},{\"attributes\":{},\"id\":\"c59b4355-175b-4568-95ee-0caf8918503b\",\"type\":\"LinearScale\"},{\"attributes\":{\"label\":{\"value\":\"Clade Ia\"},\"renderers\":[{\"id\":\"ad6d8bf2-2565-42ac-814c-5100a3aae808\",\"type\":\"GlyphRenderer\"},{\"id\":\"e6c19d76-165c-46c3-8b20-81b9bbf0ac68\",\"type\":\"GlyphRenderer\"}]},\"id\":\"02c90e93-2e2c-4b81-94a9-81d0e890e9cb\",\"type\":\"LegendItem\"},{\"attributes\":{},\"id\":\"f174dc58-4de3-4e57-9acd-78729d158e02\",\"type\":\"BasicTicker\"},{\"attributes\":{\"line_alpha\":0.1,\"line_color\":\"#1f77b4\",\"line_width\":2,\"x\":{\"field\":\"x\"},\"y\":{\"field\":\"y\"}},\"id\":\"761163f8-41f0-4665-9205-022f52dc9f6f\",\"type\":\"Line\"},{\"attributes\":{},\"id\":\"b8d2454a-af10-4d8f-a2ab-fc9f8fb5b8fd\",\"type\":\"BasicTicker\"},{\"attributes\":{\"dimension\":1,\"plot\":{\"id\":\"098219a3-e28c-4929-9ccf-549893e62939\",\"subtype\":\"Figure\",\"type\":\"Plot\"},\"ticker\":{\"id\":\"b8d2454a-af10-4d8f-a2ab-fc9f8fb5b8fd\",\"type\":\"BasicTicker\"}},\"id\":\"5f29b5f5-59e9-4baa-a89c-096dfec76b2d\",\"type\":\"Grid\"},{\"attributes\":{\"callback\":null,\"column_names\":[\"x\",\"y\"],\"data\":{\"x\":{\"__ndarray__\":\"kDF3LSGHScBjf9k9efhHwKMBvAUSjEbAZ9XnaivmQ8BKDAIrhx5BwMcpOpLL/z7AyJi7lpD/OcDF/rJ78sA4wAn5oGezOjXAaJHtfD+lMsB6pSxDHAsvwAg9m1WfyyfA5/up8dJtIMBPr5RliGMUwGIQWDm0yPe/I9v5fmo8GEBxPQrXo9AiQJJc/kP6LSlA1sVtNIDnMEC/fR04Z7Q0QL7BFyZTZThAmnecoiNZOkClLEMc67JAQBHHuriNnkFAj8L1KFxfQ0B2Tx4WaoVFQEvIBz2bhUdA\",\"dtype\":\"float64\",\"shape\":[27]},\"y\":{\"__ndarray__\":\"Gb8v5O+qPT++x4wTBEwlPwiygPSb/nY/gDQJXxoeuz+CHvjQ1n3PP10Y+wKe38w/oRvAU97t0z/FGM1WrY3QPwmuENAC984/yQndErtj0z//Q4mA4QTPP8aMrLoyL9E/M9sPVQ1R0j/F8EVbZcjWP7qSkCRTA8Y/WRHfBjIFvj+whXqnlHrEPy3ZRgqG/5k/TQy7l3AxUj8xHUSbQBO4P2GWhgUYc5s/svOJJHKWwj+4dZw9zVrEP+qp3emrkNA/su1ZqcWIkD+5XQWeSVxqPxZF1l/OAEY/\",\"dtype\":\"float64\",\"shape\":[27]}}},\"id\":\"b512679d-8e1b-494d-b46f-3799cc60703a\",\"type\":\"ColumnDataSource\"},{\"attributes\":{\"line_color\":\"darkturquoise\",\"line_width\":2,\"x\":{\"field\":\"x\"},\"y\":{\"field\":\"y\"}},\"id\":\"f956f361-f103-4229-934b-65792ac00820\",\"type\":\"Line\"},{\"attributes\":{\"data_source\":{\"id\":\"58994aba-1b5a-4a5d-96bd-f8463e8c14af\",\"type\":\"ColumnDataSource\"},\"glyph\":{\"id\":\"f956f361-f103-4229-934b-65792ac00820\",\"type\":\"Line\"},\"hover_glyph\":null,\"muted_glyph\":null,\"nonselection_glyph\":{\"id\":\"761163f8-41f0-4665-9205-022f52dc9f6f\",\"type\":\"Line\"},\"selection_glyph\":null,\"view\":{\"id\":\"3211e924-2fe3-4af2-ab4c-7c24a299cd1f\",\"type\":\"CDSView\"}},\"id\":\"e6c19d76-165c-46c3-8b20-81b9bbf0ac68\",\"type\":\"GlyphRenderer\"},{\"attributes\":{\"source\":{\"id\":\"58994aba-1b5a-4a5d-96bd-f8463e8c14af\",\"type\":\"ColumnDataSource\"}},\"id\":\"3211e924-2fe3-4af2-ab4c-7c24a299cd1f\",\"type\":\"CDSView\"},{\"attributes\":{\"children\":[{\"id\":\"098219a3-e28c-4929-9ccf-549893e62939\",\"subtype\":\"Figure\",\"type\":\"Plot\"}]},\"id\":\"4b9c12f1-18e8-4dbe-a6d5-05b4e4c534f6\",\"type\":\"Column\"},{\"attributes\":{},\"id\":\"5f768e06-131c-481e-a6df-e87a0ed744eb\",\"type\":\"BasicTickFormatter\"},{\"attributes\":{\"source\":{\"id\":\"5225c311-6da5-4cb2-8d93-d32a2618a502\",\"type\":\"ColumnDataSource\"}},\"id\":\"727af4d9-46c5-446f-82fd-2d9cd493bcf2\",\"type\":\"CDSView\"},{\"attributes\":{\"label\":{\"value\":\"Candidatus Actinomarina\"},\"renderers\":[{\"id\":\"78e96168-67bc-41e3-921f-743e13943f6b\",\"type\":\"GlyphRenderer\"},{\"id\":\"4e58a7da-ce44-497e-a01a-52710dfe98be\",\"type\":\"GlyphRenderer\"}]},\"id\":\"2fe8b403-70c1-4667-bea5-1f392625cc17\",\"type\":\"LegendItem\"},{\"attributes\":{\"data_source\":{\"id\":\"5225c311-6da5-4cb2-8d93-d32a2618a502\",\"type\":\"ColumnDataSource\"},\"glyph\":{\"id\":\"f80a52ce-acac-4137-9f02-261044524932\",\"type\":\"Line\"},\"hover_glyph\":null,\"muted_glyph\":null,\"nonselection_glyph\":{\"id\":\"fd21d08f-f30a-4a98-beb1-e15aa989726b\",\"type\":\"Line\"},\"selection_glyph\":null,\"view\":{\"id\":\"727af4d9-46c5-446f-82fd-2d9cd493bcf2\",\"type\":\"CDSView\"}},\"id\":\"4e58a7da-ce44-497e-a01a-52710dfe98be\",\"type\":\"GlyphRenderer\"},{\"attributes\":{\"callback\":null,\"overlay\":{\"id\":\"cc0abf0a-3606-4658-855d-ae913122d018\",\"type\":\"BoxAnnotation\"},\"renderers\":[{\"id\":\"3b9cea34-07f3-4026-8a54-c9af19ef937b\",\"type\":\"GlyphRenderer\"},{\"id\":\"a7c859e5-dcb0-4892-a4bd-44c1ca4db06c\",\"type\":\"GlyphRenderer\"},{\"id\":\"78e96168-67bc-41e3-921f-743e13943f6b\",\"type\":\"GlyphRenderer\"},{\"id\":\"4e58a7da-ce44-497e-a01a-52710dfe98be\",\"type\":\"GlyphRenderer\"},{\"id\":\"ad6d8bf2-2565-42ac-814c-5100a3aae808\",\"type\":\"GlyphRenderer\"},{\"id\":\"e6c19d76-165c-46c3-8b20-81b9bbf0ac68\",\"type\":\"GlyphRenderer\"}]},\"id\":\"21c22c3a-dfe4-4055-99d0-7f79887d0ab7\",\"type\":\"BoxSelectTool\"},{\"attributes\":{\"callback\":null,\"overlay\":{\"id\":\"2c24e1da-cce5-41b3-8b82-3dbf9def3a53\",\"type\":\"PolyAnnotation\"}},\"id\":\"1a774237-a99d-42a7-bdd3-e2b6c407e91b\",\"type\":\"PolySelectTool\"},{\"attributes\":{},\"id\":\"29496a72-ab5d-44cc-b952-e1d6d40f41a7\",\"type\":\"WheelZoomTool\"},{\"attributes\":{},\"id\":\"20a2ca7a-3ea6-49a7-a013-8209af8f2699\",\"type\":\"PanTool\"},{\"attributes\":{\"bottom_units\":\"screen\",\"fill_alpha\":{\"value\":0.5},\"fill_color\":{\"value\":\"lightgrey\"},\"left_units\":\"screen\",\"level\":\"overlay\",\"line_alpha\":{\"value\":1.0},\"line_color\":{\"value\":\"black\"},\"line_dash\":[4,4],\"line_width\":{\"value\":2},\"plot\":null,\"render_mode\":\"css\",\"right_units\":\"screen\",\"top_units\":\"screen\"},\"id\":\"613d0b4f-aef0-428a-93e0-e614d6f1d0de\",\"type\":\"BoxAnnotation\"},{\"attributes\":{\"items\":[{\"id\":\"cd50a8b3-0d8c-48f8-9392-7cc15577a00c\",\"type\":\"LegendItem\"},{\"id\":\"2fe8b403-70c1-4667-bea5-1f392625cc17\",\"type\":\"LegendItem\"},{\"id\":\"02c90e93-2e2c-4b81-94a9-81d0e890e9cb\",\"type\":\"LegendItem\"}],\"plot\":{\"id\":\"098219a3-e28c-4929-9ccf-549893e62939\",\"subtype\":\"Figure\",\"type\":\"Plot\"}},\"id\":\"6fa28dd5-a33a-4bb3-8ecb-73bde0cf936a\",\"type\":\"Legend\"},{\"attributes\":{},\"id\":\"8607355b-19fe-4ab6-af42-2d8774a87cf7\",\"type\":\"UndoTool\"},{\"attributes\":{\"fill_alpha\":{\"value\":0.5},\"fill_color\":{\"value\":\"lightgrey\"},\"level\":\"overlay\",\"line_alpha\":{\"value\":1.0},\"line_color\":{\"value\":\"black\"},\"line_dash\":[4,4],\"line_width\":{\"value\":2},\"plot\":null,\"xs_units\":\"screen\",\"ys_units\":\"screen\"},\"id\":\"2c24e1da-cce5-41b3-8b82-3dbf9def3a53\",\"type\":\"PolyAnnotation\"},{\"attributes\":{\"overlay\":{\"id\":\"613d0b4f-aef0-428a-93e0-e614d6f1d0de\",\"type\":\"BoxAnnotation\"}},\"id\":\"a2139042-29e8-4534-8a12-29550a2b51bd\",\"type\":\"BoxZoomTool\"},{\"attributes\":{\"plot\":null,\"text\":\"\"},\"id\":\"2322e56e-ea7a-4b66-b333-0282990c1136\",\"type\":\"Title\"},{\"attributes\":{},\"id\":\"e6afeab6-adcd-4798-aa98-9c3ab84bada5\",\"type\":\"ZoomOutTool\"},{\"attributes\":{\"fill_alpha\":{\"value\":0.1},\"fill_color\":{\"value\":\"#1f77b4\"},\"line_alpha\":{\"value\":0.1},\"line_color\":{\"value\":\"#1f77b4\"},\"size\":{\"units\":\"screen\",\"value\":10},\"x\":{\"field\":\"x\"},\"y\":{\"field\":\"y\"}},\"id\":\"9b89b587-29e1-4bee-a313-036560ca5912\",\"type\":\"Circle\"},{\"attributes\":{},\"id\":\"88c74c9f-04b0-485d-83ba-6d9b5f51d160\",\"type\":\"ZoomInTool\"},{\"attributes\":{\"below\":[{\"id\":\"e1ac27a1-7e15-485e-acc0-116bfc85b368\",\"type\":\"LinearAxis\"}],\"left\":[{\"id\":\"9fcae147-fe3b-481b-b057-17f161a1cc43\",\"type\":\"LinearAxis\"}],\"plot_height\":400,\"plot_width\":800,\"renderers\":[{\"id\":\"e1ac27a1-7e15-485e-acc0-116bfc85b368\",\"type\":\"LinearAxis\"},{\"id\":\"7409fdb9-84bf-495c-a1f5-797b4c23a6d0\",\"type\":\"Grid\"},{\"id\":\"9fcae147-fe3b-481b-b057-17f161a1cc43\",\"type\":\"LinearAxis\"},{\"id\":\"5f29b5f5-59e9-4baa-a89c-096dfec76b2d\",\"type\":\"Grid\"},{\"id\":\"613d0b4f-aef0-428a-93e0-e614d6f1d0de\",\"type\":\"BoxAnnotation\"},{\"id\":\"cc0abf0a-3606-4658-855d-ae913122d018\",\"type\":\"BoxAnnotation\"},{\"id\":\"2c24e1da-cce5-41b3-8b82-3dbf9def3a53\",\"type\":\"PolyAnnotation\"},{\"id\":\"0e532d64-65e0-4d5c-927e-b6f9ac88fbce\",\"type\":\"PolyAnnotation\"},{\"id\":\"6fa28dd5-a33a-4bb3-8ecb-73bde0cf936a\",\"type\":\"Legend\"},{\"id\":\"3b9cea34-07f3-4026-8a54-c9af19ef937b\",\"type\":\"GlyphRenderer\"},{\"id\":\"a7c859e5-dcb0-4892-a4bd-44c1ca4db06c\",\"type\":\"GlyphRenderer\"},{\"id\":\"78e96168-67bc-41e3-921f-743e13943f6b\",\"type\":\"GlyphRenderer\"},{\"id\":\"4e58a7da-ce44-497e-a01a-52710dfe98be\",\"type\":\"GlyphRenderer\"},{\"id\":\"ad6d8bf2-2565-42ac-814c-5100a3aae808\",\"type\":\"GlyphRenderer\"},{\"id\":\"e6c19d76-165c-46c3-8b20-81b9bbf0ac68\",\"type\":\"GlyphRenderer\"}],\"title\":{\"id\":\"2322e56e-ea7a-4b66-b333-0282990c1136\",\"type\":\"Title\"},\"toolbar\":{\"id\":\"21c7c959-615f-435b-9d84-77c7f91b20ba\",\"type\":\"Toolbar\"},\"toolbar_location\":\"above\",\"x_range\":{\"id\":\"281258f6-6ca7-4da5-b6ac-ac601dc56b6c\",\"type\":\"DataRange1d\"},\"x_scale\":{\"id\":\"eccd91d1-c744-456e-90a9-09a3d8695896\",\"type\":\"LinearScale\"},\"y_range\":{\"id\":\"da63337b-c045-4e13-8964-29ed7168f540\",\"type\":\"DataRange1d\"},\"y_scale\":{\"id\":\"c59b4355-175b-4568-95ee-0caf8918503b\",\"type\":\"LinearScale\"}},\"id\":\"098219a3-e28c-4929-9ccf-549893e62939\",\"subtype\":\"Figure\",\"type\":\"Plot\"},{\"attributes\":{},\"id\":\"00ae8e2c-c121-46bf-b3bc-ebbabb28d10f\",\"type\":\"ResetTool\"},{\"attributes\":{},\"id\":\"df96013f-42b6-4e6d-84f4-0ce2c5cfc19b\",\"type\":\"RedoTool\"},{\"attributes\":{\"callback\":null},\"id\":\"9bc691de-af8c-4ff7-b3e7-0883f3522f5a\",\"type\":\"TapTool\"},{\"attributes\":{\"fill_alpha\":{\"value\":0.7},\"fill_color\":{\"value\":\"grey\"},\"line_color\":{\"value\":null},\"size\":{\"units\":\"screen\",\"value\":10},\"x\":{\"field\":\"x\"},\"y\":{\"field\":\"y\"}},\"id\":\"93807789-84a0-47e8-873c-5ce6636467b3\",\"type\":\"Circle\"},{\"attributes\":{\"callback\":null,\"overlay\":{\"id\":\"0e532d64-65e0-4d5c-927e-b6f9ac88fbce\",\"type\":\"PolyAnnotation\"}},\"id\":\"9663445e-0dcf-4255-a28b-519324e46436\",\"type\":\"LassoSelectTool\"},{\"attributes\":{\"callback\":null,\"column_names\":[\"x\",\"y\"],\"data\":{\"x\":{\"__ndarray__\":\"kDF3LSGHScBjf9k9efhHwKMBvAUSjEbAZ9XnaivmQ8BKDAIrhx5BwMcpOpLL/z7AyJi7lpD/OcDF/rJ78sA4wAn5oGezOjXAaJHtfD+lMsB6pSxDHAsvwAg9m1WfyyfA5/up8dJtIMBPr5RliGMUwGIQWDm0yPe/I9v5fmo8GEBxPQrXo9AiQJJc/kP6LSlA1sVtNIDnMEC/fR04Z7Q0QL7BFyZTZThAmnecoiNZOkClLEMc67JAQBHHuriNnkFAj8L1KFxfQ0B2Tx4WaoVFQEvIBz2bhUdA\",\"dtype\":\"float64\",\"shape\":[27]},\"y\":{\"__ndarray__\":\"Gb8v5O+qPT++x4wTBEwlPwiygPSb/nY/gDQJXxoeuz+CHvjQ1n3PP10Y+wKe38w/oRvAU97t0z/FGM1WrY3QPwmuENAC984/yQndErtj0z//Q4mA4QTPP8aMrLoyL9E/M9sPVQ1R0j/F8EVbZcjWP7qSkCRTA8Y/WRHfBjIFvj+whXqnlHrEPy3ZRgqG/5k/TQy7l3AxUj8xHUSbQBO4P2GWhgUYc5s/svOJJHKWwj+4dZw9zVrEP+qp3emrkNA/su1ZqcWIkD+5XQWeSVxqPxZF1l/OAEY/\",\"dtype\":\"float64\",\"shape\":[27]}}},\"id\":\"db85b95d-1d5a-4749-9766-9c507ab22a9c\",\"type\":\"ColumnDataSource\"},{\"attributes\":{},\"id\":\"43cedeb7-ba0e-41eb-aa14-4bd12a68d554\",\"type\":\"SaveTool\"},{\"attributes\":{\"bottom_units\":\"screen\",\"fill_alpha\":{\"value\":0.5},\"fill_color\":{\"value\":\"lightgrey\"},\"left_units\":\"screen\",\"level\":\"overlay\",\"line_alpha\":{\"value\":1.0},\"line_color\":{\"value\":\"black\"},\"line_dash\":[4,4],\"line_width\":{\"value\":2},\"plot\":null,\"render_mode\":\"css\",\"right_units\":\"screen\",\"top_units\":\"screen\"},\"id\":\"cc0abf0a-3606-4658-855d-ae913122d018\",\"type\":\"BoxAnnotation\"},{\"attributes\":{\"source\":{\"id\":\"b512679d-8e1b-494d-b46f-3799cc60703a\",\"type\":\"ColumnDataSource\"}},\"id\":\"a3041cfa-208c-4cc8-bb36-2660fe8a501a\",\"type\":\"CDSView\"},{\"attributes\":{\"line_color\":\"grey\",\"line_width\":2,\"x\":{\"field\":\"x\"},\"y\":{\"field\":\"y\"}},\"id\":\"99026a8f-1b7b-4985-8e92-f769ddb3a34b\",\"type\":\"Line\"},{\"attributes\":{\"fill_alpha\":{\"value\":0.5},\"fill_color\":{\"value\":\"lightgrey\"},\"level\":\"overlay\",\"line_alpha\":{\"value\":1.0},\"line_color\":{\"value\":\"black\"},\"line_dash\":[4,4],\"line_width\":{\"value\":2},\"plot\":null,\"xs_units\":\"screen\",\"ys_units\":\"screen\"},\"id\":\"0e532d64-65e0-4d5c-927e-b6f9ac88fbce\",\"type\":\"PolyAnnotation\"},{\"attributes\":{\"source\":{\"id\":\"db85b95d-1d5a-4749-9766-9c507ab22a9c\",\"type\":\"ColumnDataSource\"}},\"id\":\"ca222438-5b6f-4097-bfcb-f720d53bd897\",\"type\":\"CDSView\"},{\"attributes\":{\"line_alpha\":0.1,\"line_color\":\"#1f77b4\",\"line_width\":2,\"x\":{\"field\":\"x\"},\"y\":{\"field\":\"y\"}},\"id\":\"16e02f05-9186-45e4-b1bc-9baf9aa53d67\",\"type\":\"Line\"},{\"attributes\":{\"data_source\":{\"id\":\"db85b95d-1d5a-4749-9766-9c507ab22a9c\",\"type\":\"ColumnDataSource\"},\"glyph\":{\"id\":\"99026a8f-1b7b-4985-8e92-f769ddb3a34b\",\"type\":\"Line\"},\"hover_glyph\":null,\"muted_glyph\":null,\"nonselection_glyph\":{\"id\":\"16e02f05-9186-45e4-b1bc-9baf9aa53d67\",\"type\":\"Line\"},\"selection_glyph\":null,\"view\":{\"id\":\"ca222438-5b6f-4097-bfcb-f720d53bd897\",\"type\":\"CDSView\"}},\"id\":\"a7c859e5-dcb0-4892-a4bd-44c1ca4db06c\",\"type\":\"GlyphRenderer\"},{\"attributes\":{\"data_source\":{\"id\":\"73bf94e7-8210-4153-930a-aba26681f517\",\"type\":\"ColumnDataSource\"},\"glyph\":{\"id\":\"bf0ff6d2-fdca-4e71-8eb0-81640329bb28\",\"type\":\"Circle\"},\"hover_glyph\":{\"id\":\"8bf2db89-3c9b-4408-8630-f3374abd81a9\",\"type\":\"Circle\"},\"muted_glyph\":null,\"nonselection_glyph\":{\"id\":\"b1b84ae4-11d1-4492-bbae-5ec34f22da1f\",\"type\":\"Circle\"},\"selection_glyph\":null,\"view\":{\"id\":\"5c7ad701-eb76-4191-b167-d764a55bae5d\",\"type\":\"CDSView\"}},\"id\":\"78e96168-67bc-41e3-921f-743e13943f6b\",\"type\":\"GlyphRenderer\"},{\"attributes\":{\"fill_alpha\":{\"value\":0.3},\"fill_color\":{\"value\":\"firebrick\"},\"line_alpha\":{\"value\":0.3},\"line_color\":{\"value\":\"white\"},\"size\":{\"units\":\"screen\",\"value\":10},\"x\":{\"field\":\"x\"},\"y\":{\"field\":\"y\"}},\"id\":\"65a9376b-8f5b-451a-a969-5d6bbf844b5e\",\"type\":\"Circle\"},{\"attributes\":{\"callback\":null,\"column_names\":[\"x\",\"y\"],\"data\":{\"x\":{\"__ndarray__\":\"kDF3LSGHScBjf9k9efhHwKMBvAUSjEbAZ9XnaivmQ8BKDAIrhx5BwMcpOpLL/z7AyJi7lpD/OcDF/rJ78sA4wAn5oGezOjXAaJHtfD+lMsB6pSxDHAsvwAg9m1WfyyfA5/up8dJtIMBPr5RliGMUwGIQWDm0yPe/I9v5fmo8GEBxPQrXo9AiQJJc/kP6LSlA1sVtNIDnMEC/fR04Z7Q0QL7BFyZTZThAmnecoiNZOkClLEMc67JAQBHHuriNnkFAj8L1KFxfQ0B2Tx4WaoVFQEvIBz2bhUdA\",\"dtype\":\"float64\",\"shape\":[27]},\"y\":{\"__ndarray__\":\"HOaDd6s91T8S7/VTD2PBP8T76ncIKsA/AMNZFH/2xj8VUIvkU6rGP9VAe8dMHMc/misr3GKrxT/t7dokHCjEP63RBO3CxsE/89igPT8CuT+ojGtDf2rCP/dqn++94Lo/GgGKBAEOwD9O+9N4g3PCP2wnpXdeuMk/gbUWH0MRzj+g/ZxLm3LKPwc8NEuKYLk/ehz8whK/fj+yniAkrNS0P+Utsm3AEsU/wbmjNAe5tz/IaiiBMqPAP54duFI11rc/ttk2xAnCrD98zx0YO2S+P38XRdZfztA/\",\"dtype\":\"float64\",\"shape\":[27]}}},\"id\":\"73bf94e7-8210-4153-930a-aba26681f517\",\"type\":\"ColumnDataSource\"},{\"attributes\":{\"line_color\":\"purple\",\"line_width\":2,\"x\":{\"field\":\"x\"},\"y\":{\"field\":\"y\"}},\"id\":\"f80a52ce-acac-4137-9f02-261044524932\",\"type\":\"Line\"},{\"attributes\":{\"data_source\":{\"id\":\"b512679d-8e1b-494d-b46f-3799cc60703a\",\"type\":\"ColumnDataSource\"},\"glyph\":{\"id\":\"93807789-84a0-47e8-873c-5ce6636467b3\",\"type\":\"Circle\"},\"hover_glyph\":{\"id\":\"65a9376b-8f5b-451a-a969-5d6bbf844b5e\",\"type\":\"Circle\"},\"muted_glyph\":null,\"nonselection_glyph\":{\"id\":\"9b89b587-29e1-4bee-a313-036560ca5912\",\"type\":\"Circle\"},\"selection_glyph\":null,\"view\":{\"id\":\"a3041cfa-208c-4cc8-bb36-2660fe8a501a\",\"type\":\"CDSView\"}},\"id\":\"3b9cea34-07f3-4026-8a54-c9af19ef937b\",\"type\":\"GlyphRenderer\"},{\"attributes\":{\"fill_alpha\":{\"value\":0.1},\"fill_color\":{\"value\":\"#1f77b4\"},\"line_alpha\":{\"value\":0.1},\"line_color\":{\"value\":\"#1f77b4\"},\"size\":{\"units\":\"screen\",\"value\":10},\"x\":{\"field\":\"x\"},\"y\":{\"field\":\"y\"}},\"id\":\"b1b84ae4-11d1-4492-bbae-5ec34f22da1f\",\"type\":\"Circle\"},{\"attributes\":{\"fill_alpha\":{\"value\":0.3},\"fill_color\":{\"value\":\"firebrick\"},\"line_alpha\":{\"value\":0.3},\"line_color\":{\"value\":\"white\"},\"size\":{\"units\":\"screen\",\"value\":10},\"x\":{\"field\":\"x\"},\"y\":{\"field\":\"y\"}},\"id\":\"8bf2db89-3c9b-4408-8630-f3374abd81a9\",\"type\":\"Circle\"},{\"attributes\":{\"source\":{\"id\":\"73bf94e7-8210-4153-930a-aba26681f517\",\"type\":\"ColumnDataSource\"}},\"id\":\"5c7ad701-eb76-4191-b167-d764a55bae5d\",\"type\":\"CDSView\"},{\"attributes\":{\"fill_alpha\":{\"value\":0.7},\"fill_color\":{\"value\":\"purple\"},\"line_color\":{\"value\":null},\"size\":{\"units\":\"screen\",\"value\":10},\"x\":{\"field\":\"x\"},\"y\":{\"field\":\"y\"}},\"id\":\"bf0ff6d2-fdca-4e71-8eb0-81640329bb28\",\"type\":\"Circle\"},{\"attributes\":{},\"id\":\"0ab13304-c9e7-4809-bd0a-77cdc3e56275\",\"type\":\"BasicTickFormatter\"},{\"attributes\":{\"line_alpha\":0.1,\"line_color\":\"#1f77b4\",\"line_width\":2,\"x\":{\"field\":\"x\"},\"y\":{\"field\":\"y\"}},\"id\":\"fd21d08f-f30a-4a98-beb1-e15aa989726b\",\"type\":\"Line\"},{\"attributes\":{\"callback\":null,\"column_names\":[\"x\",\"y\"],\"data\":{\"x\":{\"__ndarray__\":\"kDF3LSGHScBjf9k9efhHwKMBvAUSjEbAZ9XnaivmQ8BKDAIrhx5BwMcpOpLL/z7AyJi7lpD/OcDF/rJ78sA4wAn5oGezOjXAaJHtfD+lMsB6pSxDHAsvwAg9m1WfyyfA5/up8dJtIMBPr5RliGMUwGIQWDm0yPe/I9v5fmo8GEBxPQrXo9AiQJJc/kP6LSlA1sVtNIDnMEC/fR04Z7Q0QL7BFyZTZThAmnecoiNZOkClLEMc67JAQBHHuriNnkFAj8L1KFxfQ0B2Tx4WaoVFQEvIBz2bhUdA\",\"dtype\":\"float64\",\"shape\":[27]},\"y\":{\"__ndarray__\":\"HOaDd6s91T8S7/VTD2PBP8T76ncIKsA/AMNZFH/2xj8VUIvkU6rGP9VAe8dMHMc/misr3GKrxT/t7dokHCjEP63RBO3CxsE/89igPT8CuT+ojGtDf2rCP/dqn++94Lo/GgGKBAEOwD9O+9N4g3PCP2wnpXdeuMk/gbUWH0MRzj+g/ZxLm3LKPwc8NEuKYLk/ehz8whK/fj+yniAkrNS0P+Utsm3AEsU/wbmjNAe5tz/IaiiBMqPAP54duFI11rc/ttk2xAnCrD98zx0YO2S+P38XRdZfztA/\",\"dtype\":\"float64\",\"shape\":[27]}}},\"id\":\"5225c311-6da5-4cb2-8d93-d32a2618a502\",\"type\":\"ColumnDataSource\"}],\"root_ids\":[\"4b9c12f1-18e8-4dbe-a6d5-05b4e4c534f6\"]},\"title\":\"Bokeh Application\",\"version\":\"0.12.14\"}};\n",
       "  var render_items = [{\"docid\":\"9138e77d-3c2b-471a-8273-e6389f1f7d2f\",\"elementid\":\"5dde2585-1776-48b8-a32a-a34b99c45467\",\"modelid\":\"4b9c12f1-18e8-4dbe-a6d5-05b4e4c534f6\"}];\n",
       "  root.Bokeh.embed.embed_items_notebook(docs_json, render_items);\n",
       "\n",
       "  }\n",
       "  if (root.Bokeh !== undefined) {\n",
       "    embed_document(root);\n",
       "  } else {\n",
       "    var attempts = 0;\n",
       "    var timer = setInterval(function(root) {\n",
       "      if (root.Bokeh !== undefined) {\n",
       "        embed_document(root);\n",
       "        clearInterval(timer);\n",
       "      }\n",
       "      attempts++;\n",
       "      if (attempts > 100) {\n",
       "        console.log(\"Bokeh: ERROR: Unable to run BokehJS code because BokehJS library is missing\")\n",
       "        clearInterval(timer);\n",
       "      }\n",
       "    }, 10, root)\n",
       "  }\n",
       "})(window);"
      ],
      "application/vnd.bokehjs_exec.v0+json": ""
     },
     "metadata": {
      "application/vnd.bokehjs_exec.v0+json": {
       "id": "4b9c12f1-18e8-4dbe-a6d5-05b4e4c534f6"
      }
     },
     "output_type": "display_data"
    },
    {
     "name": "stdout",
     "output_type": "stream",
     "text": [
      "\n"
     ]
    }
   ],
   "source": [
    "from opedia import esv\n",
    "\n",
    "############## set parameters ################\n",
    "# only plot the top_N number of most abundant organisms\n",
    "topN = 3           \n",
    "# aggregate organisms by their taxa level\n",
    "tax = ['domain', 'phylum', 'class', 'order', 'family', 'genus', 'species'][5]\n",
    "depth1 = 20\n",
    "depth2 = depth1\n",
    "cruise_name = 'ANT28-5'\n",
    "cluster_level = [89, 92, 96, 97, 98, 99, 100][6] # minimum similarity percentage to be clustered 100 = ASV level\n",
    "\n",
    "iSizeFrac = 0 # Free-living fraction 0.2 - 3 uM\n",
    "#iSizeFrac = 1 # Small particle-associated 3 - 8 uM \n",
    "#iSizeFrac = 2 # Large particle-associated fraction > 8 uM \n",
    "\n",
    "size_frac_lower = [0.2, 3, 8][iSizeFrac]\n",
    "size_frac_upper = [3, 8, None][iSizeFrac]\n",
    "##############################################\n",
    "\n",
    "esv.plotESVs(topN, tax, depth1, depth2, cruise_name, cluster_level, size_frac_lower, size_frac_upper)"
   ]
  },
  {
   "cell_type": "markdown",
   "metadata": {},
   "source": [
    "<br/><br/>\n",
    "# Colocalize with Model and Satellite\n",
    "\n",
    "Here, the retrieved trends of relative abundances are colocalized with other datasets, in this case with Darwin model. The results are stored in a .csv file in the ./data directory. "
   ]
  },
  {
   "cell_type": "code",
   "execution_count": 2,
   "metadata": {},
   "outputs": [
    {
     "data": {
      "application/vnd.jupyter.widget-view+json": {
       "model_id": "9a739c8e50d94411b3dafdc67b997342",
       "version_major": 2,
       "version_minor": 0
      },
      "text/plain": [
       "HBox(children=(IntProgress(value=0, description=u'overall', max=3), HTML(value=u'')))"
      ]
     },
     "metadata": {},
     "output_type": "display_data"
    },
    {
     "data": {
      "application/vnd.jupyter.widget-view+json": {
       "model_id": "e8751a1d5220423c96ead4c902d158e0",
       "version_major": 2,
       "version_minor": 0
      },
      "text/plain": [
       "HBox(children=(IntProgress(value=0, description=u'prokaryote_c01_darwin_clim', max=27), HTML(value=u'')))"
      ]
     },
     "metadata": {},
     "output_type": "display_data"
    },
    {
     "data": {
      "application/vnd.jupyter.widget-view+json": {
       "model_id": "4962b9e178e74a76aced2ec4a7a8f175",
       "version_major": 2,
       "version_minor": 0
      },
      "text/plain": [
       "HBox(children=(IntProgress(value=0, description=u'prokaryote_c02_darwin_clim', max=27), HTML(value=u'')))"
      ]
     },
     "metadata": {},
     "output_type": "display_data"
    },
    {
     "data": {
      "application/vnd.jupyter.widget-view+json": {
       "model_id": "bdcbc271eca148a7bcaf89b0f48b348e",
       "version_major": 2,
       "version_minor": 0
      },
      "text/plain": [
       "HBox(children=(IntProgress(value=0, description=u'cocco_c05_darwin_clim', max=27), HTML(value=u'')))"
      ]
     },
     "metadata": {},
     "output_type": "display_data"
    },
    {
     "name": "stdout",
     "output_type": "stream",
     "text": [
      "\n",
      "\n"
     ]
    }
   ],
   "source": [
    "from opedia import colocalize as COL\n",
    "\n",
    "DB = False                           # < True > if source data exists in the database. < 0 > if the source data set is a spreadsheet file on disk. \n",
    "source = './data/esv.csv'            # the source table name (or full filename)    \n",
    "temporalTolerance = 3                # colocalizer temporal tolerance (+/- degrees)\n",
    "latTolerance = 0.3                   # colocalizer meridional tolerance (+/- degrees)\n",
    "lonTolerance = 0.3                   # colocalizer zonal tolerance (+/- degrees) \n",
    "depthTolerance = 5                   # colocalizer depth tolerance (+/- meters)\n",
    "tables = ['tblDarwin_Plankton_Climatology', 'tblDarwin_Plankton_Climatology', 'tblDarwin_Plankton_Climatology']    # list of varaible table names               \n",
    "variables = ['prokaryote_c01_darwin_clim', 'prokaryote_c02_darwin_clim', 'cocco_c05_darwin_clim']                  # list of variable names           \n",
    "exportPath = './data/loaded.csv'     # path to save the colocalized data set \n",
    "    \n",
    "COL.matchSource(DB, source, temporalTolerance, latTolerance, lonTolerance, depthTolerance, tables, variables, exportPath)    "
   ]
  },
  {
   "cell_type": "code",
   "execution_count": null,
   "metadata": {},
   "outputs": [],
   "source": []
  }
 ],
 "metadata": {
  "kernelspec": {
   "display_name": "Python [conda env:opedia-env]",
   "language": "python",
   "name": "conda-env-opedia-env-py"
  },
  "language_info": {
   "codemirror_mode": {
    "name": "ipython",
    "version": 3
   },
   "file_extension": ".py",
   "mimetype": "text/x-python",
   "name": "python",
   "nbconvert_exporter": "python",
   "pygments_lexer": "ipython3",
   "version": "3.6.6"
  }
 },
 "nbformat": 4,
 "nbformat_minor": 2
}
