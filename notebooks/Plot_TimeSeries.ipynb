{
 "cells": [
  {
   "cell_type": "markdown",
   "metadata": {},
   "source": [
    "# Plot Time Seriese (Model, Satellite)\n",
    "\n",
    "Create time series plots using sattelite and model data.\n",
    "<br/> <br/>\n",
    "**Note:**<br/> \n",
    "* Pisces model is a weekly-averaged global model with spatial resolution $\\frac{1}{2}^\\circ \\times \\frac{1}{2}^\\circ$ (data is available only at one-week intervals).<br/>\n",
    "\n",
    "* Satellite wind data set is a 6-hourly global product with spatial resolution $\\frac{1}{4}^\\circ \\times \\frac{1}{4}^\\circ$.<br/>\n",
    "\n",
    "* Satellite Altimetry data set is a daily-global product with spatial resolution $\\frac{1}{4}^\\circ \\times \\frac{1}{4}^\\circ$.<br/>"
   ]
  },
  {
   "cell_type": "code",
   "execution_count": null,
   "metadata": {},
   "outputs": [],
   "source": [
    "from opedia import plotTS as TS\n",
    "\n",
    "tables = ['tblSST_AVHRR_OI_NRT', 'tblAltimetry_REP', 'tblPisces_NRT']    # see catalog.csv  for the complete list of tables and variable names\n",
    "variables = ['sst', 'sla', 'NO3']                                        # see catalog.csv  for the complete list of tables and variable names\n",
    "startDate = '2016-03-29'\n",
    "endDate = '2016-05-29'\n",
    "lat1, lat2 = 25, 30\n",
    "lon1, lon2 = -160, -155\n",
    "depth1, depth2 = 0, 5\n",
    "fname = 'TS'\n",
    "exportDataFlag = False                                                   # True if you you want to download data\n",
    "\n",
    "TS.plotTS(tables, variables, startDate, endDate, lat1, lat2, lon1, lon2, depth1, depth2, fname, exportDataFlag)"
   ]
  }
 ],
 "metadata": {
  "kernelspec": {
   "display_name": "Python 3",
   "language": "python",
   "name": "python3"
  },
  "language_info": {
   "codemirror_mode": {
    "name": "ipython",
    "version": 3
   },
   "file_extension": ".py",
   "mimetype": "text/x-python",
   "name": "python",
   "nbconvert_exporter": "python",
   "pygments_lexer": "ipython3",
   "version": "3.7.0"
  }
 },
 "nbformat": 4,
 "nbformat_minor": 2
}
