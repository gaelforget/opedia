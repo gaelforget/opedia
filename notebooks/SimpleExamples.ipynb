{
 "cells": [
  {
   "cell_type": "markdown",
   "metadata": {},
   "source": [
    "# Example1: Download Catalog\n",
    "\n",
    "Running blow single line of code will download a csv file containing all of the variable in opedia.<br>\n",
    "The catalog file is stored at ./data/catalog.csv"
   ]
  },
  {
   "cell_type": "code",
   "execution_count": null,
   "metadata": {},
   "outputs": [],
   "source": [
    "from opedia import getCatalog"
   ]
  },
  {
   "cell_type": "markdown",
   "metadata": {},
   "source": [
    "<br/><br/>\n",
    "\n",
    "\n",
    "# Example 2: Plot Regional Maps\n",
    "\n",
    "Create a regional map using satellite and model data.\n",
    "<br/> <br/>\n",
    "**Notes:**<br/> \n",
    "Pisces model is a weekly-averaged global model with spatial resolution $\\frac{1}{2}^\\circ \\times \\frac{1}{2}^\\circ$ (data is available only at one-week intervals).<br/>\n",
    "\n",
    "Satellite SST data set is a daily-global product with spatial resolution $\\frac{1}{4}^\\circ \\times \\frac{1}{4}^\\circ$.<br/>\n"
   ]
  },
  {
   "cell_type": "code",
   "execution_count": null,
   "metadata": {},
   "outputs": [],
   "source": [
    "from opedia import plotRegional as REG\n",
    "\n",
    "\n",
    "tables = ['tblsst_AVHRR_OI_NRT', 'tblPisces_NRT']    # see catalog.csv  for the complete list of tables and variable names\n",
    "variables = ['sst', 'Fe']                            # see catalog.csv  for the complete list of tables and variable names   \n",
    "startDate = '2016-04-30'\n",
    "endDate = '2016-04-30'\n",
    "lat1 = '20'\n",
    "lat2 = '50'\n",
    "lon1 = '-180'\n",
    "lon2 = '-100'\n",
    "depth1 = '0'\n",
    "depth2 = '0.5'\n",
    "fname = 'regional'\n",
    "exportDataFlag = False       # True if you you want to download data\n",
    "\n",
    "REG.regionalMap(tables, variables, startDate, endDate, lat1, lat2, lon1, lon2, depth1, depth2, fname, exportDataFlag)\n"
   ]
  },
  {
   "cell_type": "markdown",
   "metadata": {},
   "source": [
    "<br/><br/>\n",
    "\n",
    "\n",
    "\n",
    "# Example 3: Plot Time Seriese\n",
    "\n",
    "Create time series plots using sattelite and model data.\n",
    "\n",
    "<br/> <br/>\n",
    "**Note:**<br/> \n",
    "Pisces model is a weekly-averaged global model with spatial resolution $\\frac{1}{2}^\\circ \\times \\frac{1}{2}^\\circ$ (data is available only at one-week intervals).<br/>\n",
    "\n",
    "Satellite wind data set is a 6-hourly global product with spatial resolution $\\frac{1}{4}^\\circ \\times \\frac{1}{4}^\\circ$.<br/>\n",
    "\n",
    "Satellite Altimetry data set is a daily-global product with spatial resolution $\\frac{1}{4}^\\circ \\times \\frac{1}{4}^\\circ$.<br/>"
   ]
  },
  {
   "cell_type": "code",
   "execution_count": null,
   "metadata": {},
   "outputs": [],
   "source": [
    "from opedia import plotTS as TS\n",
    "\n",
    "tables = ['tblWind_NRT', 'tblAltimetry_REP', 'tblPISCES_NRT']\n",
    "variables = ['wind_stress', 'sla', 'NO3']\n",
    "startDate = '2016-03-29'\n",
    "endDate = '2016-04-29'\n",
    "lat1 = '25'\n",
    "lat2 = '30'\n",
    "lon1 = '-160'\n",
    "lon2 = '-155'\n",
    "depth1 = '0'\n",
    "depth2 = '5'\n",
    "fname = 'TS'\n",
    "exportDataFlag = False      # True if you you want to download data\n",
    "\n",
    "TS.plotTS(tables, variables, startDate, endDate, lat1, lat2, lon1, lon2, depth1, depth2, fname, exportDataFlag)\n",
    "\n"
   ]
  },
  {
   "cell_type": "markdown",
   "metadata": {},
   "source": [
    "<br/><br/>\n",
    "\n",
    "\n",
    "\n",
    "\n",
    "# Example 4: Plot Depth Profile (Model outputs, BGC-Argo Floats)\n",
    "\n",
    "Create depth profile plots using model and BGC-Argo float profiles.\n",
    "\n",
    "<br/> <br/>\n",
    "**Note:**<br/> \n",
    "Pisces model is a weekly-averaged global model with spatial resolution $\\frac{1}{2}^\\circ \\times \\frac{1}{2}^\\circ$ (data is available only at one-week intervals).<br/>\n",
    "\n",
    "Darwin_Climatology is a monthly climatology version of the Darwin model with spatial resolution $\\frac{1}{2}^\\circ \\times \\frac{1}{2}^\\circ$.<br/>\n",
    "\n",
    "Argo float data set has irregular temporal and spatial resolution. <br/>\n"
   ]
  },
  {
   "cell_type": "code",
   "execution_count": null,
   "metadata": {},
   "outputs": [],
   "source": [
    "from opedia import plotDepthProfile as DEP\n",
    "\n",
    "tables = ['tblPISCES_NRT', 'tblArgoMerge_REP', 'tblDarwin_Chl_Climatology']      \n",
    "variables = ['CHL', 'argo_merge_chl_adj', 'chl01_darwin_clim']\n",
    "startDate = '2016-04-30'   # PISCES is a weekly model, and here we are using monthly climatology of Darwin model\n",
    "endDate = '2016-04-30'\n",
    "lat1 = '20'\n",
    "lat2 = '24'\n",
    "lon1 = '-170'\n",
    "lon2 = '-150'\n",
    "depth1 = '0'\n",
    "depth2 = '1500'\n",
    "fname = 'DEP'\n",
    "exportDataFlag = False      # True if you you want to download data\n",
    "\n",
    "DEP.plotDepthProfile(tables, variables, startDate, endDate, lat1, lat2, lon1, lon2, depth1, depth2, fname, exportDataFlag)\n",
    "\n"
   ]
  },
  {
   "cell_type": "code",
   "execution_count": null,
   "metadata": {},
   "outputs": [],
   "source": []
  }
 ],
 "metadata": {
  "kernelspec": {
   "display_name": "Python 2",
   "language": "python",
   "name": "python2"
  },
  "language_info": {
   "codemirror_mode": {
    "name": "ipython",
    "version": 2
   },
   "file_extension": ".py",
   "mimetype": "text/x-python",
   "name": "python",
   "nbconvert_exporter": "python",
   "pygments_lexer": "ipython2",
   "version": "2.7.15"
  }
 },
 "nbformat": 4,
 "nbformat_minor": 2
}
