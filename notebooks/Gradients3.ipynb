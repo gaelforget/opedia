{
 "cells": [
  {
   "cell_type": "markdown",
   "metadata": {},
   "source": [
    "# I. Surface Maps (Satellite)\n",
    "\n",
    "Create surface maps using near-real-time satellite data.\n",
    "<br/> <br/>\n",
    "**Notes:**<br/> \n",
    "* Pisces model is a weekly-averaged global model with spatial resolution $\\frac{1}{2}^\\circ \\times \\frac{1}{2}^\\circ$ (data is available only at one-week intervals).<br/>\n",
    "\n",
    "* Satellite SST data set is a daily-global product with spatial resolution $\\frac{1}{4}^\\circ \\times \\frac{1}{4}^\\circ$.<br/>"
   ]
  },
  {
   "cell_type": "code",
   "execution_count": null,
   "metadata": {
    "scrolled": false
   },
   "outputs": [],
   "source": [
    "from opedia import plotRegional as REG\n",
    "\n",
    "\n",
    "tables = ['tblsst_AVHRR_OI_NRT', 'tblAltimetry_NRT', 'tblCHL_OI_NRT', 'tblLCS_NRT', 'tblLCS_NRT', 'tblWind_NRT', 'tblSSS_NRT']    \n",
    "variables = ['sst', 'sla_nrt', 'chl_nrt', 'ftle_nrt', 'disp_nrt', 'wind_stress', 'sss']                             \n",
    "startDate = '2019-03-02'\n",
    "endDate = '2019-03-02'\n",
    "lat1, lat2 = 10, 70\n",
    "lon1, lon2 = -180, -80\n",
    "depth1, depth2 = 0, 0.5\n",
    "fname = 'surface_satellite'\n",
    "exportDataFlag = False       # True if you you want to save data in .csv format\n",
    "\n",
    "REG.regionalMap(tables, variables, startDate, endDate, lat1, lat2, lon1, lon2, depth1, depth2, fname, exportDataFlag)"
   ]
  },
  {
   "cell_type": "markdown",
   "metadata": {},
   "source": [
    "# II. Surface Organisms Maps (Model)\n",
    "\n",
    "Create surface maps using Darwin monthly climatology data.\n",
    "<br/> <br/>\n",
    "**Notes:**<br/> \n",
    "* Darwin_Climatology is a monthly climatology version of the Darwin model with spatial resolution $\\frac{1}{2}^\\circ \\times \\frac{1}{2}^\\circ$.<br/>\n",
    "\n"
   ]
  },
  {
   "cell_type": "code",
   "execution_count": null,
   "metadata": {
    "scrolled": false
   },
   "outputs": [],
   "source": [
    "from opedia import plotRegional as REG\n",
    "\n",
    "\n",
    "tables = ['tblDarwin_Plankton_Climatology', 'tblDarwin_Plankton_Climatology']    \n",
    "variables = ['prokaryote_c01_darwin_clim', 'prokaryote_c02_darwin_clim']                             \n",
    "startDate = '2019-03-02'\n",
    "endDate = '2019-03-02'\n",
    "lat1, lat2 = 10, 70\n",
    "lon1, lon2 = -180, -80\n",
    "depth1, depth2 = 0, 5\n",
    "fname = 'organism_model'\n",
    "exportDataFlag = False       # True if you you want to save data in .csv format\n",
    "\n",
    "REG.regionalMap(tables, variables, startDate, endDate, lat1, lat2, lon1, lon2, depth1, depth2, fname, exportDataFlag)"
   ]
  },
  {
   "cell_type": "markdown",
   "metadata": {},
   "source": [
    "# III. Surface Maps (Model)\n",
    "\n",
    "Create a surface maps using near-real-time model data.\n",
    "<br/> <br/>\n",
    "**Notes:**<br/> \n",
    "* Pisces model is a weekly-averaged global model with spatial resolution $\\frac{1}{2}^\\circ \\times \\frac{1}{2}^\\circ$ (data is available only at one-week intervals).<br/>\n"
   ]
  },
  {
   "cell_type": "code",
   "execution_count": null,
   "metadata": {
    "scrolled": false
   },
   "outputs": [],
   "source": [
    "from opedia import plotRegional as REG\n",
    "\n",
    "\n",
    "tables = ['tblMercator_MLD_NRT', 'tblPisces_NRT', 'tblPisces_NRT', 'tblPisces_NRT', 'tblPisces_NRT']    \n",
    "variables = ['mld_nrt', 'NO3', 'PO4', 'Fe', 'O2']                             \n",
    "startDate = '2019-03-02'\n",
    "endDate = '2019-03-02'\n",
    "lat1, lat2 = 10, 70\n",
    "lon1, lon2 = -180, -80\n",
    "depth1, depth2 = 0, 0.5\n",
    "fname = 'surface_model'\n",
    "exportDataFlag = False       # True if you you want to save data in .csv format\n",
    "\n",
    "REG.regionalMap(tables, variables, startDate, endDate, lat1, lat2, lon1, lon2, depth1, depth2, fname, exportDataFlag)"
   ]
  },
  {
   "cell_type": "markdown",
   "metadata": {},
   "source": [
    "# IV. Section plots (Model)\n",
    "\n",
    "Create section maps using monthly climatology data from Darwin and near-real-time data from PISCES model.\n",
    "<br/> <br/>\n",
    "**Notes:**<br/> \n",
    "* Darwin_Climatology is a monthly climatology version of the Darwin model with spatial resolution $\\frac{1}{2}^\\circ \\times \\frac{1}{2}^\\circ$.<br/>\n",
    "\n",
    "* Pisces model is a weekly-averaged global model with spatial resolution $\\frac{1}{2}^\\circ \\times \\frac{1}{2}^\\circ$ (data is available only at one-week intervals).<br/>"
   ]
  },
  {
   "cell_type": "code",
   "execution_count": null,
   "metadata": {
    "scrolled": false
   },
   "outputs": [],
   "source": [
    "from opedia import plotSection as SEC\n",
    "\n",
    "tables = ['tblDarwin_Nutrient_Climatology', 'tblDarwin_Nutrient_Climatology', 'tblPisces_NRT', 'tblPisces_NRT', 'tblPisces_NRT', 'tblPisces_NRT']    \n",
    "variables = ['NH4_darwin_clim', 'SiO2_darwin_clim', 'Fe', 'NO3', 'CHL', 'PO4', 'O2']                           \n",
    "startDate = '2019-03-02'                                        \n",
    "endDate = '2019-03-02'\n",
    "lat1, lat2 = 20, 55\n",
    "lon1, lon2 = -159, -157\n",
    "depth1, depth2 = 0, 1000\n",
    "fname = 'SEC'\n",
    "exportDataFlag = False                  # True if you you want to save data in .csv format\n",
    "\n",
    "SEC.sectionMap(tables, variables, startDate, endDate, lat1, lat2, lon1, lon2, depth1, depth2, fname, exportDataFlag)"
   ]
  },
  {
   "cell_type": "code",
   "execution_count": null,
   "metadata": {},
   "outputs": [],
   "source": []
  }
 ],
 "metadata": {
  "kernelspec": {
   "display_name": "Python 2",
   "language": "python",
   "name": "python2"
  },
  "language_info": {
   "codemirror_mode": {
    "name": "ipython",
    "version": 2
   },
   "file_extension": ".py",
   "mimetype": "text/x-python",
   "name": "python",
   "nbconvert_exporter": "python",
   "pygments_lexer": "ipython2",
   "version": "2.7.15"
  }
 },
 "nbformat": 4,
 "nbformat_minor": 2
}
