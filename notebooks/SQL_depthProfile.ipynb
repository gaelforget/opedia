{
 "cells": [
  {
   "cell_type": "markdown",
   "metadata": {},
   "source": [
    "# LowLevel: Depth Profile SQL\n",
    "If you are familiar with SQL or T-SQL language, you can use \"dbfFetch()\" function to execute any generic query and retrieve data. Below is a simple example showing how to retrieve a depth profile and plot."
   ]
  },
  {
   "cell_type": "code",
   "execution_count": null,
   "metadata": {},
   "outputs": [],
   "source": [
    "from opedia import db\n",
    "import matplotlib.pyplot as plt\n",
    "%matplotlib inline"
   ]
  },
  {
   "cell_type": "markdown",
   "metadata": {},
   "source": [
    "## Basci plot"
   ]
  },
  {
   "cell_type": "code",
   "execution_count": null,
   "metadata": {},
   "outputs": [],
   "source": [
    "def plot(t, y):\n",
    "    plt.plot(t, y, 'o')\n",
    "    plt.xlabel('depth (m)')\n",
    "    plt.show()"
   ]
  },
  {
   "cell_type": "markdown",
   "metadata": {},
   "source": [
    "## Construct the query statement"
   ]
  },
  {
   "cell_type": "code",
   "execution_count": null,
   "metadata": {},
   "outputs": [],
   "source": [
    "def prepareQuery(args):\n",
    "    query = \"SELECT AVG(lat) AS lat, AVG(lon) AS lon, depth, AVG(%s) AS %s FROM %s WHERE \"\n",
    "    query += \"[time] BETWEEN '%s' AND '%s' AND \"\n",
    "    query += \"lat BETWEEN %f AND %f AND \"\n",
    "    query += \"lon BETWEEN %f AND %f AND \"\n",
    "    query += \"depth BETWEEN %f AND %f \"     \n",
    "    query += \"GROUP BY depth \"\n",
    "    query += \"ORDER BY depth \"\n",
    "    query = query % args\n",
    "    return query"
   ]
  },
  {
   "cell_type": "markdown",
   "metadata": {},
   "source": [
    "<br/> <br/> <br/>\n",
    "## Retrieve depth profile data and plot "
   ]
  },
  {
   "cell_type": "code",
   "execution_count": null,
   "metadata": {},
   "outputs": [],
   "source": [
    "############## set parameters ################\n",
    "table = 'tblPisces_NRT'\n",
    "field = 'CHL'       \n",
    "dt1 = '2016-06-01'\n",
    "dt2 = '2016-10-01'\n",
    "lat1, lat2, lon1, lon2 = 23, 24, -160, -158 \n",
    "depth1, depth2 = 0, 5000\n",
    "##############################################\n",
    "args = (field, field, table, dt1, dt2, lat1, lat2, lon1, lon2, depth1, depth2)\n",
    "query = prepareQuery(args)\n",
    "df = db.dbFetch(query)        \n",
    "#df.to_csv(field+'.csv', index=False)    # export data\n",
    "plot(df['depth'], df[field])"
   ]
  },
  {
   "cell_type": "code",
   "execution_count": null,
   "metadata": {},
   "outputs": [],
   "source": []
  }
 ],
 "metadata": {
  "kernelspec": {
   "display_name": "Python 2",
   "language": "python",
   "name": "python2"
  },
  "language_info": {
   "codemirror_mode": {
    "name": "ipython",
    "version": 2
   },
   "file_extension": ".py",
   "mimetype": "text/x-python",
   "name": "python",
   "nbconvert_exporter": "python",
   "pygments_lexer": "ipython2",
   "version": "2.7.15"
  }
 },
 "nbformat": 4,
 "nbformat_minor": 2
}
