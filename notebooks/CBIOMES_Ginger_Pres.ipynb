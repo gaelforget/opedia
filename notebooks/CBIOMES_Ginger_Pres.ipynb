{
 "cells": [
  {
   "cell_type": "markdown",
   "metadata": {},
   "source": [
    "# Example1: Plot Depth Profile (BGC-Argo Floats, Model outputs)\n",
    "\n",
    "Create depth profile plots using model and BGC-Argo float profiles.\n",
    "<br/> <br/>\n",
    "**Notes:**\n",
    "* Darwin_Climatology is a monthly climatology version of the Darwin model with spatial resolution $\\frac{1}{2}^\\circ \\times \\frac{1}{2}^\\circ$.<br/>\n",
    "\n",
    "* Argo float data set has irregular temporal and spatial resolution. <br/>"
   ]
  },
  {
   "cell_type": "code",
   "execution_count": null,
   "metadata": {},
   "outputs": [],
   "source": [
    "from opedia import plotDepthProfile as DEP\n",
    "\n",
    "tables = ['tblArgoMerge_REP', 'tblDarwin_Chl_Climatology']     # see catalog.csv  for the complete list of tables and variable names      \n",
    "variables = ['argo_merge_chl_adj', 'chl01_darwin_clim']        # see catalog.csv  for the complete list of tables and variable names\n",
    "startDate = '2016-04-30'   \n",
    "endDate = '2016-04-30'\n",
    "lat1, lat2 = 20, 24\n",
    "lon1, lon2 = -170, -160\n",
    "depth1, depth2 = 0, 1500\n",
    "fname = 'DEP'\n",
    "exportDataFlag = False                                         # True if you you want to download data\n",
    "\n",
    "DEP.plotDepthProfile(tables, variables, startDate, endDate, lat1, lat2, lon1, lon2, depth1, depth2, fname, exportDataFlag)"
   ]
  },
  {
   "cell_type": "markdown",
   "metadata": {},
   "source": [
    "<br/> <br/>\n",
    "# Example2: Colocalize Darwin model and satellite data with cruise\n",
    "\n",
    "Compare the underway (in-situ) picoeukaryote abundance measurements performed during the \"Gradient1.0\" cruise with satellite chlorophyll data and picoeukaryote climatological estimates provided by Darwin model.\n",
    "\n",
    "<br/> \n",
    "**Notes:**<br/> \n",
    "\n",
    "* In-Situ picoeukaryote abundance measurements are results of the SeaFlow data set with 3-minute temporal resultion and irregular spatial resultion.\n",
    "\n",
    "* Satellite Chlorophyll data used in this example is a daily-global reprocessed and optimally interpolated data set with $4~{\\rm km}\\times4~{\\rm km}$ spatial resolution. \n",
    "\n",
    "* Darwin_Climatology is a monthly climatology version of the Darwin model with spatial resolution $\\frac{1}{2}^\\circ \\times \\frac{1}{2}^\\circ$.<br/>\n",
    "\n",
    "<br/>\n"
   ]
  },
  {
   "cell_type": "code",
   "execution_count": null,
   "metadata": {},
   "outputs": [],
   "source": [
    "from opedia import plotCruise as CRS\n",
    "\n",
    "DB_Cruise = True                 # < True > if cruise trajectory already exists in DB. < False > if arbiturary cruise file (e.g. virtual) \n",
    "source = 'tblSeaFlow'            # cruise table name or path to csv trajectory file    \n",
    "cruise = 'SCOPE_16'              # cruise name, or file name of the csv trajectory file     \n",
    "resampTau = '6H'                 # resample the cruise trajectory making trajectory time-space resolution coarser: e.g. '6H' (6 hourly), '3T' (3 minutes), ... '0' (ignore)  \n",
    "fname = 'alongTrack'             # figure filename\n",
    "tables = ['tblSeaFlow', 'tblDarwin_Plankton_Climatology', 'tblCHL_OI_REP']    # list of varaible table names               \n",
    "variables = ['picoeuk', 'picoeukaryote_c03_darwin_clim', 'chl']               # list of variable names           \n",
    "spatialTolerance = 0.3           # colocalizer spatial tolerance (+/- degrees) \n",
    "exportDataFlag = False           # export the cruise trajectory and colocalized data on disk\n",
    "depth1 = 0                      # depth range start (m) \n",
    "depth2 = 5                       # depth range end (m)  \n",
    "\n",
    "\n",
    "df = CRS.getCruiseTrack(DB_Cruise, source, cruise)\n",
    "df = CRS.resample(df, resampTau) \n",
    "loadedTrack = CRS.plotAlongTrack(tables, variables, cruise, resampTau, df, spatialTolerance, depth1, depth2, fname, exportDataFlag, marker='-', msize=30, clr='darkturquoise')"
   ]
  },
  {
   "cell_type": "markdown",
   "metadata": {},
   "source": [
    "<br/> <br/> \n",
    "\n",
    "# Example3.1: Exact Amplicon Sequence Variants (16S) Along Cruise Track\n",
    "### Query by taxonomy level, clustering thereshold, and size fraction\n",
    "\n",
    "The example below retrieves the \"topN\" number of most abundant sequenced organisms along track of the cruise. One can aggregate and visualize the relative abundance of the organisms according to their taxonomy level, clustering levels, and size fractions. The cruise, 'ANT28-5', is an Atlantic latitudinal transect. <br/> <br/>\n",
    "\n",
    "**Thanks to Jed Fuhrman and Jesse McNichol (USC) for the beautiful dataset!**  <br/> <br/> "
   ]
  },
  {
   "cell_type": "code",
   "execution_count": null,
   "metadata": {},
   "outputs": [],
   "source": [
    "from opedia import esv\n",
    "\n",
    "############## set parameters ################\n",
    "# only plot the top_N number of most abundant organisms\n",
    "topN = 5           \n",
    "# aggregate organisims by their taxa level\n",
    "tax = ['domain', 'kingdom', 'phylum', 'class', 'order', 'genus', 'species'][5]\n",
    "depth1 = 20\n",
    "depth2 = depth1\n",
    "cruise_name = 'ANT28-5'\n",
    "cluster_level = [89, 92, 96, 97, 98, 99, 100][0]        # minimum similarity precentage to be clustred\n",
    "size_frac_lower = [0.2, 3, 8][0]                        # size in micro-meter\n",
    "size_frac_upper = [None, 3, 8][1]                       # size in micro-meter\n",
    "##############################################\n",
    "\n",
    "esv.plotESVs(topN, tax, depth1, depth2, cruise_name, cluster_level, size_frac_lower, size_frac_upper)"
   ]
  },
  {
   "cell_type": "markdown",
   "metadata": {},
   "source": [
    "<br/><br/>\n",
    "# Example3.2: Colocalize 16S dataset (or any other) with Model and Satellite\n",
    "\n",
    "Here, the retrieved trends of relative abundances are colocalized with other datasets, in this case with Darwin model. The results are stored in a .csv file in the ./data directory. "
   ]
  },
  {
   "cell_type": "code",
   "execution_count": null,
   "metadata": {},
   "outputs": [],
   "source": [
    "from opedia import colocalize as COL\n",
    "\n",
    "DB = False                           # < True > if source data exists in the database. < 0 > if the source data set is a spreadsheet file on disk. \n",
    "source = './data/esv.csv'            # the source table name (or full filename)    \n",
    "temporalTolerance = 3                # colocalizer temporal tolerance (+/- degrees)\n",
    "latTolerance = 0.3                   # colocalizer meridional tolerance (+/- degrees)\n",
    "lonTolerance = 0.3                   # colocalizer zonal tolerance (+/- degrees) \n",
    "depthTolerance = 5                   # colocalizer depth tolerance (+/- meters)\n",
    "tables = ['tblDarwin_Plankton_Climatology', 'tblDarwin_Plankton_Climatology', 'tblDarwin_Plankton_Climatology']    # list of varaible table names               \n",
    "variables = ['prokaryote_c01_darwin_clim', 'prokaryote_c02_darwin_clim', 'cocco_c05_darwin_clim']                  # list of variable names           \n",
    "exportPath = './data/loaded.csv'     # path to save the colocalized data set \n",
    "    \n",
    "COL.matchSource(DB, source, temporalTolerance, latTolerance, lonTolerance, depthTolerance, tables, variables, exportPath)    "
   ]
  },
  {
   "cell_type": "markdown",
   "metadata": {},
   "source": [
    "<br/><br/>\n",
    "# Simons Ocean Atlas Online Documentation "
   ]
  },
  {
   "cell_type": "code",
   "execution_count": 1,
   "metadata": {},
   "outputs": [
    {
     "data": {
      "text/html": [
       "<iframe src=https://simons-ocean-atlas-documentation.readthedocs.io/en/latest/index.html width=1200 height=800></iframe>"
      ],
      "text/plain": [
       "<IPython.core.display.HTML object>"
      ]
     },
     "execution_count": 1,
     "metadata": {},
     "output_type": "execute_result"
    }
   ],
   "source": [
    "import IPython\n",
    "atlasURL = 'https://simons-ocean-atlas-documentation.readthedocs.io/en/latest/index.html'\n",
    "iframe = '<iframe src=' + atlasURL + ' width=1200 height=800></iframe>'\n",
    "IPython.display.HTML(iframe)"
   ]
  },
  {
   "cell_type": "code",
   "execution_count": null,
   "metadata": {},
   "outputs": [],
   "source": []
  }
 ],
 "metadata": {
  "kernelspec": {
   "display_name": "Python 2",
   "language": "python",
   "name": "python2"
  },
  "language_info": {
   "codemirror_mode": {
    "name": "ipython",
    "version": 2
   },
   "file_extension": ".py",
   "mimetype": "text/x-python",
   "name": "python",
   "nbconvert_exporter": "python",
   "pygments_lexer": "ipython2",
   "version": "2.7.15"
  }
 },
 "nbformat": 4,
 "nbformat_minor": 2
}
