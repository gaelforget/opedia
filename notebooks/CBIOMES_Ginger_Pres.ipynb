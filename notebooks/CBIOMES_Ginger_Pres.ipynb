{
 "cells": [
  {
   "cell_type": "markdown",
   "metadata": {},
   "source": [
    "# Example1: Plot Depth Profile (BGC-Argo Floats, Model outputs)\n",
    "\n",
    "Create depth profile plots using model and BGC-Argo float profiles.\n",
    "<br/> <br/>\n",
    "**Notes:**\n",
    "* Darwin_Climatology is a monthly climatology version of the Darwin model with spatial resolution $\\frac{1}{2}^\\circ \\times \\frac{1}{2}^\\circ$.<br/>\n",
    "\n",
    "* Argo float data set has irregular temporal and spatial resolution. <br/>"
   ]
  },
  {
   "cell_type": "code",
   "execution_count": null,
   "metadata": {},
   "outputs": [],
   "source": [
    "from opedia import plotDepthProfile as DEP\n",
    "\n",
    "tables = ['tblArgoMerge_REP', 'tblDarwin_Chl_Climatology']     # see catalog.csv  for the complete list of tables and variable names      \n",
    "variables = ['argo_merge_chl_adj', 'chl01_darwin_clim']        # see catalog.csv  for the complete list of tables and variable names\n",
    "startDate = '2016-04-30'   \n",
    "endDate = '2016-04-30'\n",
    "lat1, lat2 = 20, 24\n",
    "lon1, lon2 = -170, -160\n",
    "depth1, depth2 = 0, 1500\n",
    "fname = 'DEP'\n",
    "exportDataFlag = False                                         # True if you you want to download data\n",
    "\n",
    "DEP.plotDepthProfile(tables, variables, startDate, endDate, lat1, lat2, lon1, lon2, depth1, depth2, fname, exportDataFlag)"
   ]
  },
  {
   "cell_type": "markdown",
   "metadata": {},
   "source": [
    "<br/> <br/>\n",
    "# Example2: Colocalize Darwin model and satellite data with cruise\n",
    "\n",
    "Compare the underway (in-situ) picoeukaryote abundance measurements performed during the \"Gradient1.0\" cruise with satellite chlorophyll data and picoeukaryote climatological estimates provided by Darwin model.\n",
    "\n",
    "<br/> \n",
    "**Notes:**<br/> \n",
    "\n",
    "* In-Situ picoeukaryote abundance measurements are results of the SeaFlow data set with 3-minute temporal resultion and irregular spatial resultion.\n",
    "\n",
    "* Satellite Chlorophyll data used in this example is a daily-global reprocessed and optimally interpolated data set with $4~{\\rm km}\\times4~{\\rm km}$ spatial resolution. \n",
    "\n",
    "* Darwin_Climatology is a monthly climatology version of the Darwin model with spatial resolution $\\frac{1}{2}^\\circ \\times \\frac{1}{2}^\\circ$.<br/>\n",
    "\n",
    "<br/>\n"
   ]
  },
  {
   "cell_type": "code",
   "execution_count": 2,
   "metadata": {},
   "outputs": [
    {
     "data": {
      "application/vnd.jupyter.widget-view+json": {
       "model_id": "8b62a775b6ce480ba98cde8e15c1d8d7",
       "version_major": 2,
       "version_minor": 0
      },
      "text/plain": [
       "HBox(children=(IntProgress(value=0, description='overall', max=3, style=ProgressStyle(description_width='initi…"
      ]
     },
     "metadata": {},
     "output_type": "display_data"
    },
    {
     "data": {
      "application/vnd.jupyter.widget-view+json": {
       "model_id": "7725cb7b269946999c152c646ea5beba",
       "version_major": 2,
       "version_minor": 0
      },
      "text/plain": [
       "HBox(children=(IntProgress(value=0, description='picoeuk_abundance', max=30, style=ProgressStyle(description_w…"
      ]
     },
     "metadata": {},
     "output_type": "display_data"
    },
    {
     "data": {
      "application/vnd.jupyter.widget-view+json": {
       "model_id": "28a82b424bb941b5a9db772913e69821",
       "version_major": 2,
       "version_minor": 0
      },
      "text/plain": [
       "HBox(children=(IntProgress(value=0, description='picoeukaryote_c03_darwin_clim', max=30, style=ProgressStyle(d…"
      ]
     },
     "metadata": {},
     "output_type": "display_data"
    },
    {
     "data": {
      "application/vnd.jupyter.widget-view+json": {
       "model_id": "2186a80231d24859bca9e1b9ac4f2d74",
       "version_major": 2,
       "version_minor": 0
      },
      "text/plain": [
       "HBox(children=(IntProgress(value=0, description='chl', max=30, style=ProgressStyle(description_width='initial'…"
      ]
     },
     "metadata": {},
     "output_type": "display_data"
    },
    {
     "name": "stdout",
     "output_type": "stream",
     "text": [
      "\n"
     ]
    },
    {
     "data": {
      "text/html": [
       "\n",
       "\n",
       "\n",
       "\n",
       "\n",
       "\n",
       "  <div class=\"bk-root\" id=\"03e30323-e309-4520-b4ad-0a667941d418\" data-root-id=\"1257\"></div>\n"
      ]
     },
     "metadata": {},
     "output_type": "display_data"
    },
    {
     "data": {
      "application/javascript": [
       "(function(root) {\n",
       "  function embed_document(root) {\n",
       "    \n",
       "  var docs_json = {\"617803bf-c5c9-443e-a344-09d3805a1141\":{\"roots\":{\"references\":[{\"attributes\":{\"children\":[{\"id\":\"1002\",\"subtype\":\"Figure\",\"type\":\"Plot\"},{\"id\":\"1087\",\"subtype\":\"Figure\",\"type\":\"Plot\"},{\"id\":\"1172\",\"subtype\":\"Figure\",\"type\":\"Plot\"}]},\"id\":\"1257\",\"type\":\"Column\"},{\"attributes\":{},\"id\":\"1226\",\"type\":\"BasicTickFormatter\"},{\"attributes\":{\"callback\":null,\"mode\":\"hline\",\"renderers\":[{\"id\":\"1222\",\"type\":\"GlyphRenderer\"}],\"tooltips\":null},\"id\":\"1253\",\"type\":\"HoverTool\"},{\"attributes\":{},\"id\":\"1288\",\"type\":\"Selection\"},{\"attributes\":{},\"id\":\"1252\",\"type\":\"Selection\"},{\"attributes\":{\"bottom_units\":\"screen\",\"fill_alpha\":{\"value\":0.5},\"fill_color\":{\"value\":\"lightgrey\"},\"left_units\":\"screen\",\"level\":\"overlay\",\"line_alpha\":{\"value\":1.0},\"line_color\":{\"value\":\"black\"},\"line_dash\":[4,4],\"line_width\":{\"value\":2},\"render_mode\":\"css\",\"right_units\":\"screen\",\"top_units\":\"screen\"},\"id\":\"1230\",\"type\":\"BoxAnnotation\"},{\"attributes\":{\"below\":[{\"id\":\"1181\",\"type\":\"LinearAxis\"}],\"center\":[{\"id\":\"1185\",\"type\":\"Grid\"},{\"id\":\"1190\",\"type\":\"Grid\"},{\"id\":\"1234\",\"type\":\"Legend\"}],\"left\":[{\"id\":\"1186\",\"type\":\"LinearAxis\"}],\"plot_height\":400,\"plot_width\":800,\"renderers\":[{\"id\":\"1222\",\"type\":\"GlyphRenderer\"},{\"id\":\"1239\",\"type\":\"GlyphRenderer\"}],\"title\":{\"id\":\"1225\",\"type\":\"Title\"},\"toolbar\":{\"id\":\"1204\",\"type\":\"Toolbar\"},\"toolbar_location\":\"above\",\"x_range\":{\"id\":\"1173\",\"type\":\"DataRange1d\"},\"x_scale\":{\"id\":\"1177\",\"type\":\"LinearScale\"},\"y_range\":{\"id\":\"1175\",\"type\":\"DataRange1d\"},\"y_scale\":{\"id\":\"1179\",\"type\":\"LinearScale\"}},\"id\":\"1172\",\"subtype\":\"Figure\",\"type\":\"Plot\"},{\"attributes\":{\"data_source\":{\"id\":\"1218\",\"type\":\"ColumnDataSource\"},\"glyph\":{\"id\":\"1219\",\"type\":\"Circle\"},\"hover_glyph\":{\"id\":\"1221\",\"type\":\"Circle\"},\"muted_glyph\":null,\"nonselection_glyph\":{\"id\":\"1220\",\"type\":\"Circle\"},\"selection_glyph\":null,\"view\":{\"id\":\"1223\",\"type\":\"CDSView\"}},\"id\":\"1222\",\"type\":\"GlyphRenderer\"},{\"attributes\":{\"bottom_units\":\"screen\",\"fill_alpha\":{\"value\":0.5},\"fill_color\":{\"value\":\"lightgrey\"},\"left_units\":\"screen\",\"level\":\"overlay\",\"line_alpha\":{\"value\":1.0},\"line_color\":{\"value\":\"black\"},\"line_dash\":[4,4],\"line_width\":{\"value\":2},\"render_mode\":\"css\",\"right_units\":\"screen\",\"top_units\":\"screen\"},\"id\":\"1231\",\"type\":\"BoxAnnotation\"},{\"attributes\":{\"active_drag\":\"auto\",\"active_inspect\":\"auto\",\"active_multi\":null,\"active_scroll\":\"auto\",\"active_tap\":\"auto\",\"tools\":[{\"id\":\"1106\",\"type\":\"PanTool\"},{\"id\":\"1107\",\"type\":\"WheelZoomTool\"},{\"id\":\"1108\",\"type\":\"ZoomInTool\"},{\"id\":\"1109\",\"type\":\"ZoomOutTool\"},{\"id\":\"1110\",\"type\":\"BoxZoomTool\"},{\"id\":\"1111\",\"type\":\"UndoTool\"},{\"id\":\"1112\",\"type\":\"RedoTool\"},{\"id\":\"1113\",\"type\":\"ResetTool\"},{\"id\":\"1114\",\"type\":\"TapTool\"},{\"id\":\"1115\",\"type\":\"SaveTool\"},{\"id\":\"1116\",\"type\":\"BoxSelectTool\"},{\"id\":\"1117\",\"type\":\"PolySelectTool\"},{\"id\":\"1118\",\"type\":\"LassoSelectTool\"},{\"id\":\"1168\",\"type\":\"HoverTool\"}]},\"id\":\"1119\",\"type\":\"Toolbar\"},{\"attributes\":{},\"id\":\"1106\",\"type\":\"PanTool\"},{\"attributes\":{\"days\":[\"%d %B %Y %H:%M:%S\"],\"hours\":[\"%d %B %Y %H:%M:%S\"],\"months\":[\"%d %B %Y %H:%M:%S\"],\"years\":[\"%d %B %Y %H:%M:%S\"]},\"id\":\"1170\",\"type\":\"DatetimeTickFormatter\"},{\"attributes\":{\"fill_alpha\":{\"value\":0.5},\"fill_color\":{\"value\":\"lightgrey\"},\"level\":\"overlay\",\"line_alpha\":{\"value\":1.0},\"line_color\":{\"value\":\"black\"},\"line_dash\":[4,4],\"line_width\":{\"value\":2},\"xs_units\":\"screen\",\"ys_units\":\"screen\"},\"id\":\"1232\",\"type\":\"PolyAnnotation\"},{\"attributes\":{\"callback\":null},\"id\":\"1175\",\"type\":\"DataRange1d\"},{\"attributes\":{},\"id\":\"1177\",\"type\":\"LinearScale\"},{\"attributes\":{},\"id\":\"1107\",\"type\":\"WheelZoomTool\"},{\"attributes\":{\"fill_alpha\":{\"value\":0.5},\"fill_color\":{\"value\":\"lightgrey\"},\"level\":\"overlay\",\"line_alpha\":{\"value\":1.0},\"line_color\":{\"value\":\"black\"},\"line_dash\":[4,4],\"line_width\":{\"value\":2},\"xs_units\":\"screen\",\"ys_units\":\"screen\"},\"id\":\"1233\",\"type\":\"PolyAnnotation\"},{\"attributes\":{},\"id\":\"1279\",\"type\":\"UnionRenderers\"},{\"attributes\":{\"items\":[{\"id\":\"1235\",\"type\":\"LegendItem\"}]},\"id\":\"1234\",\"type\":\"Legend\"},{\"attributes\":{},\"id\":\"1179\",\"type\":\"LinearScale\"},{\"attributes\":{},\"id\":\"1108\",\"type\":\"ZoomInTool\"},{\"attributes\":{\"bottom_units\":\"screen\",\"fill_alpha\":{\"value\":0.5},\"fill_color\":{\"value\":\"lightgrey\"},\"left_units\":\"screen\",\"level\":\"overlay\",\"line_alpha\":{\"value\":1.0},\"line_color\":{\"value\":\"black\"},\"line_dash\":[4,4],\"line_width\":{\"value\":2},\"render_mode\":\"css\",\"right_units\":\"screen\",\"top_units\":\"screen\"},\"id\":\"1061\",\"type\":\"BoxAnnotation\"},{\"attributes\":{\"formatter\":{\"id\":\"1255\",\"type\":\"DatetimeTickFormatter\"},\"major_label_orientation\":0.7853981633974483,\"ticker\":{\"id\":\"1182\",\"type\":\"BasicTicker\"}},\"id\":\"1181\",\"type\":\"LinearAxis\"},{\"attributes\":{},\"id\":\"1109\",\"type\":\"ZoomOutTool\"},{\"attributes\":{\"label\":{\"value\":\"Along Track (TN292) chl\"},\"renderers\":[{\"id\":\"1222\",\"type\":\"GlyphRenderer\"},{\"id\":\"1239\",\"type\":\"GlyphRenderer\"}]},\"id\":\"1235\",\"type\":\"LegendItem\"},{\"attributes\":{},\"id\":\"1166\",\"type\":\"UnionRenderers\"},{\"attributes\":{\"overlay\":{\"id\":\"1145\",\"type\":\"BoxAnnotation\"}},\"id\":\"1110\",\"type\":\"BoxZoomTool\"},{\"attributes\":{},\"id\":\"1182\",\"type\":\"BasicTicker\"},{\"attributes\":{\"callback\":null,\"data\":{\"x\":[1362506400000.0,1362528000000.0,1362549600000.0,1362571200000.0,1362592800000.0,1362614400000.0,1362636000000.0,1362657600000.0,1362679200000.0,1362700800000.0,1362722400000.0,1362744000000.0,1362765600000.0,1362787200000.0,1362808800000.0,1362830400000.0,1362852000000.0,1362873600000.0,1362895200000.0,1362916800000.0,1362938400000.0,1362960000000.0,1362981600000.0,1363003200000.0,1363024800000.0,1363046400000.0,1363068000000.0,1363089600000.0,1363111200000.0,1363132800000.0],\"y\":{\"__ndarray__\":\"OjaUh0cJAEAkVpsaugPzP7H5is9rwuo/hnd3H4BK4T9ZVPBCuBLgP/qHxgIiXeA/J7676/PJ3z/oEBERIZDWPwNT8JJ4b9E/nAJOAC5S0j8e2rYNE8nSP2hYH0rIAdQ/GBVfQUH/0z+jEI2xN//FP9ZBYy0sWso/Qs3znEI3zz8A86GJvoa+P24HOk2ii7M/PyAac7dNsj/rGes3p3KwP7Cdgj+jPLA/ANVBzZZCrT/D9aGhDsywPzKClyvirq4/TOmgvq4msT+NWh9KGxmtP3npee76H6o/jdhoXX2apj+IdzmNft2kPzTKDrO+v6Q/\",\"dtype\":\"float64\",\"shape\":[30]}},\"selected\":{\"id\":\"1296\",\"type\":\"Selection\"},\"selection_policy\":{\"id\":\"1295\",\"type\":\"UnionRenderers\"}},\"id\":\"1236\",\"type\":\"ColumnDataSource\"},{\"attributes\":{\"ticker\":{\"id\":\"1182\",\"type\":\"BasicTicker\"}},\"id\":\"1185\",\"type\":\"Grid\"},{\"attributes\":{},\"id\":\"1111\",\"type\":\"UndoTool\"},{\"attributes\":{\"callback\":null,\"data\":{\"x\":[1362506400000.0,1362528000000.0,1362549600000.0,1362571200000.0,1362592800000.0,1362614400000.0,1362636000000.0,1362657600000.0,1362679200000.0,1362700800000.0,1362722400000.0,1362744000000.0,1362765600000.0,1362787200000.0,1362808800000.0,1362830400000.0,1362852000000.0,1362873600000.0,1362895200000.0,1362916800000.0,1362938400000.0,1362960000000.0,1362981600000.0,1363003200000.0,1363024800000.0,1363046400000.0,1363068000000.0,1363089600000.0,1363111200000.0,1363132800000.0],\"y\":{\"__ndarray__\":\"AAAAAAAA+H8AAAAAAAD4f1XFjqWTlcQ/ZLk6Oo04wj/ffumCNMLBP2X8XrfGb8A/GT5cUc4AwD8lAjhqQ82/P6SLTSuFQMA/tLHx5MOBwD8Lk07J3vfAP5zLJiPbF8E/xJm6hnRTwT9W79Nl75TBP2obHHj3eME/OKeKkFczwT9YrQrc07jAP6clFCpRWb8/AhzvTHADvT9GhpQg1RC8P+eTDVKN6rg/PEpnWHNdtj8rfc/lWYuzP1GShRpLebA/0O6xcGlnrj/EjxMh06ypP3cXxf70l6U/qY9BoJPboj9OAYSdz/GhPzDEAy3RF6I/\",\"dtype\":\"float64\",\"shape\":[30]}},\"selected\":{\"id\":\"1288\",\"type\":\"Selection\"},\"selection_policy\":{\"id\":\"1287\",\"type\":\"UnionRenderers\"}},\"id\":\"1151\",\"type\":\"ColumnDataSource\"},{\"attributes\":{\"line_color\":\"darkturquoise\",\"line_width\":2,\"x\":{\"field\":\"x\"},\"y\":{\"field\":\"y\"}},\"id\":\"1237\",\"type\":\"Line\"},{\"attributes\":{\"line_color\":\"darkturquoise\",\"line_width\":2,\"x\":{\"field\":\"x\"},\"y\":{\"field\":\"y\"}},\"id\":\"1152\",\"type\":\"Line\"},{\"attributes\":{\"axis_label\":\"chl [mg/m^3]\",\"formatter\":{\"id\":\"1226\",\"type\":\"BasicTickFormatter\"},\"ticker\":{\"id\":\"1187\",\"type\":\"BasicTicker\"}},\"id\":\"1186\",\"type\":\"LinearAxis\"},{\"attributes\":{},\"id\":\"1112\",\"type\":\"RedoTool\"},{\"attributes\":{\"callback\":null,\"mode\":\"hline\",\"renderers\":[{\"id\":\"1137\",\"type\":\"GlyphRenderer\"}],\"tooltips\":null},\"id\":\"1168\",\"type\":\"HoverTool\"},{\"attributes\":{\"line_alpha\":0.1,\"line_color\":\"#1f77b4\",\"line_width\":2,\"x\":{\"field\":\"x\"},\"y\":{\"field\":\"y\"}},\"id\":\"1238\",\"type\":\"Line\"},{\"attributes\":{},\"id\":\"1113\",\"type\":\"ResetTool\"},{\"attributes\":{},\"id\":\"1187\",\"type\":\"BasicTicker\"},{\"attributes\":{},\"id\":\"1167\",\"type\":\"Selection\"},{\"attributes\":{\"data_source\":{\"id\":\"1151\",\"type\":\"ColumnDataSource\"},\"glyph\":{\"id\":\"1152\",\"type\":\"Line\"},\"hover_glyph\":null,\"muted_glyph\":null,\"nonselection_glyph\":{\"id\":\"1153\",\"type\":\"Line\"},\"selection_glyph\":null,\"view\":{\"id\":\"1155\",\"type\":\"CDSView\"}},\"id\":\"1154\",\"type\":\"GlyphRenderer\"},{\"attributes\":{\"dimension\":1,\"ticker\":{\"id\":\"1187\",\"type\":\"BasicTicker\"}},\"id\":\"1190\",\"type\":\"Grid\"},{\"attributes\":{\"callback\":null},\"id\":\"1114\",\"type\":\"TapTool\"},{\"attributes\":{\"fill_alpha\":{\"value\":0.5},\"fill_color\":{\"value\":\"lightgrey\"},\"level\":\"overlay\",\"line_alpha\":{\"value\":1.0},\"line_color\":{\"value\":\"black\"},\"line_dash\":[4,4],\"line_width\":{\"value\":2},\"xs_units\":\"screen\",\"ys_units\":\"screen\"},\"id\":\"1063\",\"type\":\"PolyAnnotation\"},{\"attributes\":{},\"id\":\"1115\",\"type\":\"SaveTool\"},{\"attributes\":{\"source\":{\"id\":\"1151\",\"type\":\"ColumnDataSource\"}},\"id\":\"1155\",\"type\":\"CDSView\"},{\"attributes\":{\"source\":{\"id\":\"1236\",\"type\":\"ColumnDataSource\"}},\"id\":\"1240\",\"type\":\"CDSView\"},{\"attributes\":{\"formatter\":{\"id\":\"1085\",\"type\":\"DatetimeTickFormatter\"},\"major_label_orientation\":0.7853981633974483,\"ticker\":{\"id\":\"1012\",\"type\":\"BasicTicker\"}},\"id\":\"1011\",\"type\":\"LinearAxis\"},{\"attributes\":{\"callback\":null,\"overlay\":{\"id\":\"1146\",\"type\":\"BoxAnnotation\"}},\"id\":\"1116\",\"type\":\"BoxSelectTool\"},{\"attributes\":{},\"id\":\"1251\",\"type\":\"UnionRenderers\"},{\"attributes\":{},\"id\":\"1007\",\"type\":\"LinearScale\"},{\"attributes\":{\"callback\":null,\"overlay\":{\"id\":\"1147\",\"type\":\"PolyAnnotation\"}},\"id\":\"1117\",\"type\":\"PolySelectTool\"},{\"attributes\":{},\"id\":\"1027\",\"type\":\"RedoTool\"},{\"attributes\":{\"items\":[{\"id\":\"1150\",\"type\":\"LegendItem\"}]},\"id\":\"1149\",\"type\":\"Legend\"},{\"attributes\":{\"callback\":null,\"overlay\":{\"id\":\"1148\",\"type\":\"PolyAnnotation\"}},\"id\":\"1118\",\"type\":\"LassoSelectTool\"},{\"attributes\":{\"fill_alpha\":{\"value\":0.3},\"fill_color\":{\"value\":\"grey\"},\"line_color\":{\"value\":null},\"size\":{\"units\":\"screen\",\"value\":30},\"x\":{\"field\":\"x\"},\"y\":{\"field\":\"y\"}},\"id\":\"1219\",\"type\":\"Circle\"},{\"attributes\":{\"active_drag\":\"auto\",\"active_inspect\":\"auto\",\"active_multi\":null,\"active_scroll\":\"auto\",\"active_tap\":\"auto\",\"tools\":[{\"id\":\"1191\",\"type\":\"PanTool\"},{\"id\":\"1192\",\"type\":\"WheelZoomTool\"},{\"id\":\"1193\",\"type\":\"ZoomInTool\"},{\"id\":\"1194\",\"type\":\"ZoomOutTool\"},{\"id\":\"1195\",\"type\":\"BoxZoomTool\"},{\"id\":\"1196\",\"type\":\"UndoTool\"},{\"id\":\"1197\",\"type\":\"RedoTool\"},{\"id\":\"1198\",\"type\":\"ResetTool\"},{\"id\":\"1199\",\"type\":\"TapTool\"},{\"id\":\"1200\",\"type\":\"SaveTool\"},{\"id\":\"1201\",\"type\":\"BoxSelectTool\"},{\"id\":\"1202\",\"type\":\"PolySelectTool\"},{\"id\":\"1203\",\"type\":\"LassoSelectTool\"},{\"id\":\"1253\",\"type\":\"HoverTool\"}]},\"id\":\"1204\",\"type\":\"Toolbar\"},{\"attributes\":{\"line_alpha\":0.1,\"line_color\":\"#1f77b4\",\"line_width\":2,\"x\":{\"field\":\"x\"},\"y\":{\"field\":\"y\"}},\"id\":\"1153\",\"type\":\"Line\"},{\"attributes\":{},\"id\":\"1028\",\"type\":\"ResetTool\"},{\"attributes\":{\"data_source\":{\"id\":\"1133\",\"type\":\"ColumnDataSource\"},\"glyph\":{\"id\":\"1134\",\"type\":\"Circle\"},\"hover_glyph\":{\"id\":\"1136\",\"type\":\"Circle\"},\"muted_glyph\":null,\"nonselection_glyph\":{\"id\":\"1135\",\"type\":\"Circle\"},\"selection_glyph\":null,\"view\":{\"id\":\"1138\",\"type\":\"CDSView\"}},\"id\":\"1137\",\"type\":\"GlyphRenderer\"},{\"attributes\":{},\"id\":\"1191\",\"type\":\"PanTool\"},{\"attributes\":{\"source\":{\"id\":\"1133\",\"type\":\"ColumnDataSource\"}},\"id\":\"1138\",\"type\":\"CDSView\"},{\"attributes\":{\"fill_alpha\":{\"value\":0.5},\"fill_color\":{\"value\":\"lightgrey\"},\"level\":\"overlay\",\"line_alpha\":{\"value\":1.0},\"line_color\":{\"value\":\"black\"},\"line_dash\":[4,4],\"line_width\":{\"value\":2},\"xs_units\":\"screen\",\"ys_units\":\"screen\"},\"id\":\"1062\",\"type\":\"PolyAnnotation\"},{\"attributes\":{},\"id\":\"1009\",\"type\":\"LinearScale\"},{\"attributes\":{\"fill_alpha\":{\"value\":0.3},\"fill_color\":{\"value\":\"firebrick\"},\"line_alpha\":{\"value\":0.3},\"line_color\":{\"value\":\"white\"},\"size\":{\"units\":\"screen\",\"value\":30},\"x\":{\"field\":\"x\"},\"y\":{\"field\":\"y\"}},\"id\":\"1136\",\"type\":\"Circle\"},{\"attributes\":{},\"id\":\"1192\",\"type\":\"WheelZoomTool\"},{\"attributes\":{\"below\":[{\"id\":\"1011\",\"type\":\"LinearAxis\"}],\"center\":[{\"id\":\"1015\",\"type\":\"Grid\"},{\"id\":\"1020\",\"type\":\"Grid\"},{\"id\":\"1064\",\"type\":\"Legend\"}],\"left\":[{\"id\":\"1016\",\"type\":\"LinearAxis\"}],\"plot_height\":400,\"plot_width\":800,\"renderers\":[{\"id\":\"1052\",\"type\":\"GlyphRenderer\"},{\"id\":\"1069\",\"type\":\"GlyphRenderer\"}],\"title\":{\"id\":\"1055\",\"type\":\"Title\"},\"toolbar\":{\"id\":\"1034\",\"type\":\"Toolbar\"},\"toolbar_location\":\"above\",\"x_range\":{\"id\":\"1003\",\"type\":\"DataRange1d\"},\"x_scale\":{\"id\":\"1007\",\"type\":\"LinearScale\"},\"y_range\":{\"id\":\"1005\",\"type\":\"DataRange1d\"},\"y_scale\":{\"id\":\"1009\",\"type\":\"LinearScale\"}},\"id\":\"1002\",\"subtype\":\"Figure\",\"type\":\"Plot\"},{\"attributes\":{\"label\":{\"value\":\"Along Track (TN292) picoeukaryote_c03_darwin_clim\"},\"renderers\":[{\"id\":\"1137\",\"type\":\"GlyphRenderer\"},{\"id\":\"1154\",\"type\":\"GlyphRenderer\"}]},\"id\":\"1150\",\"type\":\"LegendItem\"},{\"attributes\":{},\"id\":\"1193\",\"type\":\"ZoomInTool\"},{\"attributes\":{\"callback\":null,\"data\":{\"x\":[1362506400000.0,1362528000000.0,1362549600000.0,1362571200000.0,1362592800000.0,1362614400000.0,1362636000000.0,1362657600000.0,1362679200000.0,1362700800000.0,1362722400000.0,1362744000000.0,1362765600000.0,1362787200000.0,1362808800000.0,1362830400000.0,1362852000000.0,1362873600000.0,1362895200000.0,1362916800000.0,1362938400000.0,1362960000000.0,1362981600000.0,1363003200000.0,1363024800000.0,1363046400000.0,1363068000000.0,1363089600000.0,1363111200000.0,1363132800000.0],\"y\":{\"__ndarray__\":\"EWghGuHR/j/t5N6skYMTQKO6K+a8qRRArfQ2ImMtM0Ap/I5LZ+0pQNIYyUTclCJAns0qkT9VEEADtSxZX84RQAMEfxre8RdAg3/+stnDJkBSRyPUC8sbQH3z5BKPEx1AHSyWjGiTGEDmCrkmvAwjQLWLe23TgyBAu4UiC0b3G0DdGFXG45YMQATT196dvANA+35isZUf/T9J0TzxXJ37P1UoRbTFa/k/HpetMVEL/z+nUepyjrL1P/vWBZ88If4/v3VqRyAB/j/eHjMsCsn9PxOPANiN//Y/ROPl5ocY/D9WNAHCM4f1P2lQkHFLnfQ/\",\"dtype\":\"float64\",\"shape\":[30]}},\"selected\":{\"id\":\"1082\",\"type\":\"Selection\"},\"selection_policy\":{\"id\":\"1081\",\"type\":\"UnionRenderers\"}},\"id\":\"1048\",\"type\":\"ColumnDataSource\"},{\"attributes\":{\"fill_alpha\":{\"value\":0.1},\"fill_color\":{\"value\":\"#1f77b4\"},\"line_alpha\":{\"value\":0.1},\"line_color\":{\"value\":\"#1f77b4\"},\"size\":{\"units\":\"screen\",\"value\":30},\"x\":{\"field\":\"x\"},\"y\":{\"field\":\"y\"}},\"id\":\"1135\",\"type\":\"Circle\"},{\"attributes\":{},\"id\":\"1194\",\"type\":\"ZoomOutTool\"},{\"attributes\":{},\"id\":\"1296\",\"type\":\"Selection\"},{\"attributes\":{\"fill_alpha\":{\"value\":0.3},\"fill_color\":{\"value\":\"grey\"},\"line_color\":{\"value\":null},\"size\":{\"units\":\"screen\",\"value\":30},\"x\":{\"field\":\"x\"},\"y\":{\"field\":\"y\"}},\"id\":\"1134\",\"type\":\"Circle\"},{\"attributes\":{\"overlay\":{\"id\":\"1230\",\"type\":\"BoxAnnotation\"}},\"id\":\"1195\",\"type\":\"BoxZoomTool\"},{\"attributes\":{},\"id\":\"1012\",\"type\":\"BasicTicker\"},{\"attributes\":{},\"id\":\"1017\",\"type\":\"BasicTicker\"},{\"attributes\":{},\"id\":\"1196\",\"type\":\"UndoTool\"},{\"attributes\":{\"below\":[{\"id\":\"1096\",\"type\":\"LinearAxis\"}],\"center\":[{\"id\":\"1100\",\"type\":\"Grid\"},{\"id\":\"1105\",\"type\":\"Grid\"},{\"id\":\"1149\",\"type\":\"Legend\"}],\"left\":[{\"id\":\"1101\",\"type\":\"LinearAxis\"}],\"plot_height\":400,\"plot_width\":800,\"renderers\":[{\"id\":\"1137\",\"type\":\"GlyphRenderer\"},{\"id\":\"1154\",\"type\":\"GlyphRenderer\"}],\"title\":{\"id\":\"1140\",\"type\":\"Title\"},\"toolbar\":{\"id\":\"1119\",\"type\":\"Toolbar\"},\"toolbar_location\":\"above\",\"x_range\":{\"id\":\"1088\",\"type\":\"DataRange1d\"},\"x_scale\":{\"id\":\"1092\",\"type\":\"LinearScale\"},\"y_range\":{\"id\":\"1090\",\"type\":\"DataRange1d\"},\"y_scale\":{\"id\":\"1094\",\"type\":\"LinearScale\"}},\"id\":\"1087\",\"subtype\":\"Figure\",\"type\":\"Plot\"},{\"attributes\":{},\"id\":\"1197\",\"type\":\"RedoTool\"},{\"attributes\":{},\"id\":\"1295\",\"type\":\"UnionRenderers\"},{\"attributes\":{},\"id\":\"1198\",\"type\":\"ResetTool\"},{\"attributes\":{\"fill_alpha\":{\"value\":0.3},\"fill_color\":{\"value\":\"grey\"},\"line_color\":{\"value\":null},\"size\":{\"units\":\"screen\",\"value\":30},\"x\":{\"field\":\"x\"},\"y\":{\"field\":\"y\"}},\"id\":\"1049\",\"type\":\"Circle\"},{\"attributes\":{},\"id\":\"1287\",\"type\":\"UnionRenderers\"},{\"attributes\":{\"dimension\":1,\"ticker\":{\"id\":\"1017\",\"type\":\"BasicTicker\"}},\"id\":\"1020\",\"type\":\"Grid\"},{\"attributes\":{\"callback\":null},\"id\":\"1199\",\"type\":\"TapTool\"},{\"attributes\":{\"ticker\":{\"id\":\"1012\",\"type\":\"BasicTicker\"}},\"id\":\"1015\",\"type\":\"Grid\"},{\"attributes\":{\"callback\":null,\"data\":{\"x\":[1362506400000.0,1362528000000.0,1362549600000.0,1362571200000.0,1362592800000.0,1362614400000.0,1362636000000.0,1362657600000.0,1362679200000.0,1362700800000.0,1362722400000.0,1362744000000.0,1362765600000.0,1362787200000.0,1362808800000.0,1362830400000.0,1362852000000.0,1362873600000.0,1362895200000.0,1362916800000.0,1362938400000.0,1362960000000.0,1362981600000.0,1363003200000.0,1363024800000.0,1363046400000.0,1363068000000.0,1363089600000.0,1363111200000.0,1363132800000.0],\"y\":{\"__ndarray__\":\"AAAAAAAA+H8AAAAAAAD4f1XFjqWTlcQ/ZLk6Oo04wj/ffumCNMLBP2X8XrfGb8A/GT5cUc4AwD8lAjhqQ82/P6SLTSuFQMA/tLHx5MOBwD8Lk07J3vfAP5zLJiPbF8E/xJm6hnRTwT9W79Nl75TBP2obHHj3eME/OKeKkFczwT9YrQrc07jAP6clFCpRWb8/AhzvTHADvT9GhpQg1RC8P+eTDVKN6rg/PEpnWHNdtj8rfc/lWYuzP1GShRpLebA/0O6xcGlnrj/EjxMh06ypP3cXxf70l6U/qY9BoJPboj9OAYSdz/GhPzDEAy3RF6I/\",\"dtype\":\"float64\",\"shape\":[30]}},\"selected\":{\"id\":\"1167\",\"type\":\"Selection\"},\"selection_policy\":{\"id\":\"1166\",\"type\":\"UnionRenderers\"}},\"id\":\"1133\",\"type\":\"ColumnDataSource\"},{\"attributes\":{\"fill_alpha\":{\"value\":0.5},\"fill_color\":{\"value\":\"lightgrey\"},\"level\":\"overlay\",\"line_alpha\":{\"value\":1.0},\"line_color\":{\"value\":\"black\"},\"line_dash\":[4,4],\"line_width\":{\"value\":2},\"xs_units\":\"screen\",\"ys_units\":\"screen\"},\"id\":\"1148\",\"type\":\"PolyAnnotation\"},{\"attributes\":{\"callback\":null},\"id\":\"1088\",\"type\":\"DataRange1d\"},{\"attributes\":{},\"id\":\"1200\",\"type\":\"SaveTool\"},{\"attributes\":{\"callback\":null},\"id\":\"1090\",\"type\":\"DataRange1d\"},{\"attributes\":{\"fill_alpha\":{\"value\":0.5},\"fill_color\":{\"value\":\"lightgrey\"},\"level\":\"overlay\",\"line_alpha\":{\"value\":1.0},\"line_color\":{\"value\":\"black\"},\"line_dash\":[4,4],\"line_width\":{\"value\":2},\"xs_units\":\"screen\",\"ys_units\":\"screen\"},\"id\":\"1147\",\"type\":\"PolyAnnotation\"},{\"attributes\":{},\"id\":\"1026\",\"type\":\"UndoTool\"},{\"attributes\":{\"callback\":null,\"overlay\":{\"id\":\"1231\",\"type\":\"BoxAnnotation\"}},\"id\":\"1201\",\"type\":\"BoxSelectTool\"},{\"attributes\":{\"bottom_units\":\"screen\",\"fill_alpha\":{\"value\":0.5},\"fill_color\":{\"value\":\"lightgrey\"},\"left_units\":\"screen\",\"level\":\"overlay\",\"line_alpha\":{\"value\":1.0},\"line_color\":{\"value\":\"black\"},\"line_dash\":[4,4],\"line_width\":{\"value\":2},\"render_mode\":\"css\",\"right_units\":\"screen\",\"top_units\":\"screen\"},\"id\":\"1146\",\"type\":\"BoxAnnotation\"},{\"attributes\":{},\"id\":\"1092\",\"type\":\"LinearScale\"},{\"attributes\":{\"callback\":null,\"overlay\":{\"id\":\"1232\",\"type\":\"PolyAnnotation\"}},\"id\":\"1202\",\"type\":\"PolySelectTool\"},{\"attributes\":{\"bottom_units\":\"screen\",\"fill_alpha\":{\"value\":0.5},\"fill_color\":{\"value\":\"lightgrey\"},\"left_units\":\"screen\",\"level\":\"overlay\",\"line_alpha\":{\"value\":1.0},\"line_color\":{\"value\":\"black\"},\"line_dash\":[4,4],\"line_width\":{\"value\":2},\"render_mode\":\"css\",\"right_units\":\"screen\",\"top_units\":\"screen\"},\"id\":\"1145\",\"type\":\"BoxAnnotation\"},{\"attributes\":{},\"id\":\"1094\",\"type\":\"LinearScale\"},{\"attributes\":{\"callback\":null,\"overlay\":{\"id\":\"1233\",\"type\":\"PolyAnnotation\"}},\"id\":\"1203\",\"type\":\"LassoSelectTool\"},{\"attributes\":{},\"id\":\"1023\",\"type\":\"ZoomInTool\"},{\"attributes\":{\"fill_alpha\":{\"value\":0.1},\"fill_color\":{\"value\":\"#1f77b4\"},\"line_alpha\":{\"value\":0.1},\"line_color\":{\"value\":\"#1f77b4\"},\"size\":{\"units\":\"screen\",\"value\":30},\"x\":{\"field\":\"x\"},\"y\":{\"field\":\"y\"}},\"id\":\"1050\",\"type\":\"Circle\"},{\"attributes\":{\"formatter\":{\"id\":\"1170\",\"type\":\"DatetimeTickFormatter\"},\"major_label_orientation\":0.7853981633974483,\"ticker\":{\"id\":\"1097\",\"type\":\"BasicTicker\"}},\"id\":\"1096\",\"type\":\"LinearAxis\"},{\"attributes\":{},\"id\":\"1141\",\"type\":\"BasicTickFormatter\"},{\"attributes\":{},\"id\":\"1021\",\"type\":\"PanTool\"},{\"attributes\":{},\"id\":\"1097\",\"type\":\"BasicTicker\"},{\"attributes\":{\"text\":\"\"},\"id\":\"1140\",\"type\":\"Title\"},{\"attributes\":{\"fill_alpha\":{\"value\":0.3},\"fill_color\":{\"value\":\"firebrick\"},\"line_alpha\":{\"value\":0.3},\"line_color\":{\"value\":\"white\"},\"size\":{\"units\":\"screen\",\"value\":30},\"x\":{\"field\":\"x\"},\"y\":{\"field\":\"y\"}},\"id\":\"1221\",\"type\":\"Circle\"},{\"attributes\":{\"ticker\":{\"id\":\"1097\",\"type\":\"BasicTicker\"}},\"id\":\"1100\",\"type\":\"Grid\"},{\"attributes\":{\"bottom_units\":\"screen\",\"fill_alpha\":{\"value\":0.5},\"fill_color\":{\"value\":\"lightgrey\"},\"left_units\":\"screen\",\"level\":\"overlay\",\"line_alpha\":{\"value\":1.0},\"line_color\":{\"value\":\"black\"},\"line_dash\":[4,4],\"line_width\":{\"value\":2},\"render_mode\":\"css\",\"right_units\":\"screen\",\"top_units\":\"screen\"},\"id\":\"1060\",\"type\":\"BoxAnnotation\"},{\"attributes\":{\"fill_alpha\":{\"value\":0.1},\"fill_color\":{\"value\":\"#1f77b4\"},\"line_alpha\":{\"value\":0.1},\"line_color\":{\"value\":\"#1f77b4\"},\"size\":{\"units\":\"screen\",\"value\":30},\"x\":{\"field\":\"x\"},\"y\":{\"field\":\"y\"}},\"id\":\"1220\",\"type\":\"Circle\"},{\"attributes\":{},\"id\":\"1280\",\"type\":\"Selection\"},{\"attributes\":{\"axis_label\":\"picoeukaryote_c03_darwin_clim [mmol C/]\",\"formatter\":{\"id\":\"1141\",\"type\":\"BasicTickFormatter\"},\"ticker\":{\"id\":\"1102\",\"type\":\"BasicTicker\"}},\"id\":\"1101\",\"type\":\"LinearAxis\"},{\"attributes\":{\"data_source\":{\"id\":\"1236\",\"type\":\"ColumnDataSource\"},\"glyph\":{\"id\":\"1237\",\"type\":\"Line\"},\"hover_glyph\":null,\"muted_glyph\":null,\"nonselection_glyph\":{\"id\":\"1238\",\"type\":\"Line\"},\"selection_glyph\":null,\"view\":{\"id\":\"1240\",\"type\":\"CDSView\"}},\"id\":\"1239\",\"type\":\"GlyphRenderer\"},{\"attributes\":{\"overlay\":{\"id\":\"1060\",\"type\":\"BoxAnnotation\"}},\"id\":\"1025\",\"type\":\"BoxZoomTool\"},{\"attributes\":{},\"id\":\"1024\",\"type\":\"ZoomOutTool\"},{\"attributes\":{\"source\":{\"id\":\"1218\",\"type\":\"ColumnDataSource\"}},\"id\":\"1223\",\"type\":\"CDSView\"},{\"attributes\":{},\"id\":\"1056\",\"type\":\"BasicTickFormatter\"},{\"attributes\":{},\"id\":\"1102\",\"type\":\"BasicTicker\"},{\"attributes\":{\"callback\":null,\"data\":{\"x\":[1362506400000.0,1362528000000.0,1362549600000.0,1362571200000.0,1362592800000.0,1362614400000.0,1362636000000.0,1362657600000.0,1362679200000.0,1362700800000.0,1362722400000.0,1362744000000.0,1362765600000.0,1362787200000.0,1362808800000.0,1362830400000.0,1362852000000.0,1362873600000.0,1362895200000.0,1362916800000.0,1362938400000.0,1362960000000.0,1362981600000.0,1363003200000.0,1363024800000.0,1363046400000.0,1363068000000.0,1363089600000.0,1363111200000.0,1363132800000.0],\"y\":{\"__ndarray__\":\"OjaUh0cJAEAkVpsaugPzP7H5is9rwuo/hnd3H4BK4T9ZVPBCuBLgP/qHxgIiXeA/J7676/PJ3z/oEBERIZDWPwNT8JJ4b9E/nAJOAC5S0j8e2rYNE8nSP2hYH0rIAdQ/GBVfQUH/0z+jEI2xN//FP9ZBYy0sWso/Qs3znEI3zz8A86GJvoa+P24HOk2ii7M/PyAac7dNsj/rGes3p3KwP7Cdgj+jPLA/ANVBzZZCrT/D9aGhDsywPzKClyvirq4/TOmgvq4msT+NWh9KGxmtP3npee76H6o/jdhoXX2apj+IdzmNft2kPzTKDrO+v6Q/\",\"dtype\":\"float64\",\"shape\":[30]}},\"selected\":{\"id\":\"1252\",\"type\":\"Selection\"},\"selection_policy\":{\"id\":\"1251\",\"type\":\"UnionRenderers\"}},\"id\":\"1218\",\"type\":\"ColumnDataSource\"},{\"attributes\":{\"days\":[\"%d %B %Y %H:%M:%S\"],\"hours\":[\"%d %B %Y %H:%M:%S\"],\"months\":[\"%d %B %Y %H:%M:%S\"],\"years\":[\"%d %B %Y %H:%M:%S\"]},\"id\":\"1255\",\"type\":\"DatetimeTickFormatter\"},{\"attributes\":{},\"id\":\"1022\",\"type\":\"WheelZoomTool\"},{\"attributes\":{\"text\":\"\"},\"id\":\"1225\",\"type\":\"Title\"},{\"attributes\":{\"dimension\":1,\"ticker\":{\"id\":\"1102\",\"type\":\"BasicTicker\"}},\"id\":\"1105\",\"type\":\"Grid\"},{\"attributes\":{\"callback\":null},\"id\":\"1005\",\"type\":\"DataRange1d\"},{\"attributes\":{\"source\":{\"id\":\"1048\",\"type\":\"ColumnDataSource\"}},\"id\":\"1053\",\"type\":\"CDSView\"},{\"attributes\":{\"line_color\":\"darkturquoise\",\"line_width\":2,\"x\":{\"field\":\"x\"},\"y\":{\"field\":\"y\"}},\"id\":\"1067\",\"type\":\"Line\"},{\"attributes\":{\"data_source\":{\"id\":\"1066\",\"type\":\"ColumnDataSource\"},\"glyph\":{\"id\":\"1067\",\"type\":\"Line\"},\"hover_glyph\":null,\"muted_glyph\":null,\"nonselection_glyph\":{\"id\":\"1068\",\"type\":\"Line\"},\"selection_glyph\":null,\"view\":{\"id\":\"1070\",\"type\":\"CDSView\"}},\"id\":\"1069\",\"type\":\"GlyphRenderer\"},{\"attributes\":{\"text\":\"\"},\"id\":\"1055\",\"type\":\"Title\"},{\"attributes\":{},\"id\":\"1081\",\"type\":\"UnionRenderers\"},{\"attributes\":{\"line_alpha\":0.1,\"line_color\":\"#1f77b4\",\"line_width\":2,\"x\":{\"field\":\"x\"},\"y\":{\"field\":\"y\"}},\"id\":\"1068\",\"type\":\"Line\"},{\"attributes\":{\"source\":{\"id\":\"1066\",\"type\":\"ColumnDataSource\"}},\"id\":\"1070\",\"type\":\"CDSView\"},{\"attributes\":{\"data_source\":{\"id\":\"1048\",\"type\":\"ColumnDataSource\"},\"glyph\":{\"id\":\"1049\",\"type\":\"Circle\"},\"hover_glyph\":{\"id\":\"1051\",\"type\":\"Circle\"},\"muted_glyph\":null,\"nonselection_glyph\":{\"id\":\"1050\",\"type\":\"Circle\"},\"selection_glyph\":null,\"view\":{\"id\":\"1053\",\"type\":\"CDSView\"}},\"id\":\"1052\",\"type\":\"GlyphRenderer\"},{\"attributes\":{\"days\":[\"%d %B %Y %H:%M:%S\"],\"hours\":[\"%d %B %Y %H:%M:%S\"],\"months\":[\"%d %B %Y %H:%M:%S\"],\"years\":[\"%d %B %Y %H:%M:%S\"]},\"id\":\"1085\",\"type\":\"DatetimeTickFormatter\"},{\"attributes\":{},\"id\":\"1082\",\"type\":\"Selection\"},{\"attributes\":{\"callback\":null,\"mode\":\"hline\",\"renderers\":[{\"id\":\"1052\",\"type\":\"GlyphRenderer\"}],\"tooltips\":null},\"id\":\"1083\",\"type\":\"HoverTool\"},{\"attributes\":{\"active_drag\":\"auto\",\"active_inspect\":\"auto\",\"active_multi\":null,\"active_scroll\":\"auto\",\"active_tap\":\"auto\",\"tools\":[{\"id\":\"1021\",\"type\":\"PanTool\"},{\"id\":\"1022\",\"type\":\"WheelZoomTool\"},{\"id\":\"1023\",\"type\":\"ZoomInTool\"},{\"id\":\"1024\",\"type\":\"ZoomOutTool\"},{\"id\":\"1025\",\"type\":\"BoxZoomTool\"},{\"id\":\"1026\",\"type\":\"UndoTool\"},{\"id\":\"1027\",\"type\":\"RedoTool\"},{\"id\":\"1028\",\"type\":\"ResetTool\"},{\"id\":\"1029\",\"type\":\"TapTool\"},{\"id\":\"1030\",\"type\":\"SaveTool\"},{\"id\":\"1031\",\"type\":\"BoxSelectTool\"},{\"id\":\"1032\",\"type\":\"PolySelectTool\"},{\"id\":\"1033\",\"type\":\"LassoSelectTool\"},{\"id\":\"1083\",\"type\":\"HoverTool\"}]},\"id\":\"1034\",\"type\":\"Toolbar\"},{\"attributes\":{\"fill_alpha\":{\"value\":0.3},\"fill_color\":{\"value\":\"firebrick\"},\"line_alpha\":{\"value\":0.3},\"line_color\":{\"value\":\"white\"},\"size\":{\"units\":\"screen\",\"value\":30},\"x\":{\"field\":\"x\"},\"y\":{\"field\":\"y\"}},\"id\":\"1051\",\"type\":\"Circle\"},{\"attributes\":{},\"id\":\"1030\",\"type\":\"SaveTool\"},{\"attributes\":{\"callback\":null,\"overlay\":{\"id\":\"1063\",\"type\":\"PolyAnnotation\"}},\"id\":\"1033\",\"type\":\"LassoSelectTool\"},{\"attributes\":{\"axis_label\":\"picoeuk_abundance [cells per microliter]\",\"formatter\":{\"id\":\"1056\",\"type\":\"BasicTickFormatter\"},\"ticker\":{\"id\":\"1017\",\"type\":\"BasicTicker\"}},\"id\":\"1016\",\"type\":\"LinearAxis\"},{\"attributes\":{\"callback\":null,\"overlay\":{\"id\":\"1062\",\"type\":\"PolyAnnotation\"}},\"id\":\"1032\",\"type\":\"PolySelectTool\"},{\"attributes\":{\"callback\":null,\"overlay\":{\"id\":\"1061\",\"type\":\"BoxAnnotation\"}},\"id\":\"1031\",\"type\":\"BoxSelectTool\"},{\"attributes\":{\"callback\":null},\"id\":\"1029\",\"type\":\"TapTool\"},{\"attributes\":{\"label\":{\"value\":\"Along Track (TN292) picoeuk_abundance\"},\"renderers\":[{\"id\":\"1052\",\"type\":\"GlyphRenderer\"},{\"id\":\"1069\",\"type\":\"GlyphRenderer\"}]},\"id\":\"1065\",\"type\":\"LegendItem\"},{\"attributes\":{\"items\":[{\"id\":\"1065\",\"type\":\"LegendItem\"}]},\"id\":\"1064\",\"type\":\"Legend\"},{\"attributes\":{\"callback\":null,\"data\":{\"x\":[1362506400000.0,1362528000000.0,1362549600000.0,1362571200000.0,1362592800000.0,1362614400000.0,1362636000000.0,1362657600000.0,1362679200000.0,1362700800000.0,1362722400000.0,1362744000000.0,1362765600000.0,1362787200000.0,1362808800000.0,1362830400000.0,1362852000000.0,1362873600000.0,1362895200000.0,1362916800000.0,1362938400000.0,1362960000000.0,1362981600000.0,1363003200000.0,1363024800000.0,1363046400000.0,1363068000000.0,1363089600000.0,1363111200000.0,1363132800000.0],\"y\":{\"__ndarray__\":\"EWghGuHR/j/t5N6skYMTQKO6K+a8qRRArfQ2ImMtM0Ap/I5LZ+0pQNIYyUTclCJAns0qkT9VEEADtSxZX84RQAMEfxre8RdAg3/+stnDJkBSRyPUC8sbQH3z5BKPEx1AHSyWjGiTGEDmCrkmvAwjQLWLe23TgyBAu4UiC0b3G0DdGFXG45YMQATT196dvANA+35isZUf/T9J0TzxXJ37P1UoRbTFa/k/HpetMVEL/z+nUepyjrL1P/vWBZ88If4/v3VqRyAB/j/eHjMsCsn9PxOPANiN//Y/ROPl5ocY/D9WNAHCM4f1P2lQkHFLnfQ/\",\"dtype\":\"float64\",\"shape\":[30]}},\"selected\":{\"id\":\"1280\",\"type\":\"Selection\"},\"selection_policy\":{\"id\":\"1279\",\"type\":\"UnionRenderers\"}},\"id\":\"1066\",\"type\":\"ColumnDataSource\"},{\"attributes\":{\"callback\":null},\"id\":\"1173\",\"type\":\"DataRange1d\"},{\"attributes\":{\"callback\":null},\"id\":\"1003\",\"type\":\"DataRange1d\"}],\"root_ids\":[\"1257\"]},\"title\":\"Bokeh Application\",\"version\":\"1.1.0\"}};\n",
       "  var render_items = [{\"docid\":\"617803bf-c5c9-443e-a344-09d3805a1141\",\"roots\":{\"1257\":\"03e30323-e309-4520-b4ad-0a667941d418\"}}];\n",
       "  root.Bokeh.embed.embed_items_notebook(docs_json, render_items);\n",
       "\n",
       "  }\n",
       "  if (root.Bokeh !== undefined) {\n",
       "    embed_document(root);\n",
       "  } else {\n",
       "    var attempts = 0;\n",
       "    var timer = setInterval(function(root) {\n",
       "      if (root.Bokeh !== undefined) {\n",
       "        embed_document(root);\n",
       "        clearInterval(timer);\n",
       "      }\n",
       "      attempts++;\n",
       "      if (attempts > 100) {\n",
       "        console.log(\"Bokeh: ERROR: Unable to run BokehJS code because BokehJS library is missing\");\n",
       "        clearInterval(timer);\n",
       "      }\n",
       "    }, 10, root)\n",
       "  }\n",
       "})(window);"
      ],
      "application/vnd.bokehjs_exec.v0+json": ""
     },
     "metadata": {
      "application/vnd.bokehjs_exec.v0+json": {
       "id": "1257"
      }
     },
     "output_type": "display_data"
    }
   ],
   "source": [
    "from opedia import plotCruise as CRS\n",
    "\n",
    "DB_Cruise = True                 # < True > if cruise trajectory already exists in DB. < False > if arbiturary cruise file (e.g. virtual) \n",
    "source = 'tblSeaFlow'            # cruise table name or path to csv trajectory file    \n",
    "cruise = 'TN292'              # cruise name, or file name of the csv trajectory file     \n",
    "resampTau = '6H'                 # resample the cruise trajectory making trajectory time-space resolution coarser: e.g. '6H' (6 hourly), '3T' (3 minutes), ... '0' (ignore)  \n",
    "fname = 'alongTrack'             # figure filename\n",
    "tables = ['tblSeaFlow', 'tblDarwin_Plankton_Climatology', 'tblCHL_OI_REP']    # list of varaible table names               \n",
    "variables = ['picoeuk_abundance', 'picoeukaryote_c03_darwin_clim', 'chl']               # list of variable names           \n",
    "spatialTolerance = 0.3           # colocalizer spatial tolerance (+/- degrees) \n",
    "exportDataFlag = False           # export the cruise trajectory and colocalized data on disk\n",
    "depth1 = 0                      # depth range start (m) \n",
    "depth2 = 5                       # depth range end (m)  \n",
    "\n",
    "\n",
    "df = CRS.getCruiseTrack(DB_Cruise, source, cruise)\n",
    "df = CRS.resample(df, resampTau) \n",
    "loadedTrack = CRS.plotAlongTrack(tables, variables, cruise, resampTau, df, spatialTolerance, depth1, depth2, fname, exportDataFlag, marker='-', msize=30, clr='darkturquoise')"
   ]
  },
  {
   "cell_type": "markdown",
   "metadata": {},
   "source": [
    "<br/> <br/> \n",
    "\n",
    "# Example3.1: Exact Amplicon Sequence Variants (16S) Along Cruise Track\n",
    "### Query by taxonomy level, clustering thereshold, and size fraction\n",
    "\n",
    "The example below retrieves the \"topN\" number of most abundant sequenced organisms along track of the cruise. One can aggregate and visualize the relative abundance of the organisms according to their taxonomy level, clustering levels, and size fractions. The cruise, 'ANT28-5', is an Atlantic latitudinal transect. <br/> <br/>\n",
    "\n",
    "**Thanks to Jed Fuhrman and Jesse McNichol (USC) for the beautiful dataset!**  <br/> <br/> "
   ]
  },
  {
   "cell_type": "code",
   "execution_count": null,
   "metadata": {},
   "outputs": [],
   "source": [
    "from opedia import esv\n",
    "\n",
    "############## set parameters ################\n",
    "# only plot the top_N number of most abundant organisms\n",
    "topN = 5           \n",
    "# aggregate organisims by their taxa level\n",
    "tax = ['domain', 'kingdom', 'phylum', 'class', 'order', 'genus', 'species'][5]\n",
    "depth1 = 20\n",
    "depth2 = depth1\n",
    "cruise_name = 'ANT28-5'\n",
    "cluster_level = [89, 92, 96, 97, 98, 99, 100][0]        # minimum similarity precentage to be clustred\n",
    "size_frac_lower = [0.2, 3, 8][0]                        # size in micro-meter\n",
    "size_frac_upper = [None, 3, 8][1]                       # size in micro-meter\n",
    "##############################################\n",
    "\n",
    "esv.plotESVs(topN, tax, depth1, depth2, cruise_name, cluster_level, size_frac_lower, size_frac_upper)"
   ]
  },
  {
   "cell_type": "markdown",
   "metadata": {},
   "source": [
    "<br/><br/>\n",
    "# Example3.2: Colocalize 16S dataset (or any other) with Model and Satellite\n",
    "\n",
    "Here, the retrieved trends of relative abundances are colocalized with other datasets, in this case with Darwin model. The results are stored in a .csv file in the ./data directory. "
   ]
  },
  {
   "cell_type": "code",
   "execution_count": null,
   "metadata": {},
   "outputs": [],
   "source": [
    "from opedia import colocalize as COL\n",
    "\n",
    "DB = False                           # < True > if source data exists in the database. < 0 > if the source data set is a spreadsheet file on disk. \n",
    "source = './data/esv.csv'            # the source table name (or full filename)    \n",
    "temporalTolerance = 3                # colocalizer temporal tolerance (+/- degrees)\n",
    "latTolerance = 0.3                   # colocalizer meridional tolerance (+/- degrees)\n",
    "lonTolerance = 0.3                   # colocalizer zonal tolerance (+/- degrees) \n",
    "depthTolerance = 5                   # colocalizer depth tolerance (+/- meters)\n",
    "tables = ['tblDarwin_Plankton_Climatology', 'tblDarwin_Plankton_Climatology', 'tblDarwin_Plankton_Climatology']    # list of varaible table names               \n",
    "variables = ['prokaryote_c01_darwin_clim', 'prokaryote_c02_darwin_clim', 'cocco_c05_darwin_clim']                  # list of variable names           \n",
    "exportPath = './data/loaded.csv'     # path to save the colocalized data set \n",
    "    \n",
    "COL.matchSource(DB, source, temporalTolerance, latTolerance, lonTolerance, depthTolerance, tables, variables, exportPath)    "
   ]
  },
  {
   "cell_type": "markdown",
   "metadata": {},
   "source": [
    "<br/><br/>\n",
    "# Simons Ocean Atlas Online Documentation "
   ]
  },
  {
   "cell_type": "code",
   "execution_count": null,
   "metadata": {},
   "outputs": [],
   "source": [
    "import IPython\n",
    "atlasURL = 'https://simons-ocean-atlas-documentation.readthedocs.io/en/latest/index.html'\n",
    "iframe = '<iframe src=' + atlasURL + ' width=1200 height=800></iframe>'\n",
    "IPython.display.HTML(iframe)"
   ]
  },
  {
   "cell_type": "code",
   "execution_count": null,
   "metadata": {},
   "outputs": [],
   "source": []
  }
 ],
 "metadata": {
  "kernelspec": {
   "display_name": "Python 3",
   "language": "python",
   "name": "python3"
  },
  "language_info": {
   "codemirror_mode": {
    "name": "ipython",
    "version": 3
   },
   "file_extension": ".py",
   "mimetype": "text/x-python",
   "name": "python",
   "nbconvert_exporter": "python",
   "pygments_lexer": "ipython3",
   "version": "3.7.3"
  }
 },
 "nbformat": 4,
 "nbformat_minor": 2
}
